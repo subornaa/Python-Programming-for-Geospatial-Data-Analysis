{
 "cells": [
  {
   "cell_type": "markdown",
   "metadata": {},
   "source": [
    "# Chapter 4: Errors and Exceptions in Python"
   ]
  },
  {
   "cell_type": "markdown",
   "metadata": {},
   "source": [
    "**Author: Dr. Suborna Ahmed**"
   ]
  },
  {
   "cell_type": "markdown",
   "metadata": {},
   "source": [
    "## <span style=\"color:blue\"> Learning Objectives:</span>     \n",
    "\n",
    "- Errors in Python:\n",
    "    - Logical Errors\n",
    "    - Syntax Errors\n",
    "    - Name Errors\n",
    "    - Type Errors\n",
    "    - Import Errors\n",
    "    - Value Errors\n",
    "    - Index Errors\n",
    "    \n",
    "- Exceptions in Python:\n",
    "    - Built-in exceptions\n",
    "    - Handling Exceptions\n",
    "    - Text Files IOError\n",
    "    \n",
    "- Fix an Error:\n",
    "    - Syntax errors\n",
    "    - Runtime errors\n",
    "\n",
    "- Scope:\n",
    "    - Local Variables\n",
    "    - Global Variables"
   ]
  },
  {
   "cell_type": "markdown",
   "metadata": {},
   "source": [
    "## 1. Errors in Python\n",
    "\n",
    "Errors in Python programming can be a common occurrence during coding. These errors can range from simple syntax mistakes to more complex logical issues. Some of the most common types of errors include syntax errors, and runtime errors, which occur during program execution. Other errors include name errors, type errors, import errors, value errors, and index errors. Understanding and effectively handling these errors is crucial for developing robust and error-free Python programs. It's also important to learn how to read the error messages to locate the error and helpful for debugging."
   ]
  },
  {
   "cell_type": "markdown",
   "metadata": {},
   "source": [
    "### 1.1 Logical Errors\n",
    "\n",
    "Logical errors occur when the code does not produce the expected output due to incorrect logic or algorithmic mistakes. These errors are not detected by the Python interpreter and require careful debugging to identify and fix.\n",
    "\n",
    "* These errors are the worst! \n",
    "\n",
    "* Arise when you complete a code section and it produces results.\n",
    "\n",
    "* But not what you wanted or expected! "
   ]
  },
  {
   "cell_type": "markdown",
   "metadata": {},
   "source": [
    "Logical Error Example:<br>\n",
    "I want to find sum of two values but I used multiplication math operator."
   ]
  },
  {
   "cell_type": "code",
   "execution_count": 1,
   "metadata": {},
   "outputs": [
    {
     "data": {
      "text/plain": [
       "10"
      ]
     },
     "execution_count": 1,
     "metadata": {},
     "output_type": "execute_result"
    }
   ],
   "source": [
    "def combine(arg1, arg2):\n",
    "    total = arg1 * arg2\n",
    "    return total\n",
    "\n",
    "combine(arg1=5, arg2=2)"
   ]
  },
  {
   "cell_type": "markdown",
   "metadata": {},
   "source": [
    "### 1.2 Syntax Errors\n",
    "\n",
    "Syntax errors occur when the code violates the syntax rules of Python, when proper wording or codes are not used. These errors are caught by the Python interpreter and are usually indicated by error messages that point to the specific line where the error occurred. Syntax errors need to be fixed before the code can be executed.\n",
    "\n",
    "* Error message might warn.\n",
    "* Cannot be executed by the interpreter (Python) and must be repaired before execution can occur.\n",
    "\n",
    "**Common causes:**\n",
    "* keyword is wrong;\n",
    "* variable name is wrong (reserved word);\n",
    "* indentation is not consistent;\n",
    "* not complete:\n",
    "    * an unclosed bracket ‘{’, ‘(’, etc.  \n",
    "    * omitting a colon ':'\n",
    "* left open quotes, lists, dictionaries, etc."
   ]
  },
  {
   "cell_type": "markdown",
   "metadata": {},
   "source": [
    "Examples:<br>\n",
    "Read the error messages carefully and correct the errors for the following code."
   ]
  },
  {
   "cell_type": "code",
   "execution_count": 2,
   "metadata": {},
   "outputs": [
    {
     "ename": "SyntaxError",
     "evalue": "unterminated string literal (detected at line 2) (210383151.py, line 2)",
     "output_type": "error",
     "traceback": [
      "\u001b[0;36m  Cell \u001b[0;32mIn[2], line 2\u001b[0;36m\u001b[0m\n\u001b[0;31m    nope = \"not working   correct this error\u001b[0m\n\u001b[0m           ^\u001b[0m\n\u001b[0;31mSyntaxError\u001b[0m\u001b[0;31m:\u001b[0m unterminated string literal (detected at line 2)\n"
     ]
    }
   ],
   "source": [
    "# correct this error and re-run this cell\n",
    "nope = \"not working   correct this error"
   ]
  },
  {
   "cell_type": "code",
   "execution_count": 3,
   "metadata": {},
   "outputs": [
    {
     "ename": "SyntaxError",
     "evalue": "unterminated string literal (detected at line 2) (2678537234.py, line 2)",
     "output_type": "error",
     "traceback": [
      "\u001b[0;36m  Cell \u001b[0;32mIn[3], line 2\u001b[0;36m\u001b[0m\n\u001b[0;31m    nope=\"still no'\u001b[0m\n\u001b[0m         ^\u001b[0m\n\u001b[0;31mSyntaxError\u001b[0m\u001b[0;31m:\u001b[0m unterminated string literal (detected at line 2)\n"
     ]
    }
   ],
   "source": [
    "# correct this error and re-run this cell\n",
    "nope=\"still no'"
   ]
  },
  {
   "cell_type": "markdown",
   "metadata": {},
   "source": [
    "```{admonition} Activity 1\n",
    "\n",
    "1. Correct the errors\n",
    "2. What type of errors they are? <br>\n",
    "\n",
    "<code>nope=[1,2,3,4,,5,6]</code> <br>\n",
    "<code>print \"hello World\"</code>\n",
    "``````"
   ]
  },
  {
   "cell_type": "code",
   "execution_count": 4,
   "metadata": {},
   "outputs": [],
   "source": [
    "# add your codes here for the above activity\n"
   ]
  },
  {
   "cell_type": "markdown",
   "metadata": {},
   "source": [
    "See [solution for activity 1](section-label-4.1) at the end."
   ]
  },
  {
   "cell_type": "markdown",
   "metadata": {},
   "source": [
    "There has a SyntaxError for the following code. <br>\n",
    "The `elif` keyword is used in Python to introduce another condition that should be checked if the preceding if or elif condition(s) is(are) not met. However, just like if, the elif keyword must be followed by a condition. In the code snippet below, the elif statement is missing a condition, which causes a syntax error."
   ]
  },
  {
   "cell_type": "code",
   "execution_count": 5,
   "metadata": {},
   "outputs": [
    {
     "ename": "SyntaxError",
     "evalue": "invalid syntax (1248089721.py, line 4)",
     "output_type": "error",
     "traceback": [
      "\u001b[0;36m  Cell \u001b[0;32mIn[5], line 4\u001b[0;36m\u001b[0m\n\u001b[0;31m    elif: print(\"smaller than 0\")\u001b[0m\n\u001b[0m        ^\u001b[0m\n\u001b[0;31mSyntaxError\u001b[0m\u001b[0;31m:\u001b[0m invalid syntax\n"
     ]
    }
   ],
   "source": [
    "# Example for more syntax error\n",
    "if (i > 0):\n",
    "    print(\"i is bigger than 0\")\n",
    "elif: print(\"smaller than 0\")"
   ]
  },
  {
   "cell_type": "code",
   "execution_count": 6,
   "metadata": {},
   "outputs": [
    {
     "name": "stdout",
     "output_type": "stream",
     "text": [
      "i is bigger than 0\n"
     ]
    }
   ],
   "source": [
    "# Corrected the above error\n",
    "i = 5\n",
    "if i > 0:\n",
    "    print(\"i is bigger than 0\")\n",
    "elif i < 0:\n",
    "    print(\"smaller than 0\")"
   ]
  },
  {
   "cell_type": "markdown",
   "metadata": {},
   "source": [
    "``````{admonition} Activity 2\n",
    "\n",
    "1. Correct the errors\n",
    "2. What type of errors they are? <br>\n",
    "\n",
    "**Problem 1**<br>\n",
    "```python\n",
    "for i in range(1,11, 2):\n",
    "    print(i)\n",
    "```\n",
    "**Problem 2**<br>\n",
    "```python\n",
    "for i in range(8,15, 2):\n",
    "    print(i)\n",
    "```\n",
    "\n",
    "``````"
   ]
  },
  {
   "cell_type": "markdown",
   "metadata": {},
   "source": [
    "See [solution for activity 2](section-label-4.2) at the end."
   ]
  },
  {
   "cell_type": "markdown",
   "metadata": {},
   "source": [
    "### 1.3 Name Errors\n",
    "\n",
    "Name errors occur when a variable or function name is used before it is defined or outside of its scope. This typically happens when the variable or function is misspelled or not declared in the current scope. Name errors can be resolved by ensuring that the variable or function is properly defined and accessible within the relevant scope.\n",
    "\n",
    "* Occur usually when mistyping a variable or function name.\n",
    "\n",
    "* Indicate that Python does not know about what you typed."
   ]
  },
  {
   "cell_type": "markdown",
   "metadata": {},
   "source": [
    "Example with name errors:"
   ]
  },
  {
   "cell_type": "markdown",
   "metadata": {},
   "source": [
    "The following code causes a NameError since the function `print` is mistyping."
   ]
  },
  {
   "cell_type": "code",
   "execution_count": 7,
   "metadata": {},
   "outputs": [
    {
     "ename": "NameError",
     "evalue": "name 'pint' is not defined",
     "output_type": "error",
     "traceback": [
      "\u001b[0;31m---------------------------------------------------------------------------\u001b[0m",
      "\u001b[0;31mNameError\u001b[0m                                 Traceback (most recent call last)",
      "Cell \u001b[0;32mIn[7], line 2\u001b[0m\n\u001b[1;32m      1\u001b[0m a \u001b[38;5;241m=\u001b[39m \u001b[38;5;124m'\u001b[39m\u001b[38;5;124mhiya\u001b[39m\u001b[38;5;124m'\u001b[39m\n\u001b[0;32m----> 2\u001b[0m \u001b[43mpint\u001b[49m(a)\n",
      "\u001b[0;31mNameError\u001b[0m: name 'pint' is not defined"
     ]
    }
   ],
   "source": [
    "a = 'hiya'\n",
    "pint(a)"
   ]
  },
  {
   "cell_type": "markdown",
   "metadata": {},
   "source": [
    "The following code causes a NameError since the variable \"b\" is not defined."
   ]
  },
  {
   "cell_type": "code",
   "execution_count": 8,
   "metadata": {},
   "outputs": [
    {
     "ename": "NameError",
     "evalue": "name 'b' is not defined",
     "output_type": "error",
     "traceback": [
      "\u001b[0;31m---------------------------------------------------------------------------\u001b[0m",
      "\u001b[0;31mNameError\u001b[0m                                 Traceback (most recent call last)",
      "Cell \u001b[0;32mIn[8], line 1\u001b[0m\n\u001b[0;32m----> 1\u001b[0m \u001b[38;5;28mprint\u001b[39m(\u001b[43mb\u001b[49m)\n",
      "\u001b[0;31mNameError\u001b[0m: name 'b' is not defined"
     ]
    }
   ],
   "source": [
    "print(b)"
   ]
  },
  {
   "cell_type": "markdown",
   "metadata": {},
   "source": [
    "### 1.4 Type Errors\n",
    "\n",
    "Type errors occur when an operation or function is performed on an object of an incompatible type. For example, trying to add a string and an integer will result in a type error; trying to divide a number by a letter also result in a type error. Type errors can be resolved by ensuring that the correct types are used for the intended operations or by performing appropriate type conversions."
   ]
  },
  {
   "cell_type": "markdown",
   "metadata": {},
   "source": [
    "The following code tries to add a string to a number, which causes the TypeError."
   ]
  },
  {
   "cell_type": "code",
   "execution_count": 9,
   "metadata": {},
   "outputs": [
    {
     "ename": "TypeError",
     "evalue": "can only concatenate str (not \"int\") to str",
     "output_type": "error",
     "traceback": [
      "\u001b[0;31m---------------------------------------------------------------------------\u001b[0m",
      "\u001b[0;31mTypeError\u001b[0m                                 Traceback (most recent call last)",
      "Cell \u001b[0;32mIn[9], line 4\u001b[0m\n\u001b[1;32m      2\u001b[0m a \u001b[38;5;241m=\u001b[39m \u001b[38;5;124m'\u001b[39m\u001b[38;5;124mhiya\u001b[39m\u001b[38;5;124m'\u001b[39m\n\u001b[1;32m      3\u001b[0m b \u001b[38;5;241m=\u001b[39m \u001b[38;5;241m5\u001b[39m\n\u001b[0;32m----> 4\u001b[0m \u001b[38;5;28mprint\u001b[39m(\u001b[43ma\u001b[49m\u001b[38;5;241;43m+\u001b[39;49m\u001b[43mb\u001b[49m)\n",
      "\u001b[0;31mTypeError\u001b[0m: can only concatenate str (not \"int\") to str"
     ]
    }
   ],
   "source": [
    "# Type Error\n",
    "a = 'hiya'\n",
    "b = 5\n",
    "print(a+b)"
   ]
  },
  {
   "cell_type": "markdown",
   "metadata": {},
   "source": [
    "### 1.5 Import Errors\n",
    "\n",
    "Import errors occur when there is a problem with importing a module or package in Python. This can happen if the module or package is not installed or if it cannot be found in the specified location. Import errors can be resolved by ensuring that the required module or package is installed and accessible to the Python interpreter."
   ]
  },
  {
   "cell_type": "markdown",
   "metadata": {},
   "source": [
    "Since there's no module called \"mathematics\", it causes the ModuleNotFoundError."
   ]
  },
  {
   "cell_type": "code",
   "execution_count": 10,
   "metadata": {},
   "outputs": [
    {
     "ename": "ModuleNotFoundError",
     "evalue": "No module named 'mathematics'",
     "output_type": "error",
     "traceback": [
      "\u001b[0;31m---------------------------------------------------------------------------\u001b[0m",
      "\u001b[0;31mModuleNotFoundError\u001b[0m                       Traceback (most recent call last)",
      "Cell \u001b[0;32mIn[10], line 2\u001b[0m\n\u001b[1;32m      1\u001b[0m \u001b[38;5;66;03m# error\u001b[39;00m\n\u001b[0;32m----> 2\u001b[0m \u001b[38;5;28;01mimport\u001b[39;00m \u001b[38;5;21;01mmathematics\u001b[39;00m\n",
      "\u001b[0;31mModuleNotFoundError\u001b[0m: No module named 'mathematics'"
     ]
    }
   ],
   "source": [
    "# error\n",
    "import mathematics"
   ]
  },
  {
   "cell_type": "code",
   "execution_count": 11,
   "metadata": {},
   "outputs": [],
   "source": [
    "# corrected \n",
    "import math"
   ]
  },
  {
   "cell_type": "markdown",
   "metadata": {},
   "source": [
    "### 1.6 Value Errors\n",
    "\n",
    "Value errors occur when a function receives an argument of the correct type but with an invalid / inappropriate value. For example, passing a negative number to a function that expects a positive number may result in a value error. Value errors can be resolved by validating input values and ensuring they fall within the acceptable range."
   ]
  },
  {
   "cell_type": "markdown",
   "metadata": {},
   "source": [
    "``````{admonition} Activity 3\n",
    "\n",
    "1. Correct the errors\n",
    "2. What type of errors they are?\n",
    "\n",
    "```python\n",
    "a = 5\n",
    "k = [3, 2, 4, 51, 6]\n",
    "k.remove(a)\n",
    "```\n",
    "\n",
    "``````"
   ]
  },
  {
   "cell_type": "markdown",
   "metadata": {},
   "source": [
    "See [solutions for activity 3](section-label-4.3) at the end."
   ]
  },
  {
   "cell_type": "markdown",
   "metadata": {},
   "source": [
    "### 1.7 Index Errors\n",
    "\n",
    "Index errors occur when attempting to access an element in a sequence using an invalid index. This typically happens when the index is out of range or does not exist in the sequence. Index errors can be resolved by checking the bounds of the sequence and ensuring that the index is within the valid range."
   ]
  },
  {
   "cell_type": "markdown",
   "metadata": {},
   "source": [
    "The following list x has 3 elements, thus the index should be 0, 1, 2 for each of the element. When we attempt to access the fifth element (with index 4) of the list x, it causes the IndexError.\n",
    "<br>\n",
    "To correct the code above, we can call x[0], x[1], or x[2], to access the existing elements."
   ]
  },
  {
   "cell_type": "code",
   "execution_count": 12,
   "metadata": {},
   "outputs": [
    {
     "ename": "IndexError",
     "evalue": "list index out of range",
     "output_type": "error",
     "traceback": [
      "\u001b[0;31m---------------------------------------------------------------------------\u001b[0m",
      "\u001b[0;31mIndexError\u001b[0m                                Traceback (most recent call last)",
      "Cell \u001b[0;32mIn[12], line 5\u001b[0m\n\u001b[1;32m      1\u001b[0m \u001b[38;5;66;03m# Index Error Example\u001b[39;00m\n\u001b[1;32m      3\u001b[0m x \u001b[38;5;241m=\u001b[39m [\u001b[38;5;241m1\u001b[39m, \u001b[38;5;241m2\u001b[39m, \u001b[38;5;241m3\u001b[39m]\n\u001b[0;32m----> 5\u001b[0m \u001b[43mx\u001b[49m\u001b[43m[\u001b[49m\u001b[38;5;241;43m4\u001b[39;49m\u001b[43m]\u001b[49m\n",
      "\u001b[0;31mIndexError\u001b[0m: list index out of range"
     ]
    }
   ],
   "source": [
    "# Index Error Example\n",
    "\n",
    "x = [1, 2, 3]\n",
    "\n",
    "x[4]"
   ]
  },
  {
   "cell_type": "markdown",
   "metadata": {},
   "source": [
    "First we create a range of integers from 0 to 4 inclusive by the range() function and a list named \"ok\" with three elements: 100,200,300.\n",
    "<br>\n",
    "In the for loop, we iterate over each value in p, represented by variable \"m\". And the print() command inside the loop executes once for each value of \"m\". It attempts to print the mth element of the list named \"ok\".\n",
    "<br>\n",
    "When m is 0, 1, and 2, this line will print 100, 200, and 300, respectively, because those are the values at those indices in \"ok\".\n",
    "<br>\n",
    "However, when \"m\" is goes larger than 2, this line will raise an IndexError, because \"ok\" doesn't have elements at those indices."
   ]
  },
  {
   "cell_type": "code",
   "execution_count": 13,
   "metadata": {},
   "outputs": [
    {
     "name": "stdout",
     "output_type": "stream",
     "text": [
      "100\n",
      "200\n",
      "300\n"
     ]
    },
    {
     "ename": "IndexError",
     "evalue": "list index out of range",
     "output_type": "error",
     "traceback": [
      "\u001b[0;31m---------------------------------------------------------------------------\u001b[0m",
      "\u001b[0;31mIndexError\u001b[0m                                Traceback (most recent call last)",
      "Cell \u001b[0;32mIn[13], line 5\u001b[0m\n\u001b[1;32m      3\u001b[0m ok \u001b[38;5;241m=\u001b[39m [\u001b[38;5;241m100\u001b[39m, \u001b[38;5;241m200\u001b[39m, \u001b[38;5;241m300\u001b[39m]\n\u001b[1;32m      4\u001b[0m \u001b[38;5;28;01mfor\u001b[39;00m m \u001b[38;5;129;01min\u001b[39;00m p:\n\u001b[0;32m----> 5\u001b[0m     \u001b[38;5;28mprint\u001b[39m(\u001b[43mok\u001b[49m\u001b[43m[\u001b[49m\u001b[43mm\u001b[49m\u001b[43m]\u001b[49m)\n",
      "\u001b[0;31mIndexError\u001b[0m: list index out of range"
     ]
    }
   ],
   "source": [
    "# Index Error Example\n",
    "p = range(0, 5)\n",
    "ok = [100, 200, 300]\n",
    "for m in p:\n",
    "    print(ok[m])"
   ]
  },
  {
   "cell_type": "code",
   "execution_count": 14,
   "metadata": {},
   "outputs": [
    {
     "name": "stdout",
     "output_type": "stream",
     "text": [
      "100\n",
      "200\n",
      "300\n"
     ]
    }
   ],
   "source": [
    "# corrected\n",
    "p = range(0, 3)\n",
    "ok = [100, 200, 300]\n",
    "\n",
    "for m in p:\n",
    "    print(ok[m])"
   ]
  },
  {
   "cell_type": "markdown",
   "metadata": {},
   "source": [
    "#### Lots of Types of Errors\n",
    "* We have talked about Logical Errors, Syntax Errors, Name Errors, Type Errors, Import Errors, Value Errors, Index Errors.<br>\n",
    "<br>\n",
    "\n",
    "**And many others:**\n",
    "* StopIteration \n",
    "* OSError \n",
    "* RuntimeError \n",
    "* AttributeError\n",
    "* LookupError \n",
    "* AssertionError \n",
    "* ArithmeticError \n",
    "* SystemError \n",
    "* ReferenceError \n",
    "* BufferError \n",
    "* MemoryError\n",
    "* WarningError\n",
    "* ZeroDivisionError"
   ]
  },
  {
   "cell_type": "markdown",
   "metadata": {},
   "source": [
    "**More examples:**"
   ]
  },
  {
   "cell_type": "markdown",
   "metadata": {},
   "source": [
    "- Python raises a ZeroDivisionError when you try to divide by zero. Also, attempting to divide any number by 0 is mathematically undefined. "
   ]
  },
  {
   "cell_type": "code",
   "execution_count": 15,
   "metadata": {
    "scrolled": true
   },
   "outputs": [
    {
     "ename": "ZeroDivisionError",
     "evalue": "division by zero",
     "output_type": "error",
     "traceback": [
      "\u001b[0;31m---------------------------------------------------------------------------\u001b[0m",
      "\u001b[0;31mZeroDivisionError\u001b[0m                         Traceback (most recent call last)",
      "Cell \u001b[0;32mIn[15], line 2\u001b[0m\n\u001b[1;32m      1\u001b[0m \u001b[38;5;66;03m# ZeroDivisionError\u001b[39;00m\n\u001b[0;32m----> 2\u001b[0m \u001b[38;5;241;43m1\u001b[39;49m\u001b[38;5;241;43m/\u001b[39;49m\u001b[38;5;241;43m0\u001b[39;49m \n",
      "\u001b[0;31mZeroDivisionError\u001b[0m: division by zero"
     ]
    }
   ],
   "source": [
    "# ZeroDivisionError\n",
    "1/0 "
   ]
  },
  {
   "cell_type": "markdown",
   "metadata": {},
   "source": [
    "- Only individual numeric values (or strings that can be parsed as individual numeric values) can be converted into floats."
   ]
  },
  {
   "cell_type": "code",
   "execution_count": 16,
   "metadata": {},
   "outputs": [
    {
     "ename": "TypeError",
     "evalue": "float() argument must be a string or a real number, not 'list'",
     "output_type": "error",
     "traceback": [
      "\u001b[0;31m---------------------------------------------------------------------------\u001b[0m",
      "\u001b[0;31mTypeError\u001b[0m                                 Traceback (most recent call last)",
      "Cell \u001b[0;32mIn[16], line 1\u001b[0m\n\u001b[0;32m----> 1\u001b[0m \u001b[38;5;28;43mfloat\u001b[39;49m\u001b[43m(\u001b[49m\u001b[43m[\u001b[49m\u001b[38;5;241;43m1\u001b[39;49m\u001b[43m,\u001b[49m\u001b[38;5;241;43m2\u001b[39;49m\u001b[43m,\u001b[49m\u001b[38;5;241;43m3\u001b[39;49m\u001b[43m]\u001b[49m\u001b[43m)\u001b[49m\n",
      "\u001b[0;31mTypeError\u001b[0m: float() argument must be a string or a real number, not 'list'"
     ]
    }
   ],
   "source": [
    "float([1,2,3])"
   ]
  },
  {
   "cell_type": "markdown",
   "metadata": {},
   "source": [
    "- Since \"strVal\" doesn't represent a numeric value, Python can't convert it into a float and raises a ValueError."
   ]
  },
  {
   "cell_type": "code",
   "execution_count": 17,
   "metadata": {
    "scrolled": true
   },
   "outputs": [
    {
     "ename": "ValueError",
     "evalue": "could not convert string to float: 'strVal'",
     "output_type": "error",
     "traceback": [
      "\u001b[0;31m---------------------------------------------------------------------------\u001b[0m",
      "\u001b[0;31mValueError\u001b[0m                                Traceback (most recent call last)",
      "Cell \u001b[0;32mIn[17], line 1\u001b[0m\n\u001b[0;32m----> 1\u001b[0m x \u001b[38;5;241m=\u001b[39m \u001b[38;5;28;43mfloat\u001b[39;49m\u001b[43m(\u001b[49m\u001b[38;5;124;43m\"\u001b[39;49m\u001b[38;5;124;43mstrVal\u001b[39;49m\u001b[38;5;124;43m\"\u001b[39;49m\u001b[43m)\u001b[49m\n",
      "\u001b[0;31mValueError\u001b[0m: could not convert string to float: 'strVal'"
     ]
    }
   ],
   "source": [
    "x = float(\"strVal\")"
   ]
  },
  {
   "cell_type": "markdown",
   "metadata": {},
   "source": [
    "- Resolution for the errors:"
   ]
  },
  {
   "cell_type": "code",
   "execution_count": 18,
   "metadata": {},
   "outputs": [
    {
     "data": {
      "text/plain": [
       "1.0"
      ]
     },
     "execution_count": 18,
     "metadata": {},
     "output_type": "execute_result"
    }
   ],
   "source": [
    "# corrected\n",
    "float(1) "
   ]
  },
  {
   "cell_type": "markdown",
   "metadata": {},
   "source": [
    "`````{admonition} Note\n",
    ":class: tip\n",
    "\n",
    "- `NaN` is a special floating-point value. It represents a value that is `undefined or unrepresentable`. \n",
    "\n",
    "- In Python, `NaN` can be created by converting the string \"NaN\" to a float. Once you have a NaN value, any arithmetic operation involving NaN will also result in NaN.\n",
    "``````"
   ]
  },
  {
   "cell_type": "code",
   "execution_count": 19,
   "metadata": {},
   "outputs": [
    {
     "name": "stdout",
     "output_type": "stream",
     "text": [
      "nan\n",
      "nan\n"
     ]
    }
   ],
   "source": [
    "x = float(\"NaN\")\n",
    "print(x)\n",
    "print(x+1) "
   ]
  },
  {
   "cell_type": "code",
   "execution_count": 20,
   "metadata": {},
   "outputs": [
    {
     "name": "stdout",
     "output_type": "stream",
     "text": [
      "[1.0]\n",
      "[1.0, 2.0]\n",
      "[1.0, 2.0, 3.0]\n"
     ]
    }
   ],
   "source": [
    "# Another solution\n",
    "# float can take one value at a time\n",
    "x1 = []\n",
    "x2 = [1, 2, 3]\n",
    "for x in x2:\n",
    "    x1.append(float(x))\n",
    "    print(x1)"
   ]
  },
  {
   "cell_type": "markdown",
   "metadata": {},
   "source": [
    "``````{admonition} Activity 4\n",
    "\n",
    "1. Correct the error\n",
    "2. What type of error it is? <br>\n",
    "\n",
    "```python\n",
    "float(2.5, 2.4)\n",
    "```\n",
    "\n",
    "``````"
   ]
  },
  {
   "cell_type": "markdown",
   "metadata": {},
   "source": [
    "See [solutions for activity 4](section-label-4.4) at the end."
   ]
  },
  {
   "cell_type": "markdown",
   "metadata": {},
   "source": [
    "`````{admonition} Note\n",
    ":class: tip\n",
    "\n",
    "**Errors ➡ Exceptions**\n",
    "\n",
    "* Many of the previously named errors will be detected and shown on the console area\n",
    "\n",
    "* BUT when they are not, it is difficult to identify. \n",
    "\n",
    "* Errors become Exceptions.\n",
    "\n",
    "* When errors detected during execution. If an exception is not handled, the program terminates with a traceback error message.\n",
    "\n",
    "``````"
   ]
  },
  {
   "cell_type": "markdown",
   "metadata": {},
   "source": [
    "## 2. Exceptions in Python\n",
    "\n",
    "Exceptions are a fundamental concept in Python programming that allow for the **handling of errors and exceptional conditions**. When an error occurs during the execution of a program, an exception is raised, indicating that something unexpected has happened. Python provides a range of built-in exceptions that represent different types of errors, and programmers can also create custom exceptions. By using exception handling techniques, such as **`try-except`** blocks, programmers can gracefully handle exceptions, prevent program crashes, and implement specific error-handling logic.\n"
   ]
  },
  {
   "cell_type": "markdown",
   "metadata": {},
   "source": [
    "### Python Built-in Exceptions: \n",
    "\n",
    "Python provides a set of built-in exceptions that represent various types of errors and exceptional conditions. These exceptions can be raised when an error occurs, and they can be caught and handled using exception handling techniques.\n",
    "\n",
    "NameError, SyntaxError, TypeError, ImportError, ValueError, etc. are commonly raised built-in exceptions in Python.\n",
    "\n",
    "<a href=\"https://www.w3schools.com/python/python_ref_exceptions.asp\" targert=\"_blank\">See more built-in exceptions and their usage</a>"
   ]
  },
  {
   "cell_type": "markdown",
   "metadata": {},
   "source": [
    "### 2.1 Handling Exceptions\n",
    "\n",
    "- Exception handling allows you to **detect, catch and handle** exceptions in a controlled manner. \n",
    "\n",
    "- By using **try-except** blocks, you can anticipate potential errors and define appropriate actions to take when those errors occur. \n",
    "\n",
    "- This helps in preventing program crashes and allows for graceful error handling."
   ]
  },
  {
   "cell_type": "markdown",
   "metadata": {},
   "source": [
    "![exceptions.png](Week4_img/exceptions.png)"
   ]
  },
  {
   "cell_type": "markdown",
   "metadata": {},
   "source": [
    "**Examples for handling exceptions:**"
   ]
  },
  {
   "cell_type": "markdown",
   "metadata": {},
   "source": [
    "The code below allows the user to enter a number repeatedly until a valid integer is provided. If the user enters a non-integer value, a ValueError exception is caught, an error message is displayed, and the program asks the user for input again. Once a valid integer is entered, the loop is broken, and the program continues execution."
   ]
  },
  {
   "cell_type": "code",
   "execution_count": 21,
   "metadata": {
    "tags": []
   },
   "outputs": [
    {
     "name": "stdout",
     "output_type": "stream",
     "text": [
      "Please enter a number: \n",
      "Oops!  That was not a valid number.  Try again...\n",
      "Please enter a number: gem\n",
      "Oops!  That was not a valid number.  Try again...\n",
      "Please enter a number: gem530\n",
      "Oops!  That was not a valid number.  Try again...\n",
      "Please enter a number: 123\n"
     ]
    }
   ],
   "source": [
    "while True:\n",
    "    try:\n",
    "        x = int(input(\"Please enter a number: \"))\n",
    "        break\n",
    "    except ValueError:\n",
    "        print(\"Oops!  That was not a valid number.  Try again...\")"
   ]
  },
  {
   "cell_type": "markdown",
   "metadata": {},
   "source": [
    "The code above starts with a while loop with the condition \"while True,\" which means the loop will continue indefinitely unless a break statement is encountered.\n",
    "<br>\n",
    "Inside the loop, there is a `try block`, where the program prompts the user to enter a number using the input() function and attempts to convert the user's input into an integer using the int() function.\n",
    "\n",
    "    - If the user enters a valid integer, the code breaks out of the loop using the break statement.\n",
    "    \n",
    "    - If the user enters a value that cannot be converted to an integer (e.g., a string or a float), a ValueError exception is raised. \n",
    "<br>\n",
    "The `except block` following the try block is designed to catch the ValueError exception. In this case, the program executes the code within the except block, which prints an error message. \n",
    "<br>\n",
    "The program is still in the while loop and will prompt the user for input again until a valid input received and break out from the loop.\n"
   ]
  },
  {
   "cell_type": "markdown",
   "metadata": {},
   "source": [
    "**More than one exceptions**\n",
    "\n",
    "- The third except block \"Exception as e\" catches any other exceptions that are not explicitly handled by the previous except blocks."
   ]
  },
  {
   "cell_type": "code",
   "execution_count": 23,
   "metadata": {
    "tags": []
   },
   "outputs": [
    {
     "name": "stdout",
     "output_type": "stream",
     "text": [
      "Please enter a number:  \n",
      "Oops! That was not a valid number. Try again...\n",
      "Please enter a number: a\n",
      "Oops! That was not a valid number. Try again...\n",
      "Please enter a number: 2\n",
      "Result: 5.0\n"
     ]
    }
   ],
   "source": [
    "while True:\n",
    "    try:\n",
    "        x = int(input(\"Please enter a number: \"))\n",
    "        result = 10 / x\n",
    "        print(\"Result:\", result)\n",
    "        break\n",
    "    except ValueError:\n",
    "        print(\"Oops! That was not a valid number. Try again...\")\n",
    "    except ZeroDivisionError:\n",
    "        print(\"Oops! Cannot divide by zero. Try again...\")\n",
    "    except Exception as e:\n",
    "        print(\"An unexpected error occurred:\", str(e))"
   ]
  },
  {
   "cell_type": "markdown",
   "metadata": {},
   "source": [
    "``````{admonition} Activity 5\n",
    "\n",
    "1. Write a loop with possible error message\n",
    "2. Add \"pass\" in your loop \n",
    "\n",
    "``````"
   ]
  },
  {
   "cell_type": "markdown",
   "metadata": {},
   "source": [
    "See [solutions for activity 5](section-label-4.5) at the end."
   ]
  },
  {
   "cell_type": "markdown",
   "metadata": {},
   "source": [
    "**Improving float() Method Example:**\n",
    "* Float method returns errors when the input is not a number, or a string that can be parsed as individual numeric values)"
   ]
  },
  {
   "cell_type": "code",
   "execution_count": 24,
   "metadata": {},
   "outputs": [],
   "source": [
    "# simple functioning\n",
    "def safe_float(object1):\n",
    "    return float(object1)"
   ]
  },
  {
   "cell_type": "code",
   "execution_count": 25,
   "metadata": {},
   "outputs": [
    {
     "ename": "ValueError",
     "evalue": "could not convert string to float: 'Possible error'",
     "output_type": "error",
     "traceback": [
      "\u001b[0;31m---------------------------------------------------------------------------\u001b[0m",
      "\u001b[0;31mValueError\u001b[0m                                Traceback (most recent call last)",
      "Cell \u001b[0;32mIn[25], line 1\u001b[0m\n\u001b[0;32m----> 1\u001b[0m \u001b[43msafe_float\u001b[49m\u001b[43m(\u001b[49m\u001b[38;5;124;43m\"\u001b[39;49m\u001b[38;5;124;43mPossible error\u001b[39;49m\u001b[38;5;124;43m\"\u001b[39;49m\u001b[43m)\u001b[49m \u001b[38;5;66;03m# received a ValueError message\u001b[39;00m\n",
      "Cell \u001b[0;32mIn[24], line 3\u001b[0m, in \u001b[0;36msafe_float\u001b[0;34m(object1)\u001b[0m\n\u001b[1;32m      2\u001b[0m \u001b[38;5;28;01mdef\u001b[39;00m \u001b[38;5;21msafe_float\u001b[39m(object1):\n\u001b[0;32m----> 3\u001b[0m     \u001b[38;5;28;01mreturn\u001b[39;00m \u001b[38;5;28;43mfloat\u001b[39;49m\u001b[43m(\u001b[49m\u001b[43mobject1\u001b[49m\u001b[43m)\u001b[49m\n",
      "\u001b[0;31mValueError\u001b[0m: could not convert string to float: 'Possible error'"
     ]
    }
   ],
   "source": [
    "safe_float(\"Possible error\") # received a ValueError message"
   ]
  },
  {
   "cell_type": "markdown",
   "metadata": {},
   "source": [
    "Solutions:\n",
    "<br>\n",
    "<br>\n",
    "If \"object1\" can be successfully converted to a float, then this float value will be returned from the function.\n",
    "<br>\n",
    "If \"object1\" cannot be converted to a float, then Python will raise an exception.\n",
    "If an exception of type ValueError, IndexError, or SyntaxError was raised in the try block, `pass` is used, which means that `the function will do nothing` and return None.\n",
    "\n"
   ]
  },
  {
   "cell_type": "code",
   "execution_count": 26,
   "metadata": {},
   "outputs": [],
   "source": [
    "# solution1\n",
    "def safe_float1(object1):\n",
    "    try:\n",
    "        return float(object1)\n",
    "    except (ValueError, IndexError, SyntaxError):\n",
    "        pass\n",
    "    \n",
    "safe_float1(\"Possible error\") # no error message this time"
   ]
  },
  {
   "cell_type": "code",
   "execution_count": 27,
   "metadata": {
    "tags": []
   },
   "outputs": [
    {
     "name": "stdout",
     "output_type": "stream",
     "text": [
      "88.0\n",
      "None\n"
     ]
    }
   ],
   "source": [
    "print(safe_float1(88))\n",
    "print(safe_float1('hh'))"
   ]
  },
  {
   "cell_type": "markdown",
   "metadata": {},
   "source": [
    "In the second solution, \n",
    "if object1 cannot be converted to a float, Python will raise a ValueError exception, \n",
    "which will print a user-friendly error message guiding the user to enter a valid input that can be converted to a float."
   ]
  },
  {
   "cell_type": "code",
   "execution_count": 28,
   "metadata": {},
   "outputs": [],
   "source": [
    "# solution 2\n",
    "def safe_float2(object1):\n",
    "    try:\n",
    "        return float(object1)\n",
    "    except ValueError:\n",
    "        print(\"Please enter an integer or a float\")"
   ]
  },
  {
   "cell_type": "code",
   "execution_count": 29,
   "metadata": {
    "tags": []
   },
   "outputs": [
    {
     "data": {
      "text/plain": [
       "565.0"
      ]
     },
     "execution_count": 29,
     "metadata": {},
     "output_type": "execute_result"
    }
   ],
   "source": [
    "safe_float2(object1=565)"
   ]
  },
  {
   "cell_type": "code",
   "execution_count": 30,
   "metadata": {
    "tags": []
   },
   "outputs": [
    {
     "name": "stdout",
     "output_type": "stream",
     "text": [
      "Please enter an integer or a float\n"
     ]
    }
   ],
   "source": [
    "safe_float2(object1='hh')"
   ]
  },
  {
   "cell_type": "markdown",
   "metadata": {},
   "source": [
    "In the third solution, if object1 cannot be converted to a float, Python will raise either a ValueError (if object1 is a string that doesn't represent a number) or a TypeError (if object1 is a type of object that can't be converted to a float), and the corresponding error message will be printed out."
   ]
  },
  {
   "cell_type": "code",
   "execution_count": 31,
   "metadata": {},
   "outputs": [
    {
     "data": {
      "text/plain": [
       "'not a number'"
      ]
     },
     "execution_count": 31,
     "metadata": {},
     "output_type": "execute_result"
    }
   ],
   "source": [
    "# solution3\n",
    "def safe_float3(object1):\n",
    "    try:\n",
    "        return float(object1)\n",
    "    except ValueError:\n",
    "        return \"not a number\"\n",
    "    except TypeError:\n",
    "        return \"not a number  object\"\n",
    "\n",
    "safe_float3(\"Possible error\")"
   ]
  },
  {
   "cell_type": "markdown",
   "metadata": {},
   "source": [
    "**Clean-up Actions:**\n",
    "<br>\n",
    "Try <code>finally</code> statement is used to define clean-up actions that **must be executed under all circumstances**.<br>\n",
    "See more examples [here.](https://docs.python.org/3/tutorial/errors.html)"
   ]
  },
  {
   "cell_type": "markdown",
   "metadata": {},
   "source": [
    "`````{admonition} Note\n",
    ":class: tip\n",
    "\n",
    "```python\n",
    "try:\n",
    "    try block\t\n",
    "except \n",
    "\texcept block\n",
    "finally:\n",
    "\tfinally block\n",
    "```\n",
    "\n",
    "**Always executes `finally block` regardless of exceptions**  \n",
    "``````"
   ]
  },
  {
   "cell_type": "markdown",
   "metadata": {},
   "source": [
    "We first define a function called \"divide(x, y)\" which attempts to perform division of two numbers and has exception handling for ZeroDivisionError and ValueError exceptions. Additionally, it uses a finally clause to perform cleanup action after the try-except block, regardless of whether an exception was raised or not."
   ]
  },
  {
   "cell_type": "code",
   "execution_count": 32,
   "metadata": {},
   "outputs": [],
   "source": [
    "# Clean-up action example: use finally\n",
    "\n",
    "def divide(x, y):\n",
    "    result = None\n",
    "    try:\n",
    "        result = float(x)/float(y)\n",
    "        return result\n",
    "    except ZeroDivisionError:\n",
    "        print('Division by zero')\n",
    "    except ValueError:\n",
    "        print('Please enter a number')\n",
    "    finally:\n",
    "        print('Cleaning up....')"
   ]
  },
  {
   "cell_type": "markdown",
   "metadata": {},
   "source": [
    "This call will successfully compute the division. Note the message \"Cleaning up....\" will be printed out even though there's no exceptions."
   ]
  },
  {
   "cell_type": "code",
   "execution_count": 33,
   "metadata": {
    "tags": []
   },
   "outputs": [
    {
     "name": "stdout",
     "output_type": "stream",
     "text": [
      "Cleaning up....\n"
     ]
    },
    {
     "data": {
      "text/plain": [
       "0.5"
      ]
     },
     "execution_count": 33,
     "metadata": {},
     "output_type": "execute_result"
    }
   ],
   "source": [
    "divide(x = 1.5, y = 3)"
   ]
  },
  {
   "cell_type": "markdown",
   "metadata": {},
   "source": [
    "This call will trigger a ZeroDivisionError, print \"Division by zero\" message in the except block, and then print \"Cleaning up....\" in the final block."
   ]
  },
  {
   "cell_type": "code",
   "execution_count": 34,
   "metadata": {},
   "outputs": [
    {
     "name": "stdout",
     "output_type": "stream",
     "text": [
      "Division by zero\n",
      "Cleaning up....\n"
     ]
    }
   ],
   "source": [
    "divide(x = 3, y = 0)"
   ]
  },
  {
   "cell_type": "markdown",
   "metadata": {},
   "source": [
    "This call will trigger a ValueError, print \"Please enter a number\" message in the except block, and then print \"Cleaning up....\"."
   ]
  },
  {
   "cell_type": "code",
   "execution_count": 35,
   "metadata": {
    "scrolled": true,
    "tags": []
   },
   "outputs": [
    {
     "name": "stdout",
     "output_type": "stream",
     "text": [
      "Please enter a number\n",
      "Cleaning up....\n"
     ]
    }
   ],
   "source": [
    "divide(x = 3, y = \"abc\")"
   ]
  },
  {
   "cell_type": "markdown",
   "metadata": {},
   "source": [
    "### 2.2 Text files IOError\n",
    "<code>IOError ➡ FileNotFoundError</code> is an error when an input/output operation fails on text files, such as the print statement or the open() function when trying to open a file that does not exist, or does not have sufficient permissions or has other file-related issues when reading from or writing to a text file."
   ]
  },
  {
   "cell_type": "markdown",
   "metadata": {},
   "source": [
    "**How to read, write, append to, etc text files:**\n",
    "\n",
    "```python\n",
    "path=r'C:\\folder1\\subfolder\\file1.txt'\n",
    "```\n",
    "1. \n",
    "```python\n",
    "f = None\n",
    "```\n",
    "- This line initializes a variable `f` and assigns it the value None. \n",
    "\n",
    "2. \n",
    "```python\n",
    "f = open(path,'r+')\n",
    "```\n",
    "- This line opens the file specified by the path variable in read-write mode ('r+'). It assigns the file object to the variable `f`. The `r+` mode allows both reading and writing operations on the file.\n",
    "\n",
    "3. \n",
    "```python\n",
    "f.write(“This is a test”) # write this line on the data \n",
    "```\n",
    "- This line writes the string \"This is a test\" to the file associated with the `f` file object. It appends the text at the current file position.\n",
    "\n",
    "4. \n",
    "```python \n",
    "f.close()\n",
    "```\n",
    "- This line closes the file associated with the `f` file object. It ensures that all changes made to the file are properly saved and releases any system resources associated with the file. \n",
    "\n",
    "**Modes**:\n",
    "* <code>r</code>= read mode\n",
    "* <code>r+</code>= special read/write\n",
    "* <code>w</code>= write mode\n",
    "* <code>a</code>= append mode"
   ]
  },
  {
   "cell_type": "code",
   "execution_count": 36,
   "metadata": {},
   "outputs": [
    {
     "ename": "FileNotFoundError",
     "evalue": "[Errno 2] No such file or directory: 'C:\\\\Users\\\\Suborna\\\\OneDrive - The University Of British Columbia\\\\Documents\\\\GEM530_2022\\\\Lecture\\\\Week4\\\\Example.txt'",
     "output_type": "error",
     "traceback": [
      "\u001b[0;31m---------------------------------------------------------------------------\u001b[0m",
      "\u001b[0;31mFileNotFoundError\u001b[0m                         Traceback (most recent call last)",
      "Cell \u001b[0;32mIn[36], line 3\u001b[0m\n\u001b[1;32m      1\u001b[0m f \u001b[38;5;241m=\u001b[39m \u001b[38;5;28;01mNone\u001b[39;00m\n\u001b[0;32m----> 3\u001b[0m f \u001b[38;5;241m=\u001b[39m \u001b[38;5;28;43mopen\u001b[39;49m\u001b[43m(\u001b[49m\u001b[38;5;124;43mr\u001b[39;49m\u001b[38;5;124;43m\"\u001b[39;49m\u001b[38;5;124;43mC:\u001b[39;49m\u001b[38;5;124;43m\\\u001b[39;49m\u001b[38;5;124;43mUsers\u001b[39;49m\u001b[38;5;124;43m\\\u001b[39;49m\u001b[38;5;124;43mSuborna\u001b[39;49m\u001b[38;5;124;43m\\\u001b[39;49m\u001b[38;5;124;43mOneDrive - The University Of British Columbia\u001b[39;49m\u001b[38;5;124;43m\\\u001b[39;49m\u001b[38;5;124;43mDocuments\u001b[39;49m\u001b[38;5;124;43m\\\u001b[39;49m\u001b[38;5;124;43mGEM530_2022\u001b[39;49m\u001b[38;5;124;43m\\\u001b[39;49m\u001b[38;5;124;43mLecture\u001b[39;49m\u001b[38;5;124;43m\\\u001b[39;49m\u001b[38;5;124;43mWeek4\u001b[39;49m\u001b[38;5;124;43m\\\u001b[39;49m\u001b[38;5;124;43mExample.txt\u001b[39;49m\u001b[38;5;124;43m\"\u001b[39;49m\u001b[43m,\u001b[49m\u001b[43m \u001b[49m\u001b[38;5;124;43m'\u001b[39;49m\u001b[38;5;124;43mr+\u001b[39;49m\u001b[38;5;124;43m'\u001b[39;49m\u001b[43m)\u001b[49m\n\u001b[1;32m      4\u001b[0m \u001b[38;5;28mprint\u001b[39m(f\u001b[38;5;241m.\u001b[39mname, f\u001b[38;5;241m.\u001b[39mread(), f\u001b[38;5;241m.\u001b[39m\u001b[38;5;18m__class__\u001b[39m)\n",
      "File \u001b[0;32m/opt/conda/lib/python3.10/site-packages/IPython/core/interactiveshell.py:282\u001b[0m, in \u001b[0;36m_modified_open\u001b[0;34m(file, *args, **kwargs)\u001b[0m\n\u001b[1;32m    275\u001b[0m \u001b[38;5;28;01mif\u001b[39;00m file \u001b[38;5;129;01min\u001b[39;00m {\u001b[38;5;241m0\u001b[39m, \u001b[38;5;241m1\u001b[39m, \u001b[38;5;241m2\u001b[39m}:\n\u001b[1;32m    276\u001b[0m     \u001b[38;5;28;01mraise\u001b[39;00m \u001b[38;5;167;01mValueError\u001b[39;00m(\n\u001b[1;32m    277\u001b[0m         \u001b[38;5;124mf\u001b[39m\u001b[38;5;124m\"\u001b[39m\u001b[38;5;124mIPython won\u001b[39m\u001b[38;5;124m'\u001b[39m\u001b[38;5;124mt let you open fd=\u001b[39m\u001b[38;5;132;01m{\u001b[39;00mfile\u001b[38;5;132;01m}\u001b[39;00m\u001b[38;5;124m by default \u001b[39m\u001b[38;5;124m\"\u001b[39m\n\u001b[1;32m    278\u001b[0m         \u001b[38;5;124m\"\u001b[39m\u001b[38;5;124mas it is likely to crash IPython. If you know what you are doing, \u001b[39m\u001b[38;5;124m\"\u001b[39m\n\u001b[1;32m    279\u001b[0m         \u001b[38;5;124m\"\u001b[39m\u001b[38;5;124myou can use builtins\u001b[39m\u001b[38;5;124m'\u001b[39m\u001b[38;5;124m open.\u001b[39m\u001b[38;5;124m\"\u001b[39m\n\u001b[1;32m    280\u001b[0m     )\n\u001b[0;32m--> 282\u001b[0m \u001b[38;5;28;01mreturn\u001b[39;00m \u001b[43mio_open\u001b[49m\u001b[43m(\u001b[49m\u001b[43mfile\u001b[49m\u001b[43m,\u001b[49m\u001b[43m \u001b[49m\u001b[38;5;241;43m*\u001b[39;49m\u001b[43margs\u001b[49m\u001b[43m,\u001b[49m\u001b[43m \u001b[49m\u001b[38;5;241;43m*\u001b[39;49m\u001b[38;5;241;43m*\u001b[39;49m\u001b[43mkwargs\u001b[49m\u001b[43m)\u001b[49m\n",
      "\u001b[0;31mFileNotFoundError\u001b[0m: [Errno 2] No such file or directory: 'C:\\\\Users\\\\Suborna\\\\OneDrive - The University Of British Columbia\\\\Documents\\\\GEM530_2022\\\\Lecture\\\\Week4\\\\Example.txt'"
     ]
    }
   ],
   "source": [
    "f = None\n",
    "\n",
    "f = open(r\"C:\\Users\\Suborna\\OneDrive - The University Of British Columbia\\Documents\\GEM530_2022\\Lecture\\Week4\\Example.txt\", 'r+')\n",
    "print(f.name, f.read(), f.__class__)"
   ]
  },
  {
   "cell_type": "code",
   "execution_count": 37,
   "metadata": {},
   "outputs": [
    {
     "name": "stdout",
     "output_type": "stream",
     "text": [
      "The file does not exist!\n"
     ]
    }
   ],
   "source": [
    "# Added IOError this time\n",
    "f = None\n",
    "try:\n",
    "    f = open(r\"C:\\Users\\Suborna\\OneDrive - The University Of British Columbia\\Documents\\GEM530_2022\\Lecture\\Week4\\Exaample.txt\", \n",
    "             'r+')\n",
    "except IOError:\n",
    "    print(\"The file does not exist!\")\n",
    "finally:\n",
    "    if f:\n",
    "        print(f.name, f.read(), f.__class__)"
   ]
  },
  {
   "cell_type": "code",
   "execution_count": 38,
   "metadata": {},
   "outputs": [
    {
     "name": "stdout",
     "output_type": "stream",
     "text": [
      "Example.txt hello <class '_io.TextIOWrapper'>\n"
     ]
    }
   ],
   "source": [
    "# Same as above but took out the file location since it exist on the same location where jupter file is located\n",
    "f = None\n",
    "try:\n",
    "    f = open(r\"Example.txt\", 'r+')\n",
    "except IOError:\n",
    "    print(\"The file does not exist!\")\n",
    "finally:\n",
    "    if f:\n",
    "        print(f.name, f.read(), f.__class__)"
   ]
  },
  {
   "cell_type": "code",
   "execution_count": 39,
   "metadata": {},
   "outputs": [
    {
     "name": "stdout",
     "output_type": "stream",
     "text": [
      "Data_inT.txt\n"
     ]
    }
   ],
   "source": [
    "try:\n",
    "    f7 = open(r\"Data_inT.txt\", 'r+')\n",
    "    print(f7.name)\n",
    "except IOError:\n",
    "    print(\"Keep the file in the folder\")\n",
    "    print(f7.name)\n",
    "    f7.close"
   ]
  },
  {
   "cell_type": "code",
   "execution_count": 40,
   "metadata": {},
   "outputs": [
    {
     "name": "stdout",
     "output_type": "stream",
     "text": [
      "example_t1.txt w\n"
     ]
    }
   ],
   "source": [
    "# write a sentence in a file. The following code will create a file and add the text.\n",
    "ft3 = open(r\"example_t1.txt\", \"w\")\n",
    "ft3.write(\"This is a test\")\n",
    "print(ft3.name, ft3.mode)\n",
    "ft3.close()"
   ]
  },
  {
   "cell_type": "markdown",
   "metadata": {},
   "source": [
    "`````{admonition} Note\n",
    ":class: tip\n",
    "    \n",
    "**Get the current working directory in Python: use `os` module**\n",
    "    \n",
    "os module is a Python built-in mocule used for interact with the operating system, including creating filesmanagement of files and directories etc. \n",
    "    \n",
    "``````"
   ]
  },
  {
   "cell_type": "code",
   "execution_count": null,
   "metadata": {},
   "outputs": [],
   "source": [
    "# run this cell to get the working directory\n",
    "\n",
    "# import os module\n",
    "import os\n",
    "# get currently working directory\n",
    "print(os.getcwd())"
   ]
  },
  {
   "cell_type": "markdown",
   "metadata": {},
   "source": [
    "## 3. How to Fix Errors?\n",
    "\n",
    "* Syntax errors\n",
    "* Runtime errors\n",
    "\n",
    "For the most commonly seen errors in Python programming, we will talk about how to check and fix these errors."
   ]
  },
  {
   "cell_type": "markdown",
   "metadata": {},
   "source": [
    "**Fix an Error ➡ SyntaxError**\n",
    "\n",
    "Syntax errors occur when the code violates the rules of the Python syntax. To fix syntax errors, you need to carefully review the code and identify the specific line or lines where the error is occurring. Then, correct the syntax mistake(s) by following the correct syntax rules.\n",
    "\n",
    "1. Indent correctly?\n",
    "2. Using the keywords correctly? \n",
    "3. Declaring keywords as the names of variables, functions or classes?\n",
    "4. Incomplete statements:\n",
    "    - An unclosed bracket ‘{’,’(’,’\n",
    "    - Omitting the colon symbol “:”\n",
    "    - <code>If</code>, <code>elif</code>, or <code>while</code> without any conditional expression"
   ]
  },
  {
   "cell_type": "markdown",
   "metadata": {},
   "source": [
    "**Fix an Error ➡ Runtime errors**\n",
    "\n",
    "Runtime errors occur during the execution of a program when unexpected conditions or operations are encountered. To fix runtime errors, you need to identify the cause of the error by examining the error message and stack trace. Once the cause is determined, appropriate modifications can be made to the code to handle the error condition and prevent the program from crashing.\n",
    "\n",
    "1. Check the error exception type and recall reasons causing the exception \n",
    "    - AttributeError, IndexError, NameError, ValueError, TypeError etc.\n",
    "2. Look into the code, especially the line that throws errors carefully and analyze what result in the exception.\n",
    "3. If still not sure about the reasons, using ‘print’ to output the value of the variables and check if they are those you want.\n",
    "4. Revise code and run again."
   ]
  },
  {
   "cell_type": "markdown",
   "metadata": {},
   "source": [
    "## 4. Scope\n",
    "\n",
    "Scope in Python coding refers to the region or portion of code where a variable or name is defined and can be accessed. It is used to indentify the effectiveness of variables and define the visibility and lifetime of variables, functions, and other identifiers within a program. Python has two primary types of scope:\n",
    "\n",
    "**1. Local variables:** \n",
    "\n",
    "Local variables are variables that are defined `within a specific scope, such as a function or a block of code`. These variables can only be accessed and used within their respective scope. They are created when the scope is entered and destroyed when the scope is exited. Local variables help in encapsulating data and prevent naming conflicts.\n",
    "\n",
    "\n",
    "**2. Global variables:**\n",
    "\n",
    "Global variables are variables that are defined `outside of any specific scope and can be accessed from any part of the program`. They have a global scope and can be used in different functions or blocks of code. However, using global variables excessively can lead to code complexity and potential issues with variable shadowing or unintended modifications. Care should be taken when using global variables to maintain code readability and avoid naming conflicts."
   ]
  },
  {
   "cell_type": "markdown",
   "metadata": {},
   "source": [
    "**Local variable example:**\n",
    "\n",
    "The example below show how the local variable can be used inside the range. The variable \"var\" is defined locally, within the \"foo( )\" function, and can only be used in this function. However, when we call \"var\" outside the function, an Error message is expected since \"var\" is not defined previously and Python cannot find the variable named \"var\"."
   ]
  },
  {
   "cell_type": "code",
   "execution_count": 42,
   "metadata": {
    "tags": []
   },
   "outputs": [
    {
     "name": "stdout",
     "output_type": "stream",
     "text": [
      "20\n"
     ]
    }
   ],
   "source": [
    "def foo():\n",
    "    var = 20  # Local variable\n",
    "    print(var)\n",
    "\n",
    "foo()"
   ]
  },
  {
   "cell_type": "code",
   "execution_count": 43,
   "metadata": {
    "tags": []
   },
   "outputs": [
    {
     "ename": "NameError",
     "evalue": "name 'var' is not defined",
     "output_type": "error",
     "traceback": [
      "\u001b[0;31m---------------------------------------------------------------------------\u001b[0m",
      "\u001b[0;31mNameError\u001b[0m                                 Traceback (most recent call last)",
      "Cell \u001b[0;32mIn[43], line 1\u001b[0m\n\u001b[0;32m----> 1\u001b[0m \u001b[38;5;28mprint\u001b[39m(\u001b[43mvar\u001b[49m)  \u001b[38;5;66;03m# Raises NameError, i is not defined outside the function\u001b[39;00m\n",
      "\u001b[0;31mNameError\u001b[0m: name 'var' is not defined"
     ]
    }
   ],
   "source": [
    "print(var)  # Raises NameError, i is not defined outside the function"
   ]
  },
  {
   "cell_type": "markdown",
   "metadata": {},
   "source": [
    "**Global variable example:**\n",
    "\n",
    "The example below show how the global variable can be used both inside and outside the range. The variable \"i\" is defined globally, outside the range of \"foo( )\" function. When we call \"i\" outside the function, Python can find the previously defined variable \"i\" and print out the value."
   ]
  },
  {
   "cell_type": "code",
   "execution_count": 44,
   "metadata": {
    "tags": []
   },
   "outputs": [
    {
     "name": "stdout",
     "output_type": "stream",
     "text": [
      "10\n"
     ]
    }
   ],
   "source": [
    "i = 10  # Global variable\n",
    "\n",
    "def foo():\n",
    "    print(i)  # Accessing global variable\n",
    "\n",
    "foo()"
   ]
  },
  {
   "cell_type": "code",
   "execution_count": 45,
   "metadata": {
    "tags": []
   },
   "outputs": [
    {
     "name": "stdout",
     "output_type": "stream",
     "text": [
      "10\n"
     ]
    }
   ],
   "source": [
    "print(i)  # Accessing global variable"
   ]
  },
  {
   "cell_type": "markdown",
   "metadata": {},
   "source": [
    "**More examples:**"
   ]
  },
  {
   "cell_type": "code",
   "execution_count": 46,
   "metadata": {},
   "outputs": [],
   "source": [
    "global_x = 5 # global variable\n",
    "def add():\n",
    "    local_y = 3\n",
    "    return global_x + local_y"
   ]
  },
  {
   "cell_type": "code",
   "execution_count": 47,
   "metadata": {
    "tags": []
   },
   "outputs": [
    {
     "data": {
      "text/plain": [
       "8"
      ]
     },
     "execution_count": 47,
     "metadata": {},
     "output_type": "execute_result"
    }
   ],
   "source": [
    "add()"
   ]
  },
  {
   "cell_type": "code",
   "execution_count": 48,
   "metadata": {
    "tags": []
   },
   "outputs": [
    {
     "name": "stdout",
     "output_type": "stream",
     "text": [
      "5\n"
     ]
    }
   ],
   "source": [
    "print(global_x)"
   ]
  },
  {
   "cell_type": "code",
   "execution_count": 49,
   "metadata": {
    "tags": []
   },
   "outputs": [
    {
     "ename": "NameError",
     "evalue": "name 'local_y' is not defined",
     "output_type": "error",
     "traceback": [
      "\u001b[0;31m---------------------------------------------------------------------------\u001b[0m",
      "\u001b[0;31mNameError\u001b[0m                                 Traceback (most recent call last)",
      "Cell \u001b[0;32mIn[49], line 1\u001b[0m\n\u001b[0;32m----> 1\u001b[0m \u001b[38;5;28mprint\u001b[39m(\u001b[43mlocal_y\u001b[49m)\n",
      "\u001b[0;31mNameError\u001b[0m: name 'local_y' is not defined"
     ]
    }
   ],
   "source": [
    "print(local_y)"
   ]
  },
  {
   "cell_type": "markdown",
   "metadata": {},
   "source": [
    "**Global variables are shadowed by local ones exist with the same name:**\n",
    "\n",
    "In the example below:\n",
    "\n",
    "- There are global variables x1 and y1 initialized with a value of 100 and 200 respectively.\n",
    "\n",
    "- Inside the function add(), local variables x1 and y1 are defined with value of 10 and 20 respectively. These local variables shadows the global variable with the same name.\n",
    "\n",
    "- When we call add() function, it accesses the local variable and outputs 30 (10+20).\n",
    "\n",
    "- Outside the add() function, when we print x1 and y1 again, it accesses the global variable and outputs 100 and 200. The global variable is not affected by the local variable with the same name."
   ]
  },
  {
   "cell_type": "code",
   "execution_count": 50,
   "metadata": {
    "tags": []
   },
   "outputs": [
    {
     "name": "stdout",
     "output_type": "stream",
     "text": [
      "100 200\n"
     ]
    }
   ],
   "source": [
    "# define global variables \"x1\" and \"y1\"\n",
    "x1 = 100\n",
    "y1 = 200\n",
    "print(x1,y1)"
   ]
  },
  {
   "cell_type": "code",
   "execution_count": 51,
   "metadata": {
    "tags": []
   },
   "outputs": [
    {
     "name": "stdout",
     "output_type": "stream",
     "text": [
      "30\n"
     ]
    }
   ],
   "source": [
    "def add():\n",
    "    x1 = 10\n",
    "    y1 = 20\n",
    "    return x1 + y1 # accessing local variables\n",
    "\n",
    "z = add()   # z is not using the values outside the def function\n",
    "print(z)"
   ]
  },
  {
   "cell_type": "code",
   "execution_count": 52,
   "metadata": {},
   "outputs": [
    {
     "name": "stdout",
     "output_type": "stream",
     "text": [
      "100 200\n"
     ]
    }
   ],
   "source": [
    "print(x1,y1)"
   ]
  },
  {
   "cell_type": "markdown",
   "metadata": {},
   "source": [
    "This example demonstrates how a local variable within a function can have the same name as a global variable, effectively shadowing it within the function's scope. It highlights the concept of variable shadowing, where the local variable takes precedence over the global variable with the same name within the scope in which it is defined."
   ]
  },
  {
   "cell_type": "markdown",
   "metadata": {
    "tags": []
   },
   "source": [
    "### Scope: Namespace\n",
    "\n",
    "Recall the simple assignement statement: **x = \"string1\"**, which creates the the symbol(variable) named x and refers to the string object.\n",
    "With a program of significant complexity, it is common to have a multitude of such symbolic names, each pointing to a distinct object. Python effectively handles this by maintaining separate namespaces, ensuring that these names do not clash or interfere with one another. Namespaces provide a system for organizing and keeping track of the names, enabling the program to maintain clear distinctions and avoid conflicts between them.\n",
    "\n",
    "In Python, a namespace is a system that organizes and provides a scope for the names (identifiers) used in a program. It serves as a container/space that holds `current names` for functions or variables, allowing them to be unique and avoid naming conflicts. Namespaces help in organizing and managing the elements of a program, such as variables, functions, classes, modules, and etc.\n",
    "\n",
    "There are different types of namespaces in Python:\n",
    "- Local Namespace:\n",
    "- Global Namespace\n",
    "- Built-in Namespace"
   ]
  },
  {
   "cell_type": "markdown",
   "metadata": {},
   "source": [
    "Name `search sequence` while locating the names: **local -> global-> Built-in namespace**\n",
    "\n",
    "This layering of namespaces is called `scope`.\n",
    "\n",
    "![Namespace_Hierarchy.png](Week4_img/Namespace_Hierarchy.png)"
   ]
  },
  {
   "cell_type": "markdown",
   "metadata": {},
   "source": [
    "**Use dir( ) to show the available names within a name Space:**"
   ]
  },
  {
   "cell_type": "markdown",
   "metadata": {},
   "source": [
    "The **`built-in namespace`** contains the names of all of Python’s built-in objects. You can see some objects here that we have talked about before, for example, the ImportError, built-in functions like max(), min() and print(), and object types like int and tuple, etc."
   ]
  },
  {
   "cell_type": "code",
   "execution_count": 53,
   "metadata": {
    "tags": []
   },
   "outputs": [
    {
     "data": {
      "text/plain": [
       "['ArithmeticError',\n",
       " 'AssertionError',\n",
       " 'AttributeError',\n",
       " 'BaseException',\n",
       " 'BlockingIOError',\n",
       " 'BrokenPipeError',\n",
       " 'BufferError',\n",
       " 'BytesWarning',\n",
       " 'ChildProcessError',\n",
       " 'ConnectionAbortedError',\n",
       " 'ConnectionError',\n",
       " 'ConnectionRefusedError',\n",
       " 'ConnectionResetError',\n",
       " 'DeprecationWarning',\n",
       " 'EOFError',\n",
       " 'Ellipsis',\n",
       " 'EncodingWarning',\n",
       " 'EnvironmentError',\n",
       " 'Exception',\n",
       " 'False',\n",
       " 'FileExistsError',\n",
       " 'FileNotFoundError',\n",
       " 'FloatingPointError',\n",
       " 'FutureWarning',\n",
       " 'GeneratorExit',\n",
       " 'IOError',\n",
       " 'ImportError',\n",
       " 'ImportWarning',\n",
       " 'IndentationError',\n",
       " 'IndexError',\n",
       " 'InterruptedError',\n",
       " 'IsADirectoryError',\n",
       " 'KeyError',\n",
       " 'KeyboardInterrupt',\n",
       " 'LookupError',\n",
       " 'MemoryError',\n",
       " 'ModuleNotFoundError',\n",
       " 'NameError',\n",
       " 'None',\n",
       " 'NotADirectoryError',\n",
       " 'NotImplemented',\n",
       " 'NotImplementedError',\n",
       " 'OSError',\n",
       " 'OverflowError',\n",
       " 'PendingDeprecationWarning',\n",
       " 'PermissionError',\n",
       " 'ProcessLookupError',\n",
       " 'RecursionError',\n",
       " 'ReferenceError',\n",
       " 'ResourceWarning',\n",
       " 'RuntimeError',\n",
       " 'RuntimeWarning',\n",
       " 'StopAsyncIteration',\n",
       " 'StopIteration',\n",
       " 'SyntaxError',\n",
       " 'SyntaxWarning',\n",
       " 'SystemError',\n",
       " 'SystemExit',\n",
       " 'TabError',\n",
       " 'TimeoutError',\n",
       " 'True',\n",
       " 'TypeError',\n",
       " 'UnboundLocalError',\n",
       " 'UnicodeDecodeError',\n",
       " 'UnicodeEncodeError',\n",
       " 'UnicodeError',\n",
       " 'UnicodeTranslateError',\n",
       " 'UnicodeWarning',\n",
       " 'UserWarning',\n",
       " 'ValueError',\n",
       " 'Warning',\n",
       " 'ZeroDivisionError',\n",
       " '__IPYTHON__',\n",
       " '__build_class__',\n",
       " '__debug__',\n",
       " '__doc__',\n",
       " '__import__',\n",
       " '__loader__',\n",
       " '__name__',\n",
       " '__package__',\n",
       " '__spec__',\n",
       " 'abs',\n",
       " 'aiter',\n",
       " 'all',\n",
       " 'anext',\n",
       " 'any',\n",
       " 'ascii',\n",
       " 'bin',\n",
       " 'bool',\n",
       " 'breakpoint',\n",
       " 'bytearray',\n",
       " 'bytes',\n",
       " 'callable',\n",
       " 'chr',\n",
       " 'classmethod',\n",
       " 'compile',\n",
       " 'complex',\n",
       " 'copyright',\n",
       " 'credits',\n",
       " 'delattr',\n",
       " 'dict',\n",
       " 'dir',\n",
       " 'display',\n",
       " 'divmod',\n",
       " 'enumerate',\n",
       " 'eval',\n",
       " 'exec',\n",
       " 'execfile',\n",
       " 'filter',\n",
       " 'float',\n",
       " 'format',\n",
       " 'frozenset',\n",
       " 'get_ipython',\n",
       " 'getattr',\n",
       " 'globals',\n",
       " 'hasattr',\n",
       " 'hash',\n",
       " 'help',\n",
       " 'hex',\n",
       " 'id',\n",
       " 'input',\n",
       " 'int',\n",
       " 'isinstance',\n",
       " 'issubclass',\n",
       " 'iter',\n",
       " 'len',\n",
       " 'license',\n",
       " 'list',\n",
       " 'locals',\n",
       " 'map',\n",
       " 'max',\n",
       " 'memoryview',\n",
       " 'min',\n",
       " 'next',\n",
       " 'object',\n",
       " 'oct',\n",
       " 'open',\n",
       " 'ord',\n",
       " 'pow',\n",
       " 'print',\n",
       " 'property',\n",
       " 'range',\n",
       " 'repr',\n",
       " 'reversed',\n",
       " 'round',\n",
       " 'runfile',\n",
       " 'set',\n",
       " 'setattr',\n",
       " 'slice',\n",
       " 'sorted',\n",
       " 'staticmethod',\n",
       " 'str',\n",
       " 'sum',\n",
       " 'super',\n",
       " 'tuple',\n",
       " 'type',\n",
       " 'vars',\n",
       " 'zip']"
      ]
     },
     "execution_count": 53,
     "metadata": {},
     "output_type": "execute_result"
    }
   ],
   "source": [
    "dir(__builtins__)"
   ]
  },
  {
   "cell_type": "markdown",
   "metadata": {},
   "source": [
    "**Another example for built-in namespace of the math module:**\n",
    "\n",
    "First, we need to `import` the math module, and then use the `dir()` function to display the built-in namespace of the module."
   ]
  },
  {
   "cell_type": "code",
   "execution_count": 54,
   "metadata": {
    "tags": []
   },
   "outputs": [
    {
     "data": {
      "text/plain": [
       "['__doc__',\n",
       " '__file__',\n",
       " '__loader__',\n",
       " '__name__',\n",
       " '__package__',\n",
       " '__spec__',\n",
       " 'acos',\n",
       " 'acosh',\n",
       " 'asin',\n",
       " 'asinh',\n",
       " 'atan',\n",
       " 'atan2',\n",
       " 'atanh',\n",
       " 'ceil',\n",
       " 'comb',\n",
       " 'copysign',\n",
       " 'cos',\n",
       " 'cosh',\n",
       " 'degrees',\n",
       " 'dist',\n",
       " 'e',\n",
       " 'erf',\n",
       " 'erfc',\n",
       " 'exp',\n",
       " 'expm1',\n",
       " 'fabs',\n",
       " 'factorial',\n",
       " 'floor',\n",
       " 'fmod',\n",
       " 'frexp',\n",
       " 'fsum',\n",
       " 'gamma',\n",
       " 'gcd',\n",
       " 'hypot',\n",
       " 'inf',\n",
       " 'isclose',\n",
       " 'isfinite',\n",
       " 'isinf',\n",
       " 'isnan',\n",
       " 'isqrt',\n",
       " 'lcm',\n",
       " 'ldexp',\n",
       " 'lgamma',\n",
       " 'log',\n",
       " 'log10',\n",
       " 'log1p',\n",
       " 'log2',\n",
       " 'modf',\n",
       " 'nan',\n",
       " 'nextafter',\n",
       " 'perm',\n",
       " 'pi',\n",
       " 'pow',\n",
       " 'prod',\n",
       " 'radians',\n",
       " 'remainder',\n",
       " 'sin',\n",
       " 'sinh',\n",
       " 'sqrt',\n",
       " 'tan',\n",
       " 'tanh',\n",
       " 'tau',\n",
       " 'trunc',\n",
       " 'ulp']"
      ]
     },
     "execution_count": 54,
     "metadata": {},
     "output_type": "execute_result"
    }
   ],
   "source": [
    "import math\n",
    "\n",
    "dir(math)  # show the built-in namespace of the math module"
   ]
  },
  {
   "cell_type": "markdown",
   "metadata": {},
   "source": [
    "The global namespace is the top-level namespace that exists throughout the entire program. Names defined in the global namespace are accessible from any part of the program.\n",
    "<br>\n",
    "<br>\n",
    "The local namespace is created whenever a function or method is called. It contains names that are local to that function or method. Local namespaces have a limited scope and are destroyed when the function or method execution completes. Names defined in a local namespace are accessible only within that specific scope."
   ]
  },
  {
   "cell_type": "code",
   "execution_count": 55,
   "metadata": {
    "tags": []
   },
   "outputs": [
    {
     "name": "stdout",
     "output_type": "stream",
     "text": [
      "Global Namespace: ['In', 'Out', '_', '_1', '_18', '_29', '_31', '_33', '_47', '_53', '_54', '__', '___', '__builtin__', '__builtins__', '__doc__', '__loader__', '__name__', '__package__', '__session__', '__spec__', '_dh', '_i', '_i1', '_i10', '_i11', '_i12', '_i13', '_i14', '_i15', '_i16', '_i17', '_i18', '_i19', '_i2', '_i20', '_i21', '_i22', '_i23', '_i24', '_i25', '_i26', '_i27', '_i28', '_i29', '_i3', '_i30', '_i31', '_i32', '_i33', '_i34', '_i35', '_i36', '_i37', '_i38', '_i39', '_i4', '_i40', '_i41', '_i42', '_i43', '_i44', '_i45', '_i46', '_i47', '_i48', '_i49', '_i5', '_i50', '_i51', '_i52', '_i53', '_i54', '_i55', '_i6', '_i7', '_i8', '_i9', '_ih', '_ii', '_iii', '_oh', 'a', 'add', 'b', 'combine', 'divide', 'exit', 'f', 'f7', 'foo', 'ft3', 'get_ipython', 'global_x', 'i', 'm', 'math', 'ok', 'open', 'os', 'p', 'quit', 'result', 'safe_float', 'safe_float1', 'safe_float2', 'safe_float3', 'x', 'x1', 'x2', 'y1', 'z']\n",
      "Local Namespace: ['y']\n"
     ]
    }
   ],
   "source": [
    "x = 10  # global variable\n",
    "\n",
    "def foo():\n",
    "    y = 20  # local variable\n",
    "    print(\"Local Namespace:\", dir())  # dir() inside the function - display the local namespace\n",
    "\n",
    "print(\"Global Namespace:\", dir())  # dir() outside the function - display the global namespace\n",
    "foo()"
   ]
  },
  {
   "cell_type": "markdown",
   "metadata": {},
   "source": [
    "In the above example: the call to dir() outside the function displays the names in the global namespace, showing the names defined in the global scope, including the global variable x.\n",
    "<br>\n",
    "<br>\n",
    "The call to dir() within the foo() function displays the names in the local namespace, when we call foo() function, showing the names defined within the function's scope, indicating the local variable y."
   ]
  },
  {
   "cell_type": "code",
   "execution_count": 56,
   "metadata": {
    "tags": []
   },
   "outputs": [
    {
     "name": "stdout",
     "output_type": "stream",
     "text": [
      "['z']\n"
     ]
    }
   ],
   "source": [
    "x = 10\n",
    "y = \"Hello\"\n",
    "\n",
    "def foo():\n",
    "    z = 20\n",
    "    print(dir())  # display the local namespace\n",
    "\n",
    "foo()"
   ]
  },
  {
   "cell_type": "markdown",
   "metadata": {},
   "source": [
    "In the above example, we defined two global variables x and y, and refer to an integer and a string objects respectively. Then we defined a local variable z in the funciton foo(). When we call the function, it prints out the name in local namespace, within the function's scope, which is the local variable z only."
   ]
  },
  {
   "cell_type": "markdown",
   "metadata": {},
   "source": [
    "**More examples to differentiate the global and local namespaces:**\n",
    "\n",
    "The example below shows that we first defined the global variable \"count\" and assigned an integer 100 to it. Then we defined a function \"get_count()\", which includes the local variable \"x\" and \"y\"."
   ]
  },
  {
   "cell_type": "code",
   "execution_count": 57,
   "metadata": {},
   "outputs": [],
   "source": [
    "# Scope: local and global name space in a function\n",
    "\n",
    "count = 100 # global variable\n",
    "\n",
    "def get_count():\n",
    "    global count # making the variable \"count\" available outside the function range\n",
    "    count = count + 5\n",
    "    x = \"Hello\"\n",
    "    y = \"World\"\n",
    "    print(x + ' ' + y)\n",
    "    print(dir())"
   ]
  },
  {
   "cell_type": "markdown",
   "metadata": {},
   "source": [
    "Since we have defined the variable \"count\" in global scope, when we print the value of the variable, Python is able to find it and print out the value, the number we assigned to it."
   ]
  },
  {
   "cell_type": "code",
   "execution_count": 58,
   "metadata": {
    "tags": []
   },
   "outputs": [
    {
     "name": "stdout",
     "output_type": "stream",
     "text": [
      "100\n"
     ]
    }
   ],
   "source": [
    "print(count)  # prints the global variable from the outside"
   ]
  },
  {
   "cell_type": "markdown",
   "metadata": {},
   "source": [
    "Then, when we call the function \"get_count()\", it only prints out the \"Hello World\" statement and the local namespace within the function range, which are the \"x\" and \"y\" variables defined locally inside the function."
   ]
  },
  {
   "cell_type": "code",
   "execution_count": 59,
   "metadata": {
    "tags": []
   },
   "outputs": [
    {
     "name": "stdout",
     "output_type": "stream",
     "text": [
      "Hello World\n",
      "['x', 'y']\n"
     ]
    }
   ],
   "source": [
    "get_count() "
   ]
  },
  {
   "cell_type": "markdown",
   "metadata": {},
   "source": [
    "Next, we defined two global variable \"x\" and \"y\" to refer to two integers, and prints out the result for adding the two numbers together."
   ]
  },
  {
   "cell_type": "code",
   "execution_count": 60,
   "metadata": {},
   "outputs": [
    {
     "name": "stdout",
     "output_type": "stream",
     "text": [
      "3\n"
     ]
    }
   ],
   "source": [
    "x = 1\n",
    "y = 2\n",
    "print(x + y)  # prints the global variable from the outside"
   ]
  },
  {
   "cell_type": "markdown",
   "metadata": {},
   "source": [
    "- Note: when we print out the value of the variable \"count\" again, after we called the function, it prints the result get from the inner function, which excuted the addition and we made available outside the function."
   ]
  },
  {
   "cell_type": "code",
   "execution_count": 61,
   "metadata": {
    "tags": []
   },
   "outputs": [
    {
     "name": "stdout",
     "output_type": "stream",
     "text": [
      "105\n"
     ]
    }
   ],
   "source": [
    "print(count)  # prints the local variable from the inner function"
   ]
  },
  {
   "cell_type": "markdown",
   "metadata": {},
   "source": [
    "- The `dir()` function to display the names in the global namespace, including the global variable count."
   ]
  },
  {
   "cell_type": "code",
   "execution_count": 62,
   "metadata": {
    "tags": []
   },
   "outputs": [
    {
     "name": "stdout",
     "output_type": "stream",
     "text": [
      "['In', 'Out', '_', '_1', '_18', '_29', '_31', '_33', '_47', '_53', '_54', '__', '___', '__builtin__', '__builtins__', '__doc__', '__loader__', '__name__', '__package__', '__session__', '__spec__', '_dh', '_i', '_i1', '_i10', '_i11', '_i12', '_i13', '_i14', '_i15', '_i16', '_i17', '_i18', '_i19', '_i2', '_i20', '_i21', '_i22', '_i23', '_i24', '_i25', '_i26', '_i27', '_i28', '_i29', '_i3', '_i30', '_i31', '_i32', '_i33', '_i34', '_i35', '_i36', '_i37', '_i38', '_i39', '_i4', '_i40', '_i41', '_i42', '_i43', '_i44', '_i45', '_i46', '_i47', '_i48', '_i49', '_i5', '_i50', '_i51', '_i52', '_i53', '_i54', '_i55', '_i56', '_i57', '_i58', '_i59', '_i6', '_i60', '_i61', '_i62', '_i7', '_i8', '_i9', '_ih', '_ii', '_iii', '_oh', 'a', 'add', 'b', 'combine', 'count', 'divide', 'exit', 'f', 'f7', 'foo', 'ft3', 'get_count', 'get_ipython', 'global_x', 'i', 'm', 'math', 'ok', 'open', 'os', 'p', 'quit', 'result', 'safe_float', 'safe_float1', 'safe_float2', 'safe_float3', 'x', 'x1', 'x2', 'y', 'y1', 'z']\n"
     ]
    }
   ],
   "source": [
    "print(dir())  # prints the global variable from the outside"
   ]
  },
  {
   "cell_type": "markdown",
   "metadata": {},
   "source": [
    "## Solutions"
   ]
  },
  {
   "cell_type": "markdown",
   "metadata": {},
   "source": [
    "(section-label-4.1)=\n",
    "### Activity 1"
   ]
  },
  {
   "cell_type": "markdown",
   "metadata": {},
   "source": [
    "Both are syntax errors."
   ]
  },
  {
   "cell_type": "code",
   "execution_count": 63,
   "metadata": {},
   "outputs": [
    {
     "name": "stdout",
     "output_type": "stream",
     "text": [
      "hello World\n"
     ]
    }
   ],
   "source": [
    "# nope=[1,2,3,4,,5,6] # add a number between the commas or delete one comma\n",
    "# print \"hello World\" # the parenthesis are missing for the print() function\n",
    "nope=[1,2,3,4,9,5,6]\n",
    "print(\"hello World\")"
   ]
  },
  {
   "cell_type": "markdown",
   "metadata": {},
   "source": [
    "(section-label-4.2)=\n",
    "### Activity 2"
   ]
  },
  {
   "cell_type": "code",
   "execution_count": 64,
   "metadata": {},
   "outputs": [
    {
     "name": "stdout",
     "output_type": "stream",
     "text": [
      "1\n",
      "3\n",
      "5\n",
      "7\n",
      "9\n"
     ]
    }
   ],
   "source": [
    "# Problem 1\n",
    "# : was missing: Syntax error\n",
    "for i in range(1,11, 2):\n",
    "        print(i)"
   ]
  },
  {
   "cell_type": "code",
   "execution_count": 65,
   "metadata": {},
   "outputs": [
    {
     "name": "stdout",
     "output_type": "stream",
     "text": [
      "8\n",
      "10\n",
      "12\n",
      "14\n"
     ]
    }
   ],
   "source": [
    "# Problem 2\n",
    "# indentation was wrong: IndentationError\n",
    "for i in range(8,15, 2):\n",
    "    print(i)"
   ]
  },
  {
   "cell_type": "markdown",
   "metadata": {},
   "source": [
    "(section-label-4.3)=\n",
    "### Activity 3"
   ]
  },
  {
   "cell_type": "markdown",
   "metadata": {},
   "source": [
    "The code expects a ValueError, since \"5\" is not in the list."
   ]
  },
  {
   "cell_type": "code",
   "execution_count": 67,
   "metadata": {},
   "outputs": [
    {
     "name": "stdout",
     "output_type": "stream",
     "text": [
      "[3, 2, 4, 51, 6, 5]\n",
      "[3, 2, 4, 51, 6]\n"
     ]
    }
   ],
   "source": [
    "# add value 5\n",
    "k.append(5)\n",
    "print(k)\n",
    "\n",
    "# then remove value 5\n",
    "k.remove(a)\n",
    "print(k)"
   ]
  },
  {
   "cell_type": "markdown",
   "metadata": {},
   "source": [
    "(section-label-4.4)=\n",
    "### Activity 4"
   ]
  },
  {
   "cell_type": "markdown",
   "metadata": {},
   "source": [
    "`float(2.5, 2.4)`\n",
    "**TypeError: float can take only 1 argument.**"
   ]
  },
  {
   "cell_type": "code",
   "execution_count": 68,
   "metadata": {},
   "outputs": [
    {
     "data": {
      "text/plain": [
       "2.5"
      ]
     },
     "execution_count": 68,
     "metadata": {},
     "output_type": "execute_result"
    }
   ],
   "source": [
    "# corrected\n",
    "float(2.5)"
   ]
  },
  {
   "cell_type": "markdown",
   "metadata": {},
   "source": [
    "(section-label-4.5)=\n",
    "### Activity 5"
   ]
  },
  {
   "cell_type": "code",
   "execution_count": 70,
   "metadata": {},
   "outputs": [
    {
     "name": "stdout",
     "output_type": "stream",
     "text": [
      "Please enter a number: number\n",
      "Please enter a number: 123\n"
     ]
    }
   ],
   "source": [
    "while True:\n",
    "    try:\n",
    "        x = int(input(\"Please enter a number: \"))\n",
    "        break\n",
    "    except (TypeError, NameError, ValueError, SyntaxError):\n",
    "        pass"
   ]
  },
  {
   "cell_type": "code",
   "execution_count": 71,
   "metadata": {},
   "outputs": [
    {
     "name": "stdout",
     "output_type": "stream",
     "text": [
      "Please enter a number: string\n",
      "Oops!  That was not a valid number.  Try again...\n",
      "Please enter a number: number\n",
      "Oops!  That was not a valid number.  Try again...\n",
      "Please enter a number: integer\n",
      "Oops!  That was not a valid number.  Try again...\n",
      "Please enter a number: a\n",
      "Oops!  That was not a valid number.  Try again...\n",
      "Please enter a number: 8\n"
     ]
    }
   ],
   "source": [
    "# another solution\n",
    "while True:\n",
    "    try:\n",
    "        x = int(input(\"Please enter a number: \"))\n",
    "        break\n",
    "    except ValueError:\n",
    "        print(\"Oops!  That was not a valid number.  Try again...\")\n",
    "        pass\n",
    "    except SyntaxError:\n",
    "        print(\"Add a valid number, please!\")\n",
    "        pass\n",
    "    except NameError:\n",
    "        print(\"Oops!  It's a name/string.  Try again...\")\n",
    "        pass"
   ]
  }
 ],
 "metadata": {
  "kernelspec": {
   "display_name": "Python 3 (ipykernel)",
   "language": "python",
   "name": "python3"
  },
  "language_info": {
   "codemirror_mode": {
    "name": "ipython",
    "version": 3
   },
   "file_extension": ".py",
   "mimetype": "text/x-python",
   "name": "python",
   "nbconvert_exporter": "python",
   "pygments_lexer": "ipython3",
   "version": "3.10.9"
  },
  "toc": {
   "base_numbering": 1,
   "nav_menu": {},
   "number_sections": true,
   "sideBar": true,
   "skip_h1_title": false,
   "title_cell": "Table of Contents",
   "title_sidebar": "Contents",
   "toc_cell": false,
   "toc_position": {},
   "toc_section_display": true,
   "toc_window_display": true
  }
 },
 "nbformat": 4,
 "nbformat_minor": 4
}
