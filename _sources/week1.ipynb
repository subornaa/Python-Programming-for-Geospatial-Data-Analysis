{
 "cells": [
  {
   "cell_type": "markdown",
   "metadata": {},
   "source": [
    "# Chapter 1: An Introductory Guide to Python"
   ]
  },
  {
   "cell_type": "markdown",
   "metadata": {},
   "source": [
    "## Data Types, Data Structures, and Coding Conventions\n",
    "**Author: Dr. Suborna Ahmed**"
   ]
  },
  {
   "cell_type": "markdown",
   "metadata": {},
   "source": [
    "## <span style=\"color:blue\"> Learning Objectives:</span>                  \n",
    "\n",
    "- Understand the `fundamentals of Python` programming language.\n",
    "\n",
    "- Understand the importance of proper `variable naming`, comments, and code organization.\n",
    "\n",
    "- Gain knowledge of basic **Python data types** such as \n",
    "    - `string`\n",
    "    - `integer`\n",
    "    - `float`\n",
    "    - `boolean`\n",
    "    - `None`\n",
    "\n",
    "- Learn about type casting and how to convert between different data types.\n",
    "- Understand the characteristics, properties, and common operations associated with basic data types.\n",
    "- Work with `modules` in Python, understand their purpose, and learn how to import and use them in your code."
   ]
  },
  {
   "cell_type": "markdown",
   "metadata": {},
   "source": [
    "## 1. Jumping Into Python"
   ]
  },
  {
   "cell_type": "markdown",
   "metadata": {},
   "source": [
    "### 1.1 Python As a Calculator\n",
    "\n",
    "In Python, you can use the language as a basic math calculator to perform arithmetic operations. \n",
    "\n",
    "Python supports all the common mathematical operators, including `addition (+)`, `subtraction (-)`, `multiplication (*)`, `division (/)`, and `exponentiation (**)`. Additionally, Python follows the standard order of operations, also allowing you to perform complex calculations with parentheses to control the order of operations.\n",
    "\n",
    "Let's treat Python as a claulating environment. Try the following basic mathematical calculations:\n",
    "\n",
    "1. $5+8$\n",
    "2. $5\\times9$\n",
    "3. $100\\div50$\n",
    "4. $2^4$\n",
    "5. $10\\times5+69\\div20+6^2$"
   ]
  },
  {
   "cell_type": "code",
   "execution_count": 7,
   "metadata": {},
   "outputs": [
    {
     "name": "stdout",
     "output_type": "stream",
     "text": [
      "5 + 8 =  13\n",
      "5 * 9 =  45\n",
      "100 / 5 =  20.0\n",
      "2 ** 4 =  16\n",
      "10 * 5 + 69 / 20 + 6 ** 2 =  89.45\n"
     ]
    }
   ],
   "source": [
    "# Treating Python as a calculator: run this cell\n",
    "\n",
    "# 1\n",
    "print(\"5 + 8 = \", 5+8)\n",
    "\n",
    "# 2 \n",
    "print(\"5 * 9 = \", 5*9)\n",
    "\n",
    "# 3\n",
    "print(\"100 / 5 = \", 100/5)\n",
    "\n",
    "# 4 \n",
    "print(\"2 ** 4 = \", 2**4)\n",
    "\n",
    "# 5 \n",
    "print(\"10 * 5 + 69 / 20 + 6 ** 2 = \", 10*5+69/20+6**2)"
   ]
  },
  {
   "cell_type": "code",
   "execution_count": 8,
   "metadata": {},
   "outputs": [
    {
     "name": "stdout",
     "output_type": "stream",
     "text": [
      "13\n"
     ]
    }
   ],
   "source": [
    "# Printing Output using \"print()\" function\n",
    "print(5+8)"
   ]
  },
  {
   "cell_type": "code",
   "execution_count": 9,
   "metadata": {},
   "outputs": [
    {
     "name": "stdout",
     "output_type": "stream",
     "text": [
      "13\n"
     ]
    }
   ],
   "source": [
    "# Give the result a name and print the output\n",
    "x = 5+8\n",
    "print(x)"
   ]
  },
  {
   "cell_type": "markdown",
   "metadata": {},
   "source": [
    "```{admonition} Activity 1\n",
    "\n",
    "In the following coded chunk, write python codes to solve these questions:\n",
    "\n",
    "1. Add some math operators and give it a name\n",
    "2. Print the result that stored in one variable you written above\n",
    "3. Use the print function to print your calculation and result directly, you can add some explanations in the print function with quotation marks (\"\").\n",
    "```"
   ]
  },
  {
   "cell_type": "code",
   "execution_count": 10,
   "metadata": {},
   "outputs": [],
   "source": [
    "# Write your code in this chunk\n",
    "\n",
    "# Add some math operators and give it a name \n",
    "\n",
    "# Print the result that stored in one variable you written above\n",
    "\n",
    "# Use the print function to print your calculation and result directly"
   ]
  },
  {
   "cell_type": "markdown",
   "metadata": {},
   "source": [
    "See [solution for activity 1](section-label-1.1) at the end."
   ]
  },
  {
   "cell_type": "markdown",
   "metadata": {},
   "source": [
    "### 1.2 Convention to Name a Variable:\n",
    "\n",
    "When naming variables in Python, it is essential to follow naming conventions to enhance code readability and maintainability. Variable names should be descriptive, meaningful, and reflect the purpose or content of the variable. \n",
    "The convention is to use lowercase letters, numbers, and underscores. \n",
    "By adhering to naming conventions, you can improve the clarity and understandability of your code."
   ]
  },
  {
   "cell_type": "markdown",
   "metadata": {},
   "source": [
    "#### 1.2.1 Variable Names\n",
    "\n",
    "A variable is basically a name that represents, or refers to some value, or an object. In python, a variable has a dynamic data type.\n",
    "\n",
    "Example 1:\n",
    "\n",
    "```python\n",
    "# The following line of code represents the result of multiplying the values of two variables, \"Band5\" and \"MaskedArea\". \n",
    "# \"Band5\" and \"MaskedArea\" could be previously defined variables containing numerical values.\n",
    "Band5 * MaskedArea\n",
    "```\n",
    "\n",
    "Example 2:\n",
    "\n",
    "```python\n",
    "# The following line of code represents the sum of the values of two variables, \"NumOfStudents\" and \"Num_of_Profs\". \n",
    "# The variable names imply that \"NumOfStudents\" (the number of studnets) and \"Num_of_Profs\" (the number of professors) are previously defined variables containing numerical values.\n",
    "NumOfStudents + Num_of_Profs\n",
    "```"
   ]
  },
  {
   "cell_type": "markdown",
   "metadata": {},
   "source": [
    "#### 1.2.2 Creating Variable Names\n",
    "Variable names can consist of `letters, digits, and underscore (‘_’)`. \n",
    "\n",
    "**A few suggestions while creating a variable name:**\n",
    "\n",
    "* Don’t use only numbers as names\n",
    "* Don’t use reserved words: and, if, not, elif …\n",
    "* Do be descriptive as possible\n",
    "* Do use hungarianNotation_or_Underscores. In Hungarian notation name indicates the intention or the kind of variable. \n",
    "\n",
    "**A variable name cannot:**\n",
    "* begin with a digit \n",
    "* contain mathematical operators, e.g., ‘+’, ‘-’ etc\n",
    "* have space"
   ]
  },
  {
   "cell_type": "markdown",
   "metadata": {},
   "source": [
    "- ~~**Parking Lot B**~~\n",
    "\n",
    "- ~~**point 1**~~\n",
    "\n",
    "- ~~**+point**~~\n",
    "\n",
    "- ~~**1point**~~\n",
    "\n",
    "- <span style=\"color:blue\">**point1**</span>"
   ]
  },
  {
   "cell_type": "markdown",
   "metadata": {},
   "source": [
    "**A variable name CANNOT begin with a digit.**"
   ]
  },
  {
   "cell_type": "code",
   "execution_count": 11,
   "metadata": {},
   "outputs": [],
   "source": [
    "# Uncomment the following lines. SyntaxErrors are expected when running this cell\n",
    "#1point = 123"
   ]
  },
  {
   "cell_type": "markdown",
   "metadata": {},
   "source": [
    "**A variable name CANNOT contain mathematical operators.**"
   ]
  },
  {
   "cell_type": "code",
   "execution_count": 12,
   "metadata": {},
   "outputs": [],
   "source": [
    "# Uncomment the following lines. SyntaxErrors are expected when running this cell\n",
    "#+point = 123"
   ]
  },
  {
   "cell_type": "markdown",
   "metadata": {},
   "source": [
    "**A variable name CANNOT have space.**"
   ]
  },
  {
   "cell_type": "code",
   "execution_count": 13,
   "metadata": {},
   "outputs": [],
   "source": [
    "# Uncomment the following lines. SyntaxErrors are expected when running this cell\n",
    "#point 1 = 123"
   ]
  },
  {
   "cell_type": "markdown",
   "metadata": {},
   "source": [
    "Correct naming examples. <br>NO SyntaxErrors when running this cell."
   ]
  },
  {
   "cell_type": "code",
   "execution_count": 14,
   "metadata": {},
   "outputs": [],
   "source": [
    "num = 123 # num for number\n",
    "num_1 = 123 # variable name with underscore"
   ]
  },
  {
   "cell_type": "markdown",
   "metadata": {},
   "source": [
    "**A name should:**\n",
    "* Make sense except some local well known variables, such as e (Exception).\n",
    "* lower_case_with_underscores or mixedCase \n",
    "\n",
    "First letter of a class name should be uppercase, e.g., ParkingLot, Building, Route, Grassland."
   ]
  },
  {
   "cell_type": "code",
   "execution_count": 15,
   "metadata": {},
   "outputs": [
    {
     "name": "stdout",
     "output_type": "stream",
     "text": [
      "Suborna Ahmed\n",
      "GEM530\n"
     ]
    },
    {
     "data": {
      "text/plain": [
       "float"
      ]
     },
     "execution_count": 15,
     "metadata": {},
     "output_type": "execute_result"
    }
   ],
   "source": [
    "# more variable names examples\n",
    "\n",
    "# assign strings to two variables and print the outputs\n",
    "Name = \"Suborna Ahmed\"\n",
    "print(Name)\n",
    "\n",
    "Course = \"GEM530\"\n",
    "print(Course)\n",
    "\n",
    "\n",
    "# assign a number (float) to a variable\n",
    "p = 5.5\n",
    "\n",
    "# \"type()\"\" is a built-in function used to return the data type of the object\n",
    "# here variable p is a float\n",
    "type(p)"
   ]
  },
  {
   "cell_type": "markdown",
   "metadata": {},
   "source": [
    "**Where is the error coming from?**"
   ]
  },
  {
   "cell_type": "code",
   "execution_count": 16,
   "metadata": {},
   "outputs": [],
   "source": [
    "# Uncomment the following lines and read the SyntaxErrors to understand the error message\n",
    "#point 2 = 55\n",
    "#1point = 55"
   ]
  },
  {
   "cell_type": "markdown",
   "metadata": {},
   "source": [
    "`````{admonition} Note\n",
    ":class: tip\n",
    "\n",
    "In each Jupyter Notebook cells, if you don't use the print( ) function to explicitly print the output, only the result of the last line of code will be automatically displayed. Example is showed in the code cell below.\n",
    "    \n",
    "To see the output of multiple lines or specific calculations, make sure to use print( ) to explicitly display the desired results. \n",
    "`````"
   ]
  },
  {
   "cell_type": "code",
   "execution_count": 17,
   "metadata": {},
   "outputs": [
    {
     "data": {
      "text/plain": [
       "5.0"
      ]
     },
     "execution_count": 17,
     "metadata": {},
     "output_type": "execute_result"
    }
   ],
   "source": [
    "# Without print function it only prints the last item\n",
    "int(2.2)\n",
    "float(5)"
   ]
  },
  {
   "cell_type": "markdown",
   "metadata": {},
   "source": [
    "## 2. Data Types in Python\n",
    "\n",
    "Python supports various data types to represent different kinds of information. Understanding the basic data types is fundamental as they form the basis for data manipulation and analysis in Python.\n",
    "\n",
    "- **Strings** are used to represent textual data and are enclosed in single ('') or double (\"\") quotes. They can contain letters, numbers, symbols, and spaces. \n",
    "\n",
    "- **Numbers** in Python are represented by **integer** and **floating-point** data types. Both integers and floats are used for numerical calculations and operations in Python.\n",
    "    - **Integers** are whole numbers without decimals.\n",
    "    - **Floats** are numbers with decimals or numbers expressed in scientific notation. \n",
    " \n",
    "\n",
    "> Examples for three basic data types: \n",
    ">* String: \"hello\"\n",
    ">* Integer: 2, 5\n",
    ">* Floating-Point numbers: 2.5, 1.0\n",
    "\n",
    "Integers and floats are two different kinds of numerical data. An integer (more commonly called an int) is a number without a decimal point. A float is a floating-point number, which means it is a number that has a decimal place. Floats are used when more precision is needed.\n",
    "<a href=\"https://processing.org/examples/integersfloats.html\" target=\"_blank\">More information can be found on this site (optional reading)</a>."
   ]
  },
  {
   "cell_type": "markdown",
   "metadata": {},
   "source": [
    "### 2.1. Basic Variable Data Types in Python\n",
    "\n",
    "| Basic Variable Types | Range | Description | Examples | Conversion(Typecast) |\n",
    "| :-- | :-- | :-- | :-- | :-- |\n",
    "| **Integer** | $-2^{31}$ $\\sim$ $2^{32}-1$ | decimal,octal,hexadecimal format | 20, -20, 010 | **int()** <br>eg., int(2.0), int(\"2\") |\n",
    "| **Float** | Depends on machine arch and compiler of python interpreter | Denoted by a decimal point (.) | 0.0, -77.0, 1.6, 2.3e25, 4.3e-2 | **float()** <br>eg., float(2) |\n",
    "| **String** |  | Denoted by ('single quotation marks') or (\"double quotation marks\") | 'test', \"test\" | **str()** <br> eg., str(2.0) |"
   ]
  },
  {
   "cell_type": "markdown",
   "metadata": {},
   "source": [
    "### 2.2. Python has Five Standard Built-in Data Types:\n",
    "1. Numbers: int, float\n",
    "2. String\n",
    "3. List\n",
    "4. Tuple\n",
    "5. Dictionary\n",
    "\n",
    "*The last three (List, Tuple, Dictionary) are built-in data structures in Python, which will be discussed in week2 material.*"
   ]
  },
  {
   "cell_type": "markdown",
   "metadata": {},
   "source": [
    "### 2.3 Data Type: Numbers\n",
    "\n",
    "* Editable = **mutable** \n",
    "    - Meaning of mutable: a mutable object can be altered after creating it, and it's the opposite for the immutable object\n",
    "* Type can be defined, or assigned at variable creation.\n",
    "1, -1, 40000000, 3.141579\n",
    "\n",
    "* Float, int, long, byte, etc. \n",
    "    - We only focus on float and int here.\n",
    "* Anything numeric! "
   ]
  },
  {
   "cell_type": "code",
   "execution_count": 18,
   "metadata": {},
   "outputs": [
    {
     "name": "stdout",
     "output_type": "stream",
     "text": [
      "<class 'int'>\n",
      "<class 'float'>\n"
     ]
    }
   ],
   "source": [
    "p = 5 # create a variable p and assign it with an integer\n",
    "print(type(p)) # print the data type of variable p\n",
    "\n",
    "p1 = 3.141579 # create a variable p1 and assign it with a float\n",
    "print(type(p1)) # print the data type of variable p1"
   ]
  },
  {
   "cell_type": "markdown",
   "metadata": {},
   "source": [
    "**Numbers or Numerical Data Types are Further Classified as:**\n",
    "\n",
    "1. int (signed int)\n",
    "    - Singed int is an integer in the range $[-2^{31}, 2^{31}-1]$.\n",
    "    - Unsigned int is a non-negative integer in the range $[0, 2^{32}-1]$.\n",
    "    - In Python, we only consider signed integers.\n",
    "2. float\n",
    "\n",
    "<a href=\"https://www.geeksforgeeks.org/complex-numbers-in-python-set-1-introduction/\" target=\"_blank\">More information about complex numbers in python can be found on this site (optional reading)</a>.\n",
    "\n",
    "<span style=\"color:blue\"> There is no 'long integer' in Python 3 anymore but you can try in PyCharm 2.7.</span> <br>"
   ]
  },
  {
   "cell_type": "markdown",
   "metadata": {},
   "source": [
    "#### Conversion Between Integer and Float .\n",
    "\n",
    "**Conversion codes:**  <br>\n",
    "\n",
    "<code>int(x)</code>: x converted to integer  <br> This function trims the values after the decimal point and returns only the integer/whole number part. <br>\n",
    "\n",
    "<code>float(x)</code>: x converted to floating point  <br>"
   ]
  },
  {
   "cell_type": "code",
   "execution_count": 19,
   "metadata": {},
   "outputs": [
    {
     "data": {
      "text/plain": [
       "2"
      ]
     },
     "execution_count": 19,
     "metadata": {},
     "output_type": "execute_result"
    }
   ],
   "source": [
    "# convert a float to an integer, only the values before the decimal point will be kept \n",
    "int(2.6)"
   ]
  },
  {
   "cell_type": "code",
   "execution_count": 20,
   "metadata": {},
   "outputs": [
    {
     "data": {
      "text/plain": [
       "2.0"
      ]
     },
     "execution_count": 20,
     "metadata": {},
     "output_type": "execute_result"
    }
   ],
   "source": [
    "# convert an integer to a float\n",
    "float(2)"
   ]
  },
  {
   "cell_type": "markdown",
   "metadata": {},
   "source": [
    "**String cannot be convert to number**"
   ]
  },
  {
   "cell_type": "code",
   "execution_count": 21,
   "metadata": {},
   "outputs": [],
   "source": [
    "# uncomment the code below, an Error is expected\n",
    "#int(\"s\")"
   ]
  },
  {
   "cell_type": "markdown",
   "metadata": {},
   "source": [
    "### 2.4. Data Type: Text\n",
    "\n",
    "* Editable = **mutable** \n",
    "* No defined length\n",
    "\n",
    "* **String**: set off with “ and closed with ”\n",
    "* Able to be sliced, as cut up sections according to an index of the characters"
   ]
  },
  {
   "cell_type": "code",
   "execution_count": 22,
   "metadata": {},
   "outputs": [
    {
     "name": "stdout",
     "output_type": "stream",
     "text": [
      "British Columbia\n",
      "<class 'str'>\n"
     ]
    }
   ],
   "source": [
    "# Example 1\n",
    "# create a string variable and print out\n",
    "p = 'British Columbia'\n",
    "print(p)\n",
    "\n",
    "# print out the data Type\n",
    "print(type(p))"
   ]
  },
  {
   "cell_type": "markdown",
   "metadata": {},
   "source": [
    "`````{admonition} Note\n",
    ":class: tip\n",
    "\n",
    "**Select some letters - Slicing**\n",
    "\n",
    "In Python, slicing on strings allows you to extract substrings or specific portions of a string. When slicing a string, the character at the start index is included in the slice, but the character at the end index is not. It means that string[start:end] extracts characters from start up to, but not including, the character at end. \n",
    "\n",
    "Python uses zero-based indexing, meaning the first element has index of 0.\n",
    "`````"
   ]
  },
  {
   "cell_type": "code",
   "execution_count": 23,
   "metadata": {},
   "outputs": [
    {
     "name": "stdout",
     "output_type": "stream",
     "text": [
      "Br\n"
     ]
    }
   ],
   "source": [
    "# extracts a substring from the string p, starting from index 0 up to, but not including, index 2\n",
    "# the first two elements (which has index 0 and 1 respectively) are extracted\n",
    "print(p[0:2])"
   ]
  },
  {
   "cell_type": "code",
   "execution_count": 24,
   "metadata": {},
   "outputs": [
    {
     "name": "stdout",
     "output_type": "stream",
     "text": [
      "<class 'str'>\n"
     ]
    }
   ],
   "source": [
    "# Example 2\n",
    "# create a string variable and print out the type\n",
    "city_name = 'Vancouver'\n",
    "print(type(city_name))"
   ]
  },
  {
   "cell_type": "markdown",
   "metadata": {},
   "source": [
    "**Number with quotation marks is a string.**"
   ]
  },
  {
   "cell_type": "code",
   "execution_count": 25,
   "metadata": {},
   "outputs": [
    {
     "name": "stdout",
     "output_type": "stream",
     "text": [
      "<class 'str'>\n"
     ]
    }
   ],
   "source": [
    "# Example 3\n",
    "# Although 101 is a number, '101' with quotation marks is a string\n",
    "Section_number = '101'\n",
    "\n",
    "print(type(Section_number))"
   ]
  },
  {
   "cell_type": "markdown",
   "metadata": {},
   "source": [
    "**String Operations:**\n",
    "1. combining strings with <code>+</code> operator.\n",
    "2. repeating the string n times with <code>*</code> operator."
   ]
  },
  {
   "cell_type": "code",
   "execution_count": 26,
   "metadata": {},
   "outputs": [
    {
     "name": "stdout",
     "output_type": "stream",
     "text": [
      "Vancouver, BC\n",
      "Canada_BC\n"
     ]
    }
   ],
   "source": [
    "# combining strings use the + operator\n",
    "city_name = 'Vancouver, '\n",
    "province = \"BC\"\n",
    "city_pv = city_name + province\n",
    "print(city_pv)\n",
    "\n",
    "Country = 'Canada'\n",
    "Country_pv = Country + '_' + province\n",
    "print(Country_pv)"
   ]
  },
  {
   "cell_type": "code",
   "execution_count": 27,
   "metadata": {},
   "outputs": [
    {
     "data": {
      "text/plain": [
       "'BCBCBCBCBC'"
      ]
     },
     "execution_count": 27,
     "metadata": {},
     "output_type": "execute_result"
    }
   ],
   "source": [
    "# repeating string 5 times by using \"repeat times and * operator\"\n",
    "5 * province"
   ]
  },
  {
   "cell_type": "markdown",
   "metadata": {},
   "source": [
    "```{admonition} Activity 2\n",
    "\n",
    "Write Python code in the chunk below to convert the `height` variable into a number.\n",
    "<br>\n",
    "Hint: use slicing to extract the int first.\n",
    "\n",
    "```"
   ]
  },
  {
   "cell_type": "code",
   "execution_count": 28,
   "metadata": {},
   "outputs": [],
   "source": [
    "height = \"165cm\"\n",
    "# write codes here"
   ]
  },
  {
   "cell_type": "markdown",
   "metadata": {},
   "source": [
    "See [solution for activity 2](section-label-1.2) at the end."
   ]
  },
  {
   "cell_type": "markdown",
   "metadata": {},
   "source": [
    "### 2.5 Data Type: Boolean\n",
    "\n",
    "- There are two Boolean values: `True` and `False`. \n",
    "\n",
    "Booleans are often used in conditional statements and **logical operations** (which will be further discussed in logical operators in week2 material) to make decisions based on the truth value of expressions."
   ]
  },
  {
   "cell_type": "code",
   "execution_count": 29,
   "metadata": {},
   "outputs": [
    {
     "name": "stdout",
     "output_type": "stream",
     "text": [
      "x == y:  False\n",
      "x > y:  True\n",
      "x < y:  False\n"
     ]
    }
   ],
   "source": [
    "x = 5\n",
    "y = 3\n",
    "print(\"x == y: \", x == y) # == sign here means comparison\n",
    "print(\"x > y: \", x > y)\n",
    "print(\"x < y: \", x < y)"
   ]
  },
  {
   "cell_type": "markdown",
   "metadata": {},
   "source": [
    "```{admonition} Activity 3\n",
    "\n",
    "Without coding, determine the boolean value for the following statements.\n",
    "\n",
    "- x = 10\n",
    "- y = 20\n",
    "\n",
    "1. (x == y) and (x < y)\n",
    "\n",
    "2. (x < y) or (x > y)\n",
    "\n",
    "3. (x >= y) or ((x < 1) and (x > 10))\n",
    "```"
   ]
  },
  {
   "cell_type": "markdown",
   "metadata": {},
   "source": [
    "See [solution for activity 3](section-label-1.3) at the end."
   ]
  },
  {
   "cell_type": "markdown",
   "metadata": {},
   "source": [
    "### 2.6. Data Type: None\n",
    "\n",
    "In Python, the special value \"None\" is used to represent the absence of a value or the lack of a specific data type. It is often used as a placeholder or default value when a variable does not have a value assigned to it.\n",
    "<br>\n",
    "\n",
    "**None**<br>\n",
    "* Used to delete a reference to a variable\n",
    "* Means empty, or no value here"
   ]
  },
  {
   "cell_type": "code",
   "execution_count": 30,
   "metadata": {},
   "outputs": [
    {
     "data": {
      "text/plain": [
       "NoneType"
      ]
     },
     "execution_count": 30,
     "metadata": {},
     "output_type": "execute_result"
    }
   ],
   "source": [
    "# None: it has no value\n",
    "road_name = None \n",
    "type(road_name)"
   ]
  },
  {
   "cell_type": "markdown",
   "metadata": {},
   "source": [
    "`````{admonition} Note\n",
    ":class: tip\n",
    "\n",
    "**None is a built-in object in Python and behaves as a singleton, meaning there is only one instance of None in memory.**\n",
    "\n",
    "\n",
    "**Writing `del varName` deletes the reference entirely.** \n",
    "`````"
   ]
  },
  {
   "cell_type": "markdown",
   "metadata": {},
   "source": [
    "- For the following example, when we assigned float value to the variable p1, we can use the print( ) function to see the value.\n",
    "- But after we use the `del` statement, the object p1 has been deleted from the computer memory.\n",
    "- Thus, when we want to print out the value of p1, Python cannot find the variable and it will cause the `NameError` to remind you that variable p1 is  not defined."
   ]
  },
  {
   "cell_type": "code",
   "execution_count": 31,
   "metadata": {},
   "outputs": [
    {
     "name": "stdout",
     "output_type": "stream",
     "text": [
      "3.141579\n"
     ]
    }
   ],
   "source": [
    "p1 = 3.141579\n",
    "print(p1)\n",
    "del p1\n",
    "#print(p1) #uncomment this line and run this cell again to see what happend"
   ]
  },
  {
   "cell_type": "markdown",
   "metadata": {},
   "source": [
    "## 3. Modules\n",
    "Python has many built-in functions that are stored within packages or modules created by other Python users. \n",
    "Before we use these functions / tools, we need to import modules: you can use the `import` statement in a code cell to bring in the required modules or libraries. \n",
    "\n",
    "```python\n",
    "# import package\n",
    "import package_name\n",
    "\n",
    "# After importing the package, we can use the built-in function or objects from the package by typing:\n",
    "package_name.funciton_name\n",
    "```"
   ]
  },
  {
   "cell_type": "markdown",
   "metadata": {},
   "source": [
    "For the following example, you don't need to understand the exact funciton codes."
   ]
  },
  {
   "cell_type": "code",
   "execution_count": 32,
   "metadata": {},
   "outputs": [
    {
     "name": "stdout",
     "output_type": "stream",
     "text": [
      "[[1 2 3]\n",
      " [4 5 6]\n",
      " [7 8 9]]\n",
      "<class 'numpy.ndarray'>\n"
     ]
    }
   ],
   "source": [
    "# example 1\n",
    "\n",
    "# import the numpy library\n",
    "import numpy\n",
    "# use the function in numpy library to create a multi-dimensional array \n",
    "a = numpy.array([[1,2,3],[4,5,6],[7,8,9]])\n",
    "print(a)\n",
    "print(type(a))"
   ]
  },
  {
   "cell_type": "markdown",
   "metadata": {},
   "source": [
    "Conventionally, we write:\n",
    "``` python\n",
    "# import the package\n",
    "import package as p\n",
    "\n",
    "# call the function\n",
    "p.function_name\n",
    "```"
   ]
  },
  {
   "cell_type": "code",
   "execution_count": 33,
   "metadata": {},
   "outputs": [
    {
     "name": "stdout",
     "output_type": "stream",
     "text": [
      "[0 1 2 3 4 5]\n",
      "<class 'numpy.ndarray'>\n"
     ]
    }
   ],
   "source": [
    "# example 2\n",
    "\n",
    "# import the numpy library\n",
    "import numpy as np\n",
    "# use the function in numpy library to create a 1-dimensional array a sequence of numbers 0-6(exclusive)\n",
    "b = np.arange(6)\n",
    "print(b)\n",
    "print(type(b))"
   ]
  },
  {
   "cell_type": "markdown",
   "metadata": {},
   "source": [
    "```{admonition} Activity 4\n",
    "\n",
    "In the following coded chunk, write python codes to solve these questions:\n",
    "\n",
    "1. Import a package named datetime by typing <code>import datetime</code>\n",
    "2. Create a variable name \"current_date_time\" and add a code <code> datetime.datetime.now() </code> to get the current date and time.\n",
    "3. If you want to know the year then write the variable name then write <code>variable name.year</code>\n",
    "4. Print the current year using the variable <code>current_date_time</code>\n",
    "```"
   ]
  },
  {
   "cell_type": "code",
   "execution_count": 34,
   "metadata": {},
   "outputs": [],
   "source": [
    "# write codes here"
   ]
  },
  {
   "cell_type": "markdown",
   "metadata": {},
   "source": [
    "See [solution for activity 4](section-label-1.4) at the end."
   ]
  },
  {
   "cell_type": "markdown",
   "metadata": {},
   "source": [
    "## Solutions"
   ]
  },
  {
   "cell_type": "markdown",
   "metadata": {},
   "source": [
    "(section-label-1.1)=\n",
    "### Activity 1"
   ]
  },
  {
   "cell_type": "code",
   "execution_count": 35,
   "metadata": {},
   "outputs": [
    {
     "name": "stdout",
     "output_type": "stream",
     "text": [
      "7\n",
      "5 times 25 equals:  125\n"
     ]
    }
   ],
   "source": [
    "# Add some math operators and give it a name \n",
    "addition = 5 + 2\n",
    "subtraction = 5 - 2\n",
    "multiplication = 5 * 2\n",
    "division = 5 / 2\n",
    "\n",
    "# Print the result that stored in one variable you written above\n",
    "print(addition)\n",
    "\n",
    "# Use the print function to print your calculation and result directly\n",
    "print(\"5 times 25 equals: \", 5*25)"
   ]
  },
  {
   "cell_type": "markdown",
   "metadata": {},
   "source": [
    "(section-label-1.2)=\n",
    "### Activity 2"
   ]
  },
  {
   "cell_type": "code",
   "execution_count": 36,
   "metadata": {},
   "outputs": [
    {
     "data": {
      "text/plain": [
       "165"
      ]
     },
     "execution_count": 36,
     "metadata": {},
     "output_type": "execute_result"
    }
   ],
   "source": [
    "height = \"165cm\"\n",
    "height_num = height[0:3]\n",
    "int(height_num)\n",
    "# or you can convert it to a float number\n",
    "#float(height_num)"
   ]
  },
  {
   "cell_type": "markdown",
   "metadata": {},
   "source": [
    "(section-label-1.3)=\n",
    "### Activity 3"
   ]
  },
  {
   "cell_type": "code",
   "execution_count": 37,
   "metadata": {},
   "outputs": [
    {
     "name": "stdout",
     "output_type": "stream",
     "text": [
      "1. (x == y) and (x < y):  False\n",
      "2. (x < y) or (x > y):  True\n",
      "3. (x >= y) or ((x < 1) and (x > 10)):  False\n"
     ]
    }
   ],
   "source": [
    "x = 10\n",
    "y = 20\n",
    "\n",
    "print(\"1. (x == y) and (x < y): \", (x == y) and (x < y))\n",
    "\n",
    "print(\"2. (x < y) or (x > y): \", (x < y) or (x > y))\n",
    "\n",
    "print(\"3. (x >= y) or ((x < 1) and (x > 10)): \", (x >= y) or ((x < 1) and (x > 10)))"
   ]
  },
  {
   "cell_type": "markdown",
   "metadata": {},
   "source": [
    "(section-label-1.4)=\n",
    "### Activity 4"
   ]
  },
  {
   "cell_type": "code",
   "execution_count": 38,
   "metadata": {},
   "outputs": [
    {
     "name": "stdout",
     "output_type": "stream",
     "text": [
      "2023-07-15 14:27:47.909941\n",
      "Date and current time is:, 2023-07-15 14:27:47.909941\n",
      "2023\n"
     ]
    }
   ],
   "source": [
    "# Import a package name datetime \n",
    "import datetime\n",
    "\n",
    "# Create a variable name \"current_date_time\" to get the current date and time.\n",
    "current_date_time = datetime.datetime.now()\n",
    "print(current_date_time)\n",
    "\n",
    "text1='Date and current time is:'\n",
    "print(f\"{text1}, {current_date_time}\")\n",
    "\n",
    "# Print the current year using the variable\n",
    "print(current_date_time.year)"
   ]
  }
 ],
 "metadata": {
  "kernelspec": {
   "display_name": "Python 3",
   "language": "python",
   "name": "python3"
  },
  "language_info": {
   "codemirror_mode": {
    "name": "ipython",
    "version": 3
   },
   "file_extension": ".py",
   "mimetype": "text/x-python",
   "name": "python",
   "nbconvert_exporter": "python",
   "pygments_lexer": "ipython3",
   "version": "3.9.17"
  },
  "orig_nbformat": 4
 },
 "nbformat": 4,
 "nbformat_minor": 2
}
