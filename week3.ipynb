{
 "cells": [
  {
   "cell_type": "markdown",
   "id": "1cdea2b7",
   "metadata": {},
   "source": [
    "# Chapter 3: Control Flow"
   ]
  },
  {
   "cell_type": "markdown",
   "id": "5b7d05a4",
   "metadata": {},
   "source": [
    "## Loops and Conditional Statements <br>and Some Coding Conventions\n",
    "\n",
    "**Author: Dr. Suborna Ahmed**"
   ]
  },
  {
   "cell_type": "markdown",
   "id": "89240c0e",
   "metadata": {},
   "source": [
    "## <span style=\"color:blue\"> Learning Objectives:</span>       \n",
    "\n",
    "- Controlling the Action:\n",
    "    - Precursor to Conditional Statements\n",
    "    - Conditional Statements\n",
    "    - Complex Decisions\n",
    "        - Conditional Expressions\n",
    "        - Comparison and Logic Operators\n",
    "    - Loops\n",
    "        - **`while`** Loop\n",
    "        - **`for`** Loop\n",
    "        - Breaking Out of Loops\n",
    "        - Keeping loops going\n",
    "    - List Comprehensions\n",
    "    \n",
    "- Functions in Python\n",
    "    - Function: **`def`**\n",
    "        - Single or Multiple Objects\n",
    "        - Default Arguments\n",
    "    - Function: **`lambda`**\n",
    "\n",
    "- A Few Coding Conventions\n",
    "    - Variable Names\n",
    "    - Consistency in Indentation\n",
    "    - Whitespace\n",
    "    - Comments on a Code\n",
    "    - Special Characters\n",
    "    - Keywords/Reserved Words\n",
    "    - Multiple assignments\n",
    "\n",
    "- Modules\n",
    "- Objects"
   ]
  },
  {
   "cell_type": "markdown",
   "id": "763795c6",
   "metadata": {},
   "source": [
    "## 1. Controlling the Action:\n",
    "\n",
    "This chapter talks about how to controll the flow of your program's execution. It covers various techniques that allow you to make decisions and control the actions performed in your program based on specific conditions you made.\n",
    "\n",
    "Now, let's make our own work flow and add conditions to make a decision."
   ]
  },
  {
   "cell_type": "markdown",
   "id": "db5ccb8b",
   "metadata": {},
   "source": [
    "### 1.1 Precursor to Conditional Statements\n",
    "\n",
    "This part provides an introduction to conditional statements. Basic questions about data can be answered using conditional statements, which is closely related to `Booleans` (have been discussed in week2 material). \n",
    "\n",
    "We used logical operators and received output as a binary answer \"TRUE\" or \"FALSE\". We can use equallity or inequality operators in the conditional statements."
   ]
  },
  {
   "cell_type": "markdown",
   "id": "9a6eef8e",
   "metadata": {},
   "source": [
    "- Recall the comparison and logical operators we learned in week 2. The following codes are some examples which produce binary answers and can be used in conditional statements."
   ]
  },
  {
   "cell_type": "code",
   "execution_count": 1,
   "id": "076ce1bd",
   "metadata": {
    "tags": []
   },
   "outputs": [
    {
     "name": "stdout",
     "output_type": "stream",
     "text": [
      "a = 2 , b = 5 , c = True\n",
      "a > b is:  False\n",
      "b > a is:  True\n",
      "True\n",
      "False\n",
      "False\n",
      "True\n"
     ]
    }
   ],
   "source": [
    "# Precursor to Conditional Statements\n",
    "\n",
    "a, b = 2, 5\n",
    "c = True\n",
    "print(\"a =\", a, \", b =\", b, \", c =\", c)\n",
    "\n",
    "print(\"a > b is: \", a > b)\n",
    "print(\"b > a is: \", b > a)\n",
    "\n",
    "print(c == True)\n",
    "print(c == False)\n",
    "\n",
    "d = 'Active'\n",
    "print(d == 'Non-active')\n",
    "print(d == 'Active')"
   ]
  },
  {
   "cell_type": "markdown",
   "id": "a48d3690",
   "metadata": {},
   "source": [
    "### 1.2 Conditional Statements\n",
    "\n",
    "Conditional statements help us decide the flow while making a decision based on values in a data set. It affects what the result we receive. We mostly use `if` statements but more statements are added using `elif` and `else` statements. These statements allow you to create branching paths in your code based on different conditions."
   ]
  },
  {
   "cell_type": "markdown",
   "id": "0ec574a1",
   "metadata": {},
   "source": [
    "**Basic Syntax for Conditional Statements:**\n",
    "\n",
    "**- `if` statement:** <br>\n",
    "\n",
    "<span style=\"color: green;font-weight:bold\">\n",
    "&emsp; if (conditional expression): <br>\n",
    "&emsp;&emsp; Statement blocks (statements to execute when the condition is True)\n",
    "</span>\n",
    "\n",
    "**- `else` clause:** <br>\n",
    "\n",
    "<span style=\"color: green;font-weight:bold\">\n",
    "&emsp; if (conditional expression):<br>\n",
    "&emsp;&emsp; Statement blocks (statements to execute when the condition is True) <br>\n",
    "&emsp; else: <br>\n",
    "&emsp;&emsp; Statement blocks (statements to execute if the condition above is False) <br>\n",
    "</span>\n",
    "\n",
    "**- `elif` clause**: <br>\n",
    "\n",
    "<span style=\"color: green;font-weight:bold\">\n",
    "&emsp;if (conditional expression 1):<br>\n",
    "&emsp;&emsp; Statement blocks 1 (statements to execute when the condition 1 is True)<br>\n",
    "&emsp; elif (conditional expression 2): <br>\n",
    "&emsp;&emsp; Statement blocks 2 (statements to execute when the condition 2 is True)<br>\n",
    "&emsp; … <br> \n",
    "&emsp; else: <br>\n",
    "&emsp;&emsp; Statement blocks n (statements to execute if all the conditions above are False)\n",
    "<br>\n",
    "<br>"
   ]
  },
  {
   "cell_type": "markdown",
   "id": "576fdd8e",
   "metadata": {},
   "source": [
    "**Before talking about the conditional statement example below, we look at the `input( )` function first.**\n",
    "\n",
    "- The code below give an example to use the input( ) funciton to receive user's input information and assign it to the variable \"test1\". Then print \"Hi \" plus the user's input."
   ]
  },
  {
   "cell_type": "code",
   "execution_count": null,
   "id": "b4b13383",
   "metadata": {},
   "outputs": [],
   "source": [
    "# Example for input function\n",
    "test1 = input('Enter your first name:')\n",
    "print('Hi ',  test1)"
   ]
  },
  {
   "cell_type": "markdown",
   "id": "7416e4b3",
   "metadata": {},
   "source": [
    "**Examples:**"
   ]
  },
  {
   "cell_type": "markdown",
   "id": "8ec07599",
   "metadata": {},
   "source": [
    "- The example below asks the user to enter a number using the `input( )` function and assign it to the variable \"number\".\n",
    "- Then, use the conditional statement to compare the number(user's input) with 1."
   ]
  },
  {
   "cell_type": "code",
   "execution_count": null,
   "id": "01d40399",
   "metadata": {
    "tags": []
   },
   "outputs": [],
   "source": [
    "# In Pythhon 3 we have to use eval(input()) to add a raw number but in Python 2 it's raw_input\n",
    "# eval identfy the expression (your input) as a string but execute the expression as number here. \n",
    "# int function is optional here\n",
    "\n",
    "print(\"Please enter a number\")\n",
    "number = int(eval(input()))\n",
    "if (number > 1):\n",
    "    print(number, 'is bigger than 1')\n",
    "elif (number < 1):\n",
    "    print(number, ' is less than 1')\n",
    "else:\n",
    "    print(number, 'is equal to 1')"
   ]
  },
  {
   "cell_type": "markdown",
   "id": "7037dda5",
   "metadata": {},
   "source": [
    "- The example below added more conditions to compare the number with different range boundaries to narrow the interval."
   ]
  },
  {
   "cell_type": "code",
   "execution_count": null,
   "id": "9e15adbb",
   "metadata": {},
   "outputs": [],
   "source": [
    "# Try to add more conditions\n",
    "\n",
    "print(\"please enter a number\")\n",
    "number = int(eval(input()))\n",
    "\n",
    "if (number<0):\n",
    "    print(number, \"is negative\")\n",
    "elif (0<=number<10):\n",
    "    print(number, 'is with in the range 0 to 9')\n",
    "elif (10<=number<20):\n",
    "    print(number, ' is with in the range 10 to 19')\n",
    "elif (20<=number<30):\n",
    "    print(number, ' is with in the range 20 to 29')\n",
    "else:\n",
    "    print(number, 'is greater than 29')"
   ]
  },
  {
   "cell_type": "markdown",
   "id": "b82ee178",
   "metadata": {},
   "source": [
    "### 1.3 Complex Decisions\n",
    "\n",
    "This part we will delves into more complex decision-making scenarios. We will discuss the conditional statements with `if/elif/else combinations`. Also, we will discuss the `nested if statements`,  where conditions are nested within each other to create intricate decision structures."
   ]
  },
  {
   "cell_type": "code",
   "execution_count": 2,
   "id": "38d0cbdb",
   "metadata": {
    "tags": []
   },
   "outputs": [
    {
     "name": "stdout",
     "output_type": "stream",
     "text": [
      "p=5\n"
     ]
    }
   ],
   "source": [
    "# Example\n",
    "\n",
    "p = 5\n",
    "\n",
    "if p < 5:\n",
    "    print('p<5')\n",
    "elif p > 5:\n",
    "    print('p>5')\n",
    "else:\n",
    "    print('p=5')"
   ]
  },
  {
   "cell_type": "markdown",
   "id": "c7b88ea8",
   "metadata": {},
   "source": [
    "#### 1.3.1 Conditional expressions"
   ]
  },
  {
   "cell_type": "markdown",
   "id": "b1bad8a0",
   "metadata": {},
   "source": [
    "##### <span style=\"color: blue\">Evaluates to False:</span>\n",
    "- Empty string (‘’ or “”)\n",
    "- Empty container (list, tuple, set, dictionary)\n",
    "- None\n",
    "- Anything that is false."
   ]
  },
  {
   "cell_type": "markdown",
   "id": "10390f78",
   "metadata": {},
   "source": [
    "In Python, we can use single or double quotation marks to represent `empty string`, no space between the quotation marks.\n",
    "And an empty string always evaluates to `False` in a boolean context. Therefore, the statement under \"else\" will be executed."
   ]
  },
  {
   "cell_type": "code",
   "execution_count": 3,
   "id": "1206d61e",
   "metadata": {
    "tags": []
   },
   "outputs": [
    {
     "name": "stdout",
     "output_type": "stream",
     "text": [
      "print else\n"
     ]
    }
   ],
   "source": [
    "# empty string example\n",
    "if (''):\n",
    "    print('print if')\n",
    "else:\n",
    "    print('print else')"
   ]
  },
  {
   "cell_type": "markdown",
   "id": "d1ed5e60",
   "metadata": {},
   "source": [
    "In Python, empty containers such as an `empty list []`, an `empty tuple ()`, and an `empty dictionary {}` are considered to be `False` in a boolean context. Thus, the statement under \"else\" will be executed."
   ]
  },
  {
   "cell_type": "code",
   "execution_count": 4,
   "id": "80aa695b",
   "metadata": {
    "tags": []
   },
   "outputs": [
    {
     "name": "stdout",
     "output_type": "stream",
     "text": [
      "print else\n"
     ]
    }
   ],
   "source": [
    "# empty container example\n",
    "if []:\n",
    "    print('print if')\n",
    "else:\n",
    "    print('print else')"
   ]
  },
  {
   "cell_type": "markdown",
   "id": "b28dca7b",
   "metadata": {},
   "source": [
    "In Python, `None` value is also interpreted as `False` in boolean context. Thus, the statement under \"else\" will be executed"
   ]
  },
  {
   "cell_type": "code",
   "execution_count": 5,
   "id": "24625b51",
   "metadata": {
    "tags": []
   },
   "outputs": [
    {
     "name": "stdout",
     "output_type": "stream",
     "text": [
      "print else\n"
     ]
    }
   ],
   "source": [
    "# \"None\" example\n",
    "if None:\n",
    "    print('print if')\n",
    "else:\n",
    "    print('print else')"
   ]
  },
  {
   "cell_type": "markdown",
   "id": "0efd264f",
   "metadata": {},
   "source": [
    "##### <span style=\"color: blue\">Evaluates to True:</span>\n",
    "\n",
    "- Everything else that is true."
   ]
  },
  {
   "cell_type": "markdown",
   "id": "404368f0",
   "metadata": {},
   "source": [
    "The example below demonstrate that we can use `True` or `False` directly in the conditional statements. When we assign \"val1\" to be True, the statement under \"if\" will be executed; when we have a \"not\" before the True value, the statement under \"else\" will be executed."
   ]
  },
  {
   "cell_type": "code",
   "execution_count": 6,
   "id": "5642870d",
   "metadata": {
    "tags": []
   },
   "outputs": [
    {
     "name": "stdout",
     "output_type": "stream",
     "text": [
      "print if\n",
      "print else\n"
     ]
    }
   ],
   "source": [
    "# \"True\" and \"False\" example\n",
    "\n",
    "val1 = True\n",
    "\n",
    "if val1:\n",
    "    print ('print if')\n",
    "else:\n",
    "    print('print else')\n",
    "    \n",
    "    \n",
    "if(not val1):\n",
    "    print ('print if')\n",
    "else:\n",
    "    print('print else')"
   ]
  },
  {
   "cell_type": "markdown",
   "id": "d28e2c75",
   "metadata": {},
   "source": [
    "#### 1.3.2 Comparison and Logic Operators\n",
    "\n",
    "##### Comparison Operators\n",
    "<blockquote>\n",
    "    \n",
    "Comparison operators compare values and return `True` or `False`.\n",
    "    \n",
    "   `>, >=, <, <=, ==, !=, is , is not, in, not in`\n",
    "    \n",
    "</blockquote>\n",
    "   \n",
    "##### Logic operators\n",
    "<blockquote>\n",
    "    \n",
    "Logical operators can be used to provide multiple conditional expressions or perform negation of expressions:\n",
    "    \n",
    "   `and, or, not`\n",
    "    \n",
    "</blockquote>"
   ]
  },
  {
   "cell_type": "markdown",
   "id": "e892c477",
   "metadata": {},
   "source": [
    "We can also use logical operators to combine two or more than two boolean values together in the conditional statement. The example below shows that only when both x and y are greater than zero, the statement under \"if\" will be executed."
   ]
  },
  {
   "cell_type": "code",
   "execution_count": 7,
   "id": "e2d79864",
   "metadata": {
    "tags": []
   },
   "outputs": [
    {
     "name": "stdout",
     "output_type": "stream",
     "text": [
      "x and y are positive values\n"
     ]
    }
   ],
   "source": [
    "# example\n",
    "x = 6\n",
    "y = 5\n",
    "\n",
    "if x > 0 and y > 0:\n",
    "    print('x and y are positive values')\n",
    "else:\n",
    "    print('not both of them are positive')"
   ]
  },
  {
   "cell_type": "markdown",
   "id": "56b9abdf",
   "metadata": {},
   "source": [
    "##### Nested Conditions\n",
    "<br>\n",
    "Conditional Statements can also be written in a nested condition, so that we are able to handle multiple conditions and create more sophisticated logic."
   ]
  },
  {
   "cell_type": "markdown",
   "id": "4ceb1c4b",
   "metadata": {},
   "source": [
    "For example, if we want to check if a student is from this course (GEM 530 101) or not. We need to check: department information, course name, and section number.\n",
    "<br>\n",
    "The conditional statements first check if the student if from the same department, then check the course name, and last check the section number."
   ]
  },
  {
   "cell_type": "code",
   "execution_count": 8,
   "id": "072c3db8",
   "metadata": {},
   "outputs": [
    {
     "name": "stdout",
     "output_type": "stream",
     "text": [
      "The student is from a differenction department.\n"
     ]
    }
   ],
   "source": [
    "# condition 1: different department\n",
    "# the information below are from the student\n",
    "dep = \"Economics\"\n",
    "course = \"GEM530\"\n",
    "section = \"101\"\n",
    "\n",
    "# nested if conditions\n",
    "if dep == \"Forestry\":\n",
    "    if course == \"GEM530\":\n",
    "        if section == \"101\":\n",
    "            print(\"Yes\")\n",
    "        else:\n",
    "            print(\"The student is from a differenction section.\")\n",
    "    else: \n",
    "        print(\"The student is from a differenction course.\")\n",
    "else:\n",
    "    print(\"The student is from a differenction department.\")"
   ]
  },
  {
   "cell_type": "code",
   "execution_count": 9,
   "id": "45d3b82d",
   "metadata": {},
   "outputs": [
    {
     "name": "stdout",
     "output_type": "stream",
     "text": [
      "The student is from a differenction course.\n"
     ]
    }
   ],
   "source": [
    "# condition 2: different course name\n",
    "# the information below are from the student\n",
    "dep = \"Forestry\"\n",
    "course = \"ECON101\"\n",
    "section = \"101\"\n",
    "\n",
    "# nested if conditions\n",
    "if dep == \"Forestry\":\n",
    "    if course == \"GEM530\":\n",
    "        if section == \"101\":\n",
    "            print(\"Yes\")\n",
    "        else:\n",
    "            print(\"The student is from a differenction section.\")\n",
    "    else: \n",
    "        print(\"The student is from a differenction course.\")\n",
    "else:\n",
    "    print(\"The student is from a differenction department.\")"
   ]
  },
  {
   "cell_type": "code",
   "execution_count": 10,
   "id": "dd9f79cd",
   "metadata": {
    "tags": []
   },
   "outputs": [
    {
     "name": "stdout",
     "output_type": "stream",
     "text": [
      "The student is from a differenction section.\n"
     ]
    }
   ],
   "source": [
    "# condition 3: different section number\n",
    "# the information below are from the student\n",
    "dep = \"Forestry\"\n",
    "course = \"GEM530\"\n",
    "section = \"102\"\n",
    "\n",
    "# nested if conditions\n",
    "if dep == \"Forestry\":\n",
    "    if course == \"GEM530\":\n",
    "        if section == \"101\":\n",
    "            print(\"Yes\")\n",
    "        else:\n",
    "            print(\"The student is from a differenction section.\")\n",
    "    else: \n",
    "        print(\"The student is from a differenction course.\")\n",
    "else:\n",
    "    print(\"The student is from a differenction department.\")"
   ]
  },
  {
   "cell_type": "markdown",
   "id": "2fca714b",
   "metadata": {},
   "source": [
    "In condition4, we can see that although the student's information are totally different, the conditional statements always check the department information first, and if it cannot match, then, the false message will be printed out."
   ]
  },
  {
   "cell_type": "code",
   "execution_count": 11,
   "id": "e5743477",
   "metadata": {},
   "outputs": [
    {
     "name": "stdout",
     "output_type": "stream",
     "text": [
      "The student is from a differenction department.\n"
     ]
    }
   ],
   "source": [
    "# condition 4: different department, course and section number\n",
    "# the information below are from the student\n",
    "dep = \"Economics\"\n",
    "course = \"ECON101\"\n",
    "section = \"100\"\n",
    "\n",
    "# nested if conditions\n",
    "if dep == \"Forestry\":\n",
    "    if course == \"GEM530\":\n",
    "        if section == \"101\":\n",
    "            print(\"Yes\")\n",
    "        else:\n",
    "            print(\"The student is from a differenction section.\")\n",
    "    else: \n",
    "        print(\"The student is from a differenction course.\")\n",
    "else:\n",
    "    print(\"The student is from a differenction department.\")"
   ]
  },
  {
   "cell_type": "markdown",
   "id": "2a99bfae",
   "metadata": {},
   "source": [
    "``````{admonition} Activity 1\n",
    "\n",
    "```python\n",
    "# example\n",
    "x = 6\n",
    "y = 5\n",
    "\n",
    "if x > 0 and y > 0:\n",
    "    print('x and y are positive values')\n",
    "else:\n",
    "    print('not both of them are positive')\n",
    "```\n",
    "\n",
    "1. Try using 'or' instead of 'and' in the above example. \n",
    "2. Change the values of x & y. \n",
    "3. Change the statement to `if-elif-else` clauses (use at least one elif condition and you can change the values of x and y to check your statement).\n",
    "4. Change the statement to include `nested if conditions`.\n",
    "``````"
   ]
  },
  {
   "cell_type": "code",
   "execution_count": null,
   "id": "53d891b2",
   "metadata": {},
   "outputs": [],
   "source": [
    "# write your codes here"
   ]
  },
  {
   "cell_type": "markdown",
   "id": "3104141b",
   "metadata": {},
   "source": [
    "See [solution for activity 1](section-label-3.1) at the end."
   ]
  },
  {
   "cell_type": "markdown",
   "id": "71d0998f",
   "metadata": {},
   "source": [
    "### 1.4 Loops \n",
    "\n",
    "![loop_symbol.png](Week3_img/loop_symbol.png)"
   ]
  },
  {
   "cell_type": "markdown",
   "id": "19338c7d",
   "metadata": {},
   "source": [
    "Loops are powerful constructs that allow you to repeat a block of code multiple times. \n",
    "\n",
    "This section introduces loops and covers two common types in Python: \n",
    "\n",
    "1. `while` loop\n",
    "2. `for` loop"
   ]
  },
  {
   "cell_type": "markdown",
   "id": "9b568f53",
   "metadata": {},
   "source": [
    "#### 1.4.1 `while` loop\n",
    "\n",
    "- While loop repeats a block of code as long as any specified condition is true.\n",
    "\n",
    "<blockquote>\n",
    "<span style=\"color:red\">CAN BACKFIRE IF YOUR CONDITION IS NEVER FALSE</span>\n",
    "    </blockquote>"
   ]
  },
  {
   "cell_type": "markdown",
   "id": "3f43b3ce",
   "metadata": {},
   "source": [
    "We first assign i to be 2, and in the while loop, as long as i is less than 10, we will print out i and add 1 to i to update its value."
   ]
  },
  {
   "cell_type": "code",
   "execution_count": 12,
   "id": "91a33898",
   "metadata": {
    "tags": []
   },
   "outputs": [
    {
     "name": "stdout",
     "output_type": "stream",
     "text": [
      "2\n",
      "3\n",
      "4\n",
      "5\n",
      "6\n",
      "7\n",
      "8\n",
      "9\n"
     ]
    }
   ],
   "source": [
    "# Example 1\n",
    "i = 2\n",
    "while i < 10:\n",
    "    print(i)\n",
    "    i += 1 # add 1 to i every time after the print"
   ]
  },
  {
   "cell_type": "code",
   "execution_count": 13,
   "id": "8f87c956",
   "metadata": {
    "tags": []
   },
   "outputs": [
    {
     "name": "stdout",
     "output_type": "stream",
     "text": [
      "3\n",
      "4\n",
      "5\n"
     ]
    }
   ],
   "source": [
    "# Example 2\n",
    "a = 2\n",
    "while a < 5:\n",
    "    a = a + 1 # same as \"a += 1\"\n",
    "    print(a)"
   ]
  },
  {
   "cell_type": "markdown",
   "id": "03d017c6",
   "metadata": {},
   "source": [
    "`````{admonition} Note\n",
    ":class: tip\n",
    "\n",
    "**Range function**\n",
    "\n",
    "\n",
    "The range( ) function in Python is used to generate a sequence of numbers. It's commonly used in loops to iterate over a specific range of values.\n",
    "\n",
    "The range( ) function returns a range object that represents a sequence of numbers. This object can be converted to a list or iterated directly in a loop.\n",
    "``````"
   ]
  },
  {
   "cell_type": "markdown",
   "id": "96045242",
   "metadata": {},
   "source": [
    "**The general syntax for the range( ) function is as follows:**\n",
    "&emsp;&emsp;<span style=\"color:red; font-weight:700;font-size:15px\">range(start, stop, step)</span>\n",
    "\n",
    " - start (optional): The starting value of the sequence. If not provided, the sequence starts from 0.\n",
    " - stop (required): The ending value of the sequence. The sequence generated by range() will contain values up to, but not including, this value.\n",
    " - step (optional): The increment between consecutive values in the sequence. If not provided, the default step is 1.\n",
    " \n",
    "<blockquote>\n",
    "    \n",
    "- `range(stop)`: from 0 to stop-1\n",
    "    \n",
    "- `range(start, stop)`:  from start to stop-1\n",
    "    \n",
    "- `range (start, stop, step)`:  from start to stop-1, increments by step\n",
    "</blockquote>\n",
    "\n",
    "<a href=\"https://www.geeksforgeeks.org/python-range-function/\" target=\"_blank\">See more examples on this site</a>"
   ]
  },
  {
   "cell_type": "markdown",
   "id": "9e11db57",
   "metadata": {},
   "source": [
    "![range_func-2.png](Week3_img/range_func.png)"
   ]
  },
  {
   "cell_type": "markdown",
   "id": "7fc59ace",
   "metadata": {},
   "source": [
    "- On Jupyter, to get the result of range function you need to write `list(range(add a value))` but on PyCharm we can direclty write `range(add a value)`."
   ]
  },
  {
   "cell_type": "markdown",
   "id": "1a3b4928",
   "metadata": {},
   "source": [
    "- When you write `range(x)`, you cannot see the complete sequence of elements, you need to write `list(range(x))` to show the complete list."
   ]
  },
  {
   "cell_type": "code",
   "execution_count": 14,
   "id": "2ab4e51b",
   "metadata": {},
   "outputs": [
    {
     "data": {
      "text/plain": [
       "range(0, 3)"
      ]
     },
     "execution_count": 14,
     "metadata": {},
     "output_type": "execute_result"
    }
   ],
   "source": [
    "range(3)"
   ]
  },
  {
   "cell_type": "code",
   "execution_count": 15,
   "id": "8f6f9e42",
   "metadata": {
    "tags": []
   },
   "outputs": [
    {
     "name": "stdout",
     "output_type": "stream",
     "text": [
      "[0, 1, 2]\n",
      "[1, 2, 3, 4]\n",
      "[0, 5, 10, 15, 20, 25, 30, 35, 40]\n"
     ]
    }
   ],
   "source": [
    "# Range Function\n",
    "print(list(range(3))) # range(stop)\n",
    "\n",
    "print(list(range(1,5))) # range(start, stop)\n",
    "\n",
    "print(list(range(0,45,5))) # range(start, stop, step)"
   ]
  },
  {
   "cell_type": "markdown",
   "id": "619f0d4c",
   "metadata": {},
   "source": [
    "`````{admonition} Note\n",
    ":class: tip\n",
    "\n",
    "**Append function**\n",
    "    \n",
    "list.append( ) function adds element to the end of the list and the length of the list increases by one.\n",
    "``````"
   ]
  },
  {
   "cell_type": "code",
   "execution_count": 16,
   "id": "b297de57",
   "metadata": {
    "tags": []
   },
   "outputs": [
    {
     "name": "stdout",
     "output_type": "stream",
     "text": [
      "[2, 4, 6, 8, 10]\n",
      "[2, 4, 6, 8, 10, ['x', 'y']]\n"
     ]
    }
   ],
   "source": [
    "# append function examples\n",
    "num = [2,4,6,8]\n",
    "num.append(10)\n",
    "print(num)\n",
    "\n",
    "num.append([\"x\", \"y\"])\n",
    "print(num)"
   ]
  },
  {
   "cell_type": "markdown",
   "id": "80a7c495",
   "metadata": {},
   "source": [
    "`````{admonition} Note\n",
    ":class: tip\n",
    "    \n",
    "- `list.append(x)` adds x as a `single element` to the end of a list. \n",
    "\n",
    "- `list.extend(x)` iterates over x, which can be anything iterable, and `adds each element of x to the list`. The length of the list will increase by the number of elements in the iterable argument x.\n",
    "``````"
   ]
  },
  {
   "cell_type": "code",
   "execution_count": 17,
   "id": "16dc41fd",
   "metadata": {
    "tags": []
   },
   "outputs": [
    {
     "name": "stdout",
     "output_type": "stream",
     "text": [
      "[2, 4, 6, 8, 'x', 'y']\n",
      "[2, 4, 6, 8, 'x', 'y']\n"
     ]
    }
   ],
   "source": [
    "# extend function example\n",
    "num = [2,4,6,8]\n",
    "letter = [\"x\", \"y\"]\n",
    "num.extend(letter)\n",
    "print(num)\n",
    "\n",
    "num = [2,4,6,8]\n",
    "letter = [\"x\", \"y\"]\n",
    "print(num + letter)"
   ]
  },
  {
   "cell_type": "markdown",
   "id": "90097362",
   "metadata": {},
   "source": [
    "#### 1.4.2  `for` loop\n",
    "\n",
    "- Perform a block of code for each element of a set of values.\n",
    "- It iterate over a set of sequence. It's particularly useful for iterating over lists, strings, tuples, and other iterable objects.\n",
    "\n",
    "<blockquote>\n",
    "<span style=\"color:red\">CAN BACKFIRE IF YOU ADD TOO MANY NESTED LOOPS</span>\n",
    "    </blockquote>"
   ]
  },
  {
   "cell_type": "markdown",
   "id": "95c82b65",
   "metadata": {},
   "source": [
    "We first create a variable named \"word\" and assign it the string \"computer disk\". Then start a for loop that iterates over each character in word. \n",
    "<br>\n",
    "In this loop, \"letter\" is the loop variable and takes on the value of each successive character in \"word\" during each iteration of the loop.\n",
    "\n",
    "<blockquote>\n",
    "The word \"letter\" doesn't have a special meaning in Python. It's a variable name, which means it's simply a name used to represent a value in the code that was chosen by the programmer for readability. In the script, \"letter\" represents each character (including spaces and punctuation) in the string \"word\" as the for loop iterates over it. You can give it another name you like, as in example 2, we use \"character\".\n",
    "</blockquote>\n",
    "\n",
    "In the body of the loop, the print command is executed for each iteration. It calls the print function on \"letter\", so the current character is outputted to the console."
   ]
  },
  {
   "cell_type": "code",
   "execution_count": 18,
   "id": "356c66f5",
   "metadata": {
    "tags": []
   },
   "outputs": [
    {
     "name": "stdout",
     "output_type": "stream",
     "text": [
      "c\n",
      "o\n",
      "m\n",
      "p\n",
      "u\n",
      "t\n",
      "e\n",
      "r\n",
      " \n",
      "d\n",
      "i\n",
      "s\n",
      "k\n"
     ]
    }
   ],
   "source": [
    "# for loop: example 1\n",
    "word = \"computer disk\"\n",
    "for letter in word:\n",
    "    print(letter)"
   ]
  },
  {
   "cell_type": "code",
   "execution_count": 19,
   "id": "97efbf9d",
   "metadata": {
    "tags": []
   },
   "outputs": [
    {
     "name": "stdout",
     "output_type": "stream",
     "text": [
      "h\n",
      "e\n",
      "l\n",
      "l\n",
      "o\n"
     ]
    }
   ],
   "source": [
    "# for loop: example 2\n",
    "for character in 'hello':\n",
    "    print(character) "
   ]
  },
  {
   "cell_type": "markdown",
   "id": "148204df",
   "metadata": {},
   "source": [
    "In example 3, we show the iteration for a list of numbers in range(10), which is a list of integer from 0 to 9. And we use \"i\" to represent the loop variable. You can use whatever you like, such as \"x\", \"j\"... etc."
   ]
  },
  {
   "cell_type": "code",
   "execution_count": 20,
   "id": "9caed51f",
   "metadata": {
    "tags": []
   },
   "outputs": [
    {
     "name": "stdout",
     "output_type": "stream",
     "text": [
      "0\n",
      "1\n",
      "2\n",
      "3\n",
      "4\n",
      "5\n",
      "6\n",
      "7\n",
      "8\n",
      "9\n"
     ]
    }
   ],
   "source": [
    "# for loop: example 3\n",
    "for i in range(10):\n",
    "    print(i)"
   ]
  },
  {
   "cell_type": "markdown",
   "id": "33df72f2",
   "metadata": {},
   "source": [
    "**Append in loops**\n",
    "\n",
    "![append.png](Week3_img/append.png)"
   ]
  },
  {
   "cell_type": "markdown",
   "id": "d710923d",
   "metadata": {},
   "source": [
    "In the example below, we first initialize an empty list named \"new_list\", which is used to store the value append to the list after each iteration. The loop iterates over each value in range(10), which includes a sequence of numbers from 0 to 9 (10 is the stop argument and is exclusive). Inside the for loop, it appends the current value of \"v\" to \"new_list\" on each iteration and prints the current state of \"new_list\" after the append operation."
   ]
  },
  {
   "cell_type": "code",
   "execution_count": 21,
   "id": "f88841f9",
   "metadata": {
    "scrolled": true,
    "tags": []
   },
   "outputs": [
    {
     "name": "stdout",
     "output_type": "stream",
     "text": [
      "[0]\n",
      "[0, 1]\n",
      "[0, 1, 2]\n",
      "[0, 1, 2, 3]\n",
      "[0, 1, 2, 3, 4]\n",
      "[0, 1, 2, 3, 4, 5]\n",
      "[0, 1, 2, 3, 4, 5, 6]\n",
      "[0, 1, 2, 3, 4, 5, 6, 7]\n",
      "[0, 1, 2, 3, 4, 5, 6, 7, 8]\n",
      "[0, 1, 2, 3, 4, 5, 6, 7, 8, 9]\n"
     ]
    }
   ],
   "source": [
    "# for loop with append function: example 4 \n",
    "new_list = []\n",
    "for v in range(10):\n",
    "    new_list.append(v)\n",
    "    print(new_list)"
   ]
  },
  {
   "cell_type": "markdown",
   "id": "28a8ee42",
   "metadata": {},
   "source": [
    "In this example, we add a if statement before the append operation, which checks if the current value of \"v\" is less or equal to 3. If the condition meets, the append and print operation will be executed."
   ]
  },
  {
   "cell_type": "code",
   "execution_count": 22,
   "id": "5ca429db",
   "metadata": {
    "tags": []
   },
   "outputs": [
    {
     "name": "stdout",
     "output_type": "stream",
     "text": [
      "[0]\n",
      "[0, 1]\n",
      "[0, 1, 2]\n",
      "[0, 1, 2, 3]\n"
     ]
    }
   ],
   "source": [
    "# for loop with append function and conditional statement: example 5\n",
    "new_list = []\n",
    "for v in range(10):\n",
    "    if v <= 3:\n",
    "        new_list.append(v)\n",
    "        print(new_list)"
   ]
  },
  {
   "cell_type": "markdown",
   "id": "c500bdb2",
   "metadata": {},
   "source": [
    "#### 1.4.3 Breaking Out of Loops\n",
    "\n",
    "![breakout.png](Week3_img/breakout.png)"
   ]
  },
  {
   "cell_type": "markdown",
   "id": "4095bec5",
   "metadata": {},
   "source": [
    "Sometimes, you may need to prematurely exit a loop based on certain conditions. This subsection covers techniques for breaking out of loops, such as the **`break`** statement, which immediately terminates the loop and **`continues executing codes outside the loop`**."
   ]
  },
  {
   "cell_type": "markdown",
   "id": "4973237f",
   "metadata": {},
   "source": [
    "The example below initiates a for loop where i is the loop variable. The range(100) function generates a sequence of numbers from 0 up to but not including 100. The if statement inside the loop checks if the current value of i equals 10. And the print function inside the loop prints the current value of i. When the if-condition meets, the `break statement` is executed: exits the for loop even if not all iterations have been completed. "
   ]
  },
  {
   "cell_type": "code",
   "execution_count": 23,
   "id": "e5af3680",
   "metadata": {
    "tags": []
   },
   "outputs": [
    {
     "name": "stdout",
     "output_type": "stream",
     "text": [
      "0\n",
      "1\n",
      "2\n",
      "3\n",
      "4\n",
      "5\n",
      "6\n",
      "7\n",
      "8\n",
      "9\n"
     ]
    }
   ],
   "source": [
    "# Breaking Out of Loops\n",
    "for i in range(100):\n",
    "    if i == 10:\n",
    "        break # Exit the loop if the i equals to 10\n",
    "    print(i)"
   ]
  },
  {
   "cell_type": "markdown",
   "id": "74801d77",
   "metadata": {},
   "source": [
    "#### 1.4.4 Keeping loops going\n",
    "\n",
    "![continue.png](Week3_img/continue.png)"
   ]
  },
  {
   "cell_type": "markdown",
   "id": "b8bf6948",
   "metadata": {},
   "source": [
    "In certain scenarios, you may want to **skip the current iteration** of a loop **when it meets the condition**, but **continue the loop's execution**. This part discusses the **`continue`** function, which allows you to **`skip the remaining code inside a loop for the current iteration only`**, and **`move to the next iteration, without ending the entire loop`**."
   ]
  },
  {
   "cell_type": "markdown",
   "id": "8199f664",
   "metadata": {},
   "source": [
    "The example below initiates a for loop for a sequence of numbers from 0 up to but not including 10. The if statement inside the loop checks if the current value of i is an even number. And the print function inside the loop prints the current value of i. When the if-condition meets, if i is an even number, the `continue statement` is executed: skips the rest of the current iteration and immediately starts the next iteration of the loop.\n",
    "\n",
    "<blockquote>\n",
    "    The % operator is the modulus operator, which returns the remainder of i divided by 2. If i is an even number, i%2 equals 0.\n",
    "</blockquote>"
   ]
  },
  {
   "cell_type": "code",
   "execution_count": 24,
   "id": "9737e1ac",
   "metadata": {
    "tags": []
   },
   "outputs": [
    {
     "name": "stdout",
     "output_type": "stream",
     "text": [
      "1\n",
      "3\n",
      "5\n",
      "7\n",
      "9\n"
     ]
    }
   ],
   "source": [
    "# Example 1\n",
    "# continue function: skip\n",
    "for i in range(10):\n",
    "    if i%2 == 0:\n",
    "        continue # Skip the current iteration if i is even\n",
    "    print(i)"
   ]
  },
  {
   "cell_type": "markdown",
   "id": "481346b5",
   "metadata": {},
   "source": [
    "Here, when i is an even number, the `pass statement` is executed. **The pass statement in Python does nothing.**"
   ]
  },
  {
   "cell_type": "code",
   "execution_count": 25,
   "id": "fc39e8b0",
   "metadata": {
    "tags": []
   },
   "outputs": [
    {
     "name": "stdout",
     "output_type": "stream",
     "text": [
      "0\n",
      "1\n",
      "2\n",
      "3\n",
      "4\n",
      "5\n",
      "6\n",
      "7\n",
      "8\n",
      "9\n"
     ]
    }
   ],
   "source": [
    "# Example 2\n",
    "# pass function: do nothing\n",
    "for i in range(10):\n",
    "    if i%2 == 0:\n",
    "        pass # Do nothing if the i is even\n",
    "    print(i)"
   ]
  },
  {
   "cell_type": "markdown",
   "id": "c3281fcb",
   "metadata": {},
   "source": [
    "``````{admonition} Activity 2\n",
    "\n",
    "- Use a `while loop` or `for loop` to count numbers start from 1, and also meet the requirements below:\n",
    "1. if the number is divisible by 3, skip it;\n",
    "2. if the number is divisible by 5, do nothing;\n",
    "3. if the number is divisible by both 3 and 5, stop the loop\n",
    "\n",
    "**Hint:\n",
    "if (x % y == 0), x is divisible by y**\n",
    "``````"
   ]
  },
  {
   "cell_type": "markdown",
   "id": "058bb977",
   "metadata": {},
   "source": [
    "See [solution for activity 2](section-label-3.2) at the end."
   ]
  },
  {
   "cell_type": "markdown",
   "id": "19d7bbdd",
   "metadata": {},
   "source": [
    "### 1.5 List Comprehensions\n",
    "\n",
    "List comprehensions provide a concise way to create new lists based on existing iterables. It's useful for one off loops, especially with lists. This subsection explores the syntax and usage of list comprehensions, which allow you to generate lists with a more compact and readable syntax. \n",
    "\n",
    "\n",
    "**It has four main parts:**\n",
    "1. An Output Expression  ⇒ how to change the input.\n",
    "2. A Variable representing `members of the input sequence`  ⇒ related to input, preceded by `for`\n",
    "3. An Input Sequence  ⇒ what `iterable needs changing`\n",
    "4. An Optional Predicate expression  ⇒ if there needs a decisional `if statement`\n",
    "\n",
    "![list_comprehension.png](Week3_img/list_comprehension.png)"
   ]
  },
  {
   "cell_type": "markdown",
   "id": "9cb9cc89",
   "metadata": {},
   "source": [
    "Consider the diagram above – these are the basic parts of a list comprehension. Note that list comprehensions are always surrounded with **square brackets** – just like lists! One of the most important things to remember for list comprehensions is that they will **always result in a list**! So if you want to adjust a list and return a list, then list comprehensions are the perfect tool.\n",
    "\n",
    "\n",
    "The iterator part iterates through each member `e` of the input sequence `a_list`. The predicate checks if the member is an integer. If the member is an integer then it is passed to the output expression, squared, to become a member of the output list."
   ]
  },
  {
   "cell_type": "markdown",
   "id": "2d49d4dc",
   "metadata": {},
   "source": [
    "**Compare the result of for loop and list comprehension to understand how can they work similarly.**\n",
    "\n",
    "- If we have a list called x, which contains few numbers.\n",
    "- We want to create another list which contains the squared value of each element from list x"
   ]
  },
  {
   "cell_type": "code",
   "execution_count": 26,
   "id": "80baa2d6",
   "metadata": {
    "tags": []
   },
   "outputs": [
    {
     "name": "stdout",
     "output_type": "stream",
     "text": [
      "for loop result: [1, 4, 9, 16, 25, 36, 49, 64, 81, 100]\n",
      "list comprehension result: [1, 4, 9, 16, 25, 36, 49, 64, 81, 100]\n"
     ]
    }
   ],
   "source": [
    "list_x = list(range(1,11))\n",
    "\n",
    "# for loop\n",
    "squared_list_x = []\n",
    "for x in list_x:\n",
    "    squared_list_x.append(x**2)\n",
    "    \n",
    "# list comprehension\n",
    "list_comp = [x**2 for x in list_x]\n",
    "\n",
    "print(\"for loop result:\", squared_list_x)\n",
    "print(\"list comprehension result:\", list_comp)"
   ]
  },
  {
   "cell_type": "code",
   "execution_count": 27,
   "id": "182f6a1c",
   "metadata": {
    "tags": []
   },
   "outputs": [
    {
     "name": "stdout",
     "output_type": "stream",
     "text": [
      "for loop result: [4, 16, 36, 64, 100]\n",
      "list comprehension result: [4, 16, 36, 64, 100]\n"
     ]
    }
   ],
   "source": [
    "# add predicate expression\n",
    "# square the even numbers in the list only\n",
    "\n",
    "list_x = list(range(1,11))\n",
    "\n",
    "# for loop\n",
    "squared_list_x = []\n",
    "for x in list_x:\n",
    "    if (x % 2 == 0): # check if x is even\n",
    "        squared_list_x.append(x**2)\n",
    "    \n",
    "# list comprehension\n",
    "list_comp = [x**2 for x in list_x if (x % 2 == 0)]\n",
    "\n",
    "print(\"for loop result:\", squared_list_x)\n",
    "print(\"list comprehension result:\", list_comp)"
   ]
  },
  {
   "cell_type": "code",
   "execution_count": 28,
   "id": "f20bc7e3",
   "metadata": {
    "tags": []
   },
   "outputs": [
    {
     "name": "stdout",
     "output_type": "stream",
     "text": [
      "g1= [0, 1, 2, 3, 4, 5, 6, 7, 8, 9] \n",
      "g2= [0, 2, 4, 6, 8, 10, 12, 14, 16, 18] \n",
      "g3= [6, 8, 10, 12, 14, 16, 18]\n"
     ]
    }
   ],
   "source": [
    "# List Comprehension examples\n",
    "a = range(10)\n",
    "\n",
    "# Set a basic structure\n",
    "g1 = [x for x in a]  \n",
    "\n",
    "# Multiply by 2\n",
    "g2 = [x*2 for x in a]  # all values of a is squared\n",
    "\n",
    "# Multiply by 2 only if x > 2\n",
    "g3 = [x*2 for x in a if x > 2]\n",
    "\n",
    "print(\"g1=\", g1, \"\\ng2=\", g2, \"\\ng3=\", g3)"
   ]
  },
  {
   "cell_type": "markdown",
   "id": "7b0219ec",
   "metadata": {
    "tags": []
   },
   "source": [
    "``````{admonition} Activity 3\n",
    "\n",
    "Using comprehension to rewrite the loop below.\n",
    "\n",
    "**Hint: use sum( ) to calculate the total.**\n",
    "``````"
   ]
  },
  {
   "cell_type": "code",
   "execution_count": 29,
   "id": "fbefe27c",
   "metadata": {
    "tags": []
   },
   "outputs": [
    {
     "name": "stdout",
     "output_type": "stream",
     "text": [
      "62.166666666666664\n"
     ]
    }
   ],
   "source": [
    "# calculate average score for scores >= 60\n",
    "student_scores = [85, 95, 100, 20, 90, 60, 97, 68, 52, 42, 73, 78]\n",
    "\n",
    "total = 0\n",
    "for score in student_scores:\n",
    "    if score >= 60:\n",
    "        total += score\n",
    "        \n",
    "avg = total / len(student_scores)\n",
    "print(avg)"
   ]
  },
  {
   "cell_type": "markdown",
   "id": "8408d5ae",
   "metadata": {},
   "source": [
    "See [solution for activity 3](section-label-3.3) at the end."
   ]
  },
  {
   "cell_type": "markdown",
   "id": "2bddf625",
   "metadata": {},
   "source": [
    "## 2. Functions in Python\n",
    "\n",
    "There are lots of functions avaiable in Python that we can use anytime. \n",
    "- Some functions are provided by Python's standard library and can be used directly without additional imports. Examples for built-in funcitons include  **print( ), len( ), type( ), and range( )**, etc., and we have used a lot in previous examples and exercises. \n",
    "\n",
    "- Some functions can be used only after you import a library or module. Examples for these functions include **datetime**, which we introduced in week 1. "
   ]
  },
  {
   "cell_type": "markdown",
   "id": "7a841159",
   "metadata": {},
   "source": [
    "### Built-in Functions"
   ]
  },
  {
   "cell_type": "markdown",
   "id": "e92cd59b",
   "metadata": {},
   "source": [
    "The examples below show the use of `abs(), min(), max()` functions. All of them are built-in functions in Python. \n",
    "\n",
    "    - `abs(x)` function returns the absolute value of x\n",
    "    - `min(arg1, arg2, ..., argN)` function returns the smallest of its arguments.\n",
    "    - `max(arg1, arg2, ..., argN)` function returns the largest of its arguments."
   ]
  },
  {
   "cell_type": "code",
   "execution_count": 30,
   "id": "b10f137f",
   "metadata": {
    "tags": []
   },
   "outputs": [
    {
     "name": "stdout",
     "output_type": "stream",
     "text": [
      "5.66\n",
      "min(g3): 6 \n",
      "max(g3): 18\n"
     ]
    }
   ],
   "source": [
    "# examples for built-in function\n",
    "x1=-5.66\n",
    "print(abs(x1)) # abs(): return the absolute value of the number\n",
    "\n",
    "g3 = [x*2 for x in a if x > 2]\n",
    "print(\"min(g3):\", min(g3), \"\\nmax(g3):\", max(g3)) # min(),max(): return the smallest/largest item in an iterable"
   ]
  },
  {
   "cell_type": "markdown",
   "id": "ff1ee548",
   "metadata": {},
   "source": [
    "<a href=\"https://docs.python.org/3/library/functions.html\" targert=\"_blank\">See more built-in functions and their usage.</a>"
   ]
  },
  {
   "cell_type": "markdown",
   "id": "1268bef5",
   "metadata": {},
   "source": [
    "### 2.1 Function: **`def`**"
   ]
  },
  {
   "cell_type": "markdown",
   "id": "8057edc8",
   "metadata": {},
   "source": [
    "**Now we will talk about how to create our own functions and use them in Python.**"
   ]
  },
  {
   "cell_type": "markdown",
   "id": "d80ac3e9",
   "metadata": {},
   "source": [
    "We can create a function of our own using the <mark>def</mark> keyword, which allows you to encapsulate a block of code into a reusable entity. Then we can get the output after defining the parameters we added on the function.\n",
    "\n",
    "![def_function.png](Week3_img/def_function.png)\n",
    "\n",
    "**Main component in the def function:**\n",
    "\n",
    "- We set off with `def name, parenthesis, and colon`.\n",
    "- If it function needs `parameters/arguments/inputs`, and them in the parenthesis.\n",
    "- It should be concluded with a `return`.\n",
    "\n",
    "The basic syntax of function definitions should be:\n",
    "```python\n",
    "def function_name(input1, input2, ...):\n",
    "    # function body \n",
    "    # ...\n",
    "    # ...\n",
    "    return output\n",
    "```"
   ]
  },
  {
   "cell_type": "code",
   "execution_count": 31,
   "id": "ab6dbdba",
   "metadata": {
    "tags": []
   },
   "outputs": [],
   "source": [
    "# Example 1: create a function named addition to add two parameters and return the result\n",
    "def addition(arg1, arg2):\n",
    "    temp = arg1\n",
    "    temp2 = temp + arg2\n",
    "    return temp2"
   ]
  },
  {
   "cell_type": "code",
   "execution_count": 32,
   "id": "8185f634",
   "metadata": {
    "tags": []
   },
   "outputs": [
    {
     "data": {
      "text/plain": [
       "7"
      ]
     },
     "execution_count": 32,
     "metadata": {},
     "output_type": "execute_result"
    }
   ],
   "source": [
    "# get output for the funciton we defined above \n",
    "addition(2, 5)"
   ]
  },
  {
   "cell_type": "markdown",
   "id": "53311919",
   "metadata": {},
   "source": [
    "- We are not going to get any output for this function below since there's nothing behind **return**."
   ]
  },
  {
   "cell_type": "code",
   "execution_count": 33,
   "id": "46eca13c",
   "metadata": {
    "tags": []
   },
   "outputs": [],
   "source": [
    "# Example 2\n",
    "def comboandprint(s1, s2):\n",
    "    temp = s1+\"_\"+s2\n",
    "    return\n",
    "# we are not going to get any output for this function when we call it\n",
    "comboandprint(s1=\"add\", s2=\"text\")"
   ]
  },
  {
   "cell_type": "code",
   "execution_count": 34,
   "id": "54b69bfc",
   "metadata": {
    "tags": []
   },
   "outputs": [
    {
     "name": "stdout",
     "output_type": "stream",
     "text": [
      "add_text\n"
     ]
    }
   ],
   "source": [
    "# To get a value or output, we add print() inside the function body\n",
    "def comboandprint(s1, s2):\n",
    "    temp = s1+\"_\"+s2\n",
    "    print(temp)\n",
    "    return\n",
    "\n",
    "# now when we call the function, it has output\n",
    "comboandprint(s1=\"add\", s2=\"text\")"
   ]
  },
  {
   "cell_type": "code",
   "execution_count": 35,
   "id": "305b1391",
   "metadata": {
    "tags": []
   },
   "outputs": [
    {
     "name": "stdout",
     "output_type": "stream",
     "text": [
      "add 50,100 = 150\n"
     ]
    }
   ],
   "source": [
    "# Example 3\n",
    "def comboandprint(s1, s2):\n",
    "    temp = str(s1)+\",\"+str(s2)\n",
    "    temp1= s1+s2\n",
    "    print(\"add\", temp, \"=\", temp1)\n",
    "    return \n",
    "\n",
    "comboandprint(50, 100)"
   ]
  },
  {
   "cell_type": "markdown",
   "id": "e2e7dc20",
   "metadata": {},
   "source": [
    "- **Summary:**\n",
    "\n",
    "    - **Functions with `print`, print the output to console.**\n",
    "    - **Without the `return statement`, they are called `void functions` which return `None`.**"
   ]
  },
  {
   "cell_type": "markdown",
   "id": "a9408c7d",
   "metadata": {},
   "source": [
    "**`def` function example:<br>Applying Pythagorean Equation to calculate the distance between two points**"
   ]
  },
  {
   "cell_type": "markdown",
   "id": "85c6e6c0",
   "metadata": {},
   "source": [
    "If we know the lengths of the two shortest sides (or coordinates of three points) we can find the length of the longest side using the Pythagorean equation.\n",
    "\n",
    "![Pythagorean.png](Week3_img/Pythagorean.png)"
   ]
  },
  {
   "cell_type": "markdown",
   "id": "fb9165d6",
   "metadata": {},
   "source": [
    "![points_dist.png](Week3_img/points_dist.png)"
   ]
  },
  {
   "cell_type": "markdown",
   "id": "8ebae1e8",
   "metadata": {},
   "source": [
    "**Define a function named `distance`, given coordinates of two points, calculate the shortest distance between them.**"
   ]
  },
  {
   "cell_type": "code",
   "execution_count": 36,
   "id": "9eec2428",
   "metadata": {},
   "outputs": [
    {
     "data": {
      "text/plain": [
       "327.00152904841286"
      ]
     },
     "execution_count": 36,
     "metadata": {},
     "output_type": "execute_result"
    }
   ],
   "source": [
    "# define the function\n",
    "def distance(x1, y1, x2, y2):\n",
    "    dx = x2 - x1\n",
    "    dy = y2 - y1\n",
    "    dist = (dx ** 2 + dy ** 2)**0.5\n",
    "    return dist\n",
    "\n",
    "# call the function with give coordinates\n",
    "distance(781, 617, 978, 356)"
   ]
  },
  {
   "cell_type": "markdown",
   "id": "b9030c00",
   "metadata": {},
   "source": [
    "#### 2.1.1 Single or Multiple Objects\n",
    "\n",
    "Using `def` function we can `return one or more objects`. Previous examples returned one object.\n",
    "\n",
    "Let's try to return two objects:"
   ]
  },
  {
   "cell_type": "code",
   "execution_count": 37,
   "id": "0b8350fe",
   "metadata": {
    "tags": []
   },
   "outputs": [
    {
     "data": {
      "text/plain": [
       "(2, 0)"
      ]
     },
     "execution_count": 37,
     "metadata": {},
     "output_type": "execute_result"
    }
   ],
   "source": [
    "def funcname1(arg1, arg2):\n",
    "    temp = arg1\n",
    "    temp2 = temp + arg2\n",
    "    return temp2, temp\n",
    "\n",
    "funcname1(arg1=0, arg2=2)"
   ]
  },
  {
   "cell_type": "markdown",
   "id": "b87260cb",
   "metadata": {},
   "source": [
    "#### 2.1.2 Default Arguments\n",
    "\n",
    "In the `def` function we can add **defult values for arguments** to make them option. If users don't override the value when they call the function, then the function will take the default value.\n",
    "\n",
    "![def_default.png](Week3_img/def_default.png)"
   ]
  },
  {
   "cell_type": "code",
   "execution_count": 38,
   "id": "3354436c",
   "metadata": {
    "tags": []
   },
   "outputs": [
    {
     "name": "stdout",
     "output_type": "stream",
     "text": [
      "(2, 0)\n",
      "(100, 0)\n"
     ]
    }
   ],
   "source": [
    "# Example 1: we give a default value for arg2\n",
    "def funcname1(arg1, arg2=2):\n",
    "    temp = arg1\n",
    "    temp2 = temp + arg2\n",
    "    return temp2, temp\n",
    "\n",
    "print(funcname1(arg1=0)) # keep the default value: arg2=2\n",
    "\n",
    "print(funcname1(arg1=0, arg2=100)) # change the default value"
   ]
  },
  {
   "cell_type": "code",
   "execution_count": 39,
   "id": "bca0e057",
   "metadata": {
    "tags": []
   },
   "outputs": [
    {
     "name": "stdout",
     "output_type": "stream",
     "text": [
      "105.0\n",
      "107.5\n"
     ]
    }
   ],
   "source": [
    "# Example 2: we give a default value for taxRate\n",
    "def calCost(price, taxRate=0.05):\n",
    "    return price + price * taxRate\n",
    "\n",
    "print(calCost(100)) # keep the default value: taxRate=0.05\n",
    "print(calCost(100,0.075)) # change the default value"
   ]
  },
  {
   "cell_type": "markdown",
   "id": "ab5ba2c2",
   "metadata": {},
   "source": [
    "```{admonition} Activity 4\n",
    "\n",
    "Define a function called `find_max_value`, which take a list of number as the arguement and return the maximum number in the list.\n",
    "Suppose the list of number is not empty and includes at least two elements.\n",
    "\n",
    "**Hint: assume the first number in the list in the largest number at the beginning**\n",
    "\n",
    "After defined the function, use the function to find the max and min number for this list:\n",
    "`[-8, 9, 0, 5, 2, 10]`\n",
    "\n",
    "``````"
   ]
  },
  {
   "cell_type": "markdown",
   "id": "d4fe1f86",
   "metadata": {},
   "source": [
    "See [solution for activity 4](section-label-3.4) at the end."
   ]
  },
  {
   "cell_type": "markdown",
   "id": "715d83e6",
   "metadata": {},
   "source": [
    "### 2.2 Function **`lambda`**"
   ]
  },
  {
   "cell_type": "markdown",
   "id": "864c0f7d",
   "metadata": {},
   "source": [
    "In <mark>lambda</mark> we declare one line version of a function. It's a small `anonymous function`. A lambda function can take any number of arguments, but can `only have one expression`. Lambda function has concise syntax and are typically used for simple, one-line operations. \n",
    "\n",
    "- Note that lambda functions don't have a name, which is why they are often referred to as \"anonymous functions\".\n",
    "\n",
    "![lambda.png](Week3_img/lambda.png)"
   ]
  },
  {
   "cell_type": "markdown",
   "id": "c3dd2412",
   "metadata": {},
   "source": [
    "The example below defines a `lambda function` that takes two arguments, x and y, and returns their sum. This function is assigned to the variable \"a\". So \"a\" now refers to this lambda function. "
   ]
  },
  {
   "cell_type": "code",
   "execution_count": 40,
   "id": "9b78d690",
   "metadata": {
    "tags": []
   },
   "outputs": [
    {
     "name": "stdout",
     "output_type": "stream",
     "text": [
      "7\n"
     ]
    }
   ],
   "source": [
    "# Example 1\n",
    "a = lambda x, y: x + y #  define the function \"a\" with lambda syntax\n",
    "print(a(3,4))"
   ]
  },
  {
   "cell_type": "markdown",
   "id": "28e8d9cd",
   "metadata": {},
   "source": [
    "The example below defines a `lambda function` that takes a single argument, a, and returns a + 10. This function is assigned to the variable \"x\". So \"x\" now refers to this lambda function. "
   ]
  },
  {
   "cell_type": "code",
   "execution_count": 41,
   "id": "6162abce",
   "metadata": {
    "tags": []
   },
   "outputs": [
    {
     "name": "stdout",
     "output_type": "stream",
     "text": [
      "x(5): 15\n"
     ]
    }
   ],
   "source": [
    "# Example 2\n",
    "x = lambda a : a + 10\n",
    "print(\"x(5):\", x(5))"
   ]
  },
  {
   "cell_type": "markdown",
   "id": "69592912",
   "metadata": {},
   "source": [
    "The example below defines a `lambda function` that takes two arguments, a and b, and returns their product. This function is assigned to the variable \"x\". So \"x\" now refers to this lambda function. "
   ]
  },
  {
   "cell_type": "code",
   "execution_count": 42,
   "id": "d0b433e5",
   "metadata": {
    "tags": []
   },
   "outputs": [
    {
     "name": "stdout",
     "output_type": "stream",
     "text": [
      "x(5, 6): 30\n"
     ]
    }
   ],
   "source": [
    "# Example 3\n",
    "x = lambda a, b : a * b\n",
    "print(\"x(5, 6):\", x(5, 6))"
   ]
  },
  {
   "cell_type": "markdown",
   "id": "4bdbd1ae",
   "metadata": {},
   "source": [
    "## 3. A Few Coding Conventions\n",
    "\n",
    "The section discusses some common coding conventions and best practices in Python. It covers guidelines for writing readable and maintainable code, using meaningful variable names, and organizing code with proper indentation and whitespace. This section emphasizes the importance of consistency and provides examples to illustrate the recommended coding conventions."
   ]
  },
  {
   "cell_type": "markdown",
   "id": "28239557",
   "metadata": {},
   "source": [
    "### 3.1 Variable Names"
   ]
  },
  {
   "cell_type": "markdown",
   "id": "26f0f4a7",
   "metadata": {},
   "source": [
    "Recall the week 1 material: **rules and conventions for naming variables**, including using descriptive names that convey the purpose or content of the variable, using lowercase letters, avoiding reserved words, and separating words with underscores or use camelCase for certain contexts. See the examples for bad and good variable names below:\n",
    "\n",
    "| Difficult to Understand  | Meaningful name | \n",
    "| :-: | :-: |\n",
    "| killMe8=‘important info’ | needToKnow=‘important info’ |\n",
    "\n",
    "\n",
    "1. Use meaningful names for Class, Object, Variables and Methods. \n",
    "2. Choose meaningful name instead of short name. UBC_id is better than ui.\n",
    "3. Maintain the length of a variable name. UBC_student_ID is too long? Be consistent; UBC_id or UBCid\n",
    "4. Begin a variable name with an underscore(_) character for a special case.\n",
    "\n",
    "<a href=\"https://peps.python.org/pep-0008/\">Refer Style Guide for Python Code</a>"
   ]
  },
  {
   "cell_type": "markdown",
   "id": "676ca42c",
   "metadata": {},
   "source": [
    "### 3.2 Consistency in Indentation\n",
    "\n",
    "Indentation is used to define blocks of code and maintain the structure and readability of the code. Consistent indentation need to be used to avoid syntax errors and improve code clarity.\n",
    "\n",
    "<mark style=\"background-color: \">Spaces are the preferred indentation method. Tabs should be used solely to remain consistent with code that is already indented with tabs.\n",
    "Four Spaces or One Tab: never mixed these two: tab and space.</mark>\n",
    "\n",
    "**Python 3 disallows mixing the use of tabs and spaces for indentation.**\n",
    "\n",
    "**Python 2 code indented with a mixture of tabs and spaces should be converted to using spaces exclusively.**\n"
   ]
  },
  {
   "cell_type": "markdown",
   "id": "33474f00",
   "metadata": {},
   "source": [
    "### 3.3 Whitespace\n",
    "\n",
    "Conventionally, we add a whitespace in expressions and statements. Appropriate use of spaces around operators, parentheses, commas, and colons on either side can enhance code readability. \n",
    "\n",
    "<br>\n",
    "\n",
    "<span style=\"color:red; font-weight:700;font-size:15px\">\n",
    "    Proper Method:\n",
    "</span>\n",
    "\n",
    "```python\n",
    "added = 5 + 6\n",
    "r1 = [x * 10 for x in range(2)]\n",
    "```\n",
    "\n",
    "<span style=\"color:red; font-weight:700;font-size:15px\">\n",
    "    Avoid It:\n",
    "</span>\n",
    "\n",
    "```python\n",
    "added=5+6\n",
    "r1=[x*10 for x in range(2)]\n",
    "```"
   ]
  },
  {
   "cell_type": "markdown",
   "id": "b1995a61",
   "metadata": {},
   "source": [
    "### 3.4 Comments on a Code\n",
    "\n",
    "Within a coded chunk we can add comments using a <mark>#</mark> symbol.\n",
    "\n",
    "Comments can provide additional information, explanations, or context about the code to make it more understandable for both the developer and other readers. When adding comments along the code, we need to be aware of using clear and concise language, avoiding redundant comments, and documenting complex or non-obvious parts of the code.\n",
    "\n",
    "<br>\n",
    "\n",
    "<span style=\"color:red; font-weight:700;font-size:15px\">\n",
    "    Proper Method:\n",
    "</span>\n",
    "\n",
    "```python\n",
    "added = 5 + 6 # addition\n",
    "r1 = [x * 10 for x in range(2)] # list comprehension\n",
    "```\n",
    "\n",
    "<span style=\"color:red; font-weight:700;font-size:15px\">\n",
    "    Avoid It:\n",
    "</span>\n",
    "\n",
    "```python\n",
    "added = 5 + 6 # 5+6\n",
    "r1 = [x * 10 for x in range(2)] # r1\n",
    "```\n",
    "\n",
    "**Use comments to explain your code using:**\n",
    "- Three quotations: \"\"\" Comments\"\"\"\n",
    "- A hashtag: # Comments\n",
    "\n",
    "<mark>ALWAYS COMMENT!</mark> Commenting is a good practice to leave yourself some info or someone that you might share code with!"
   ]
  },
  {
   "cell_type": "code",
   "execution_count": 43,
   "id": "e1cbceaa",
   "metadata": {
    "tags": []
   },
   "outputs": [
    {
     "name": "stdout",
     "output_type": "stream",
     "text": [
      "this is a cool print statement!\n"
     ]
    }
   ],
   "source": [
    "# examples\n",
    "print(\"this is a cool print statement!\")\n",
    "# the above print statement writes out the important string to the console for your viewing "
   ]
  },
  {
   "cell_type": "markdown",
   "id": "acfe4d0c",
   "metadata": {},
   "source": [
    "### 3.5 Special Characters"
   ]
  },
  {
   "cell_type": "markdown",
   "id": "313a9edf",
   "metadata": {},
   "source": [
    "#### Symbol <mark style=\"background-color: pink\">\\n</mark> : used to create a new line "
   ]
  },
  {
   "cell_type": "code",
   "execution_count": 44,
   "id": "31d497e9",
   "metadata": {
    "tags": []
   },
   "outputs": [
    {
     "name": "stdout",
     "output_type": "stream",
     "text": [
      "first line\n",
      "second line\n"
     ]
    }
   ],
   "source": [
    "# Example of \"\\n\"\n",
    "print(\"first line\\nsecond line\")"
   ]
  },
  {
   "cell_type": "markdown",
   "id": "9e46a515",
   "metadata": {},
   "source": [
    "#### Symbol <mark style=\"background-color: pink\">\\t</mark>: tab "
   ]
  },
  {
   "cell_type": "code",
   "execution_count": 45,
   "id": "1567887a",
   "metadata": {
    "tags": []
   },
   "outputs": [
    {
     "name": "stdout",
     "output_type": "stream",
     "text": [
      "str1\ttstr2\n"
     ]
    }
   ],
   "source": [
    "# Example of \"\\t\"\n",
    "print(\"str1\\ttstr2\")"
   ]
  },
  {
   "cell_type": "markdown",
   "id": "3c853228",
   "metadata": {},
   "source": [
    "#### Symbol <mark style=\"background-color: pink\"> : </mark>: go to next level of statements"
   ]
  },
  {
   "cell_type": "code",
   "execution_count": 46,
   "id": "6df6dd86",
   "metadata": {
    "tags": []
   },
   "outputs": [],
   "source": [
    "# Example of \":\"\n",
    "class Testc:\n",
    "    def testM():\n",
    "        if True:\n",
    "            pass"
   ]
  },
  {
   "cell_type": "markdown",
   "id": "b060f51a",
   "metadata": {},
   "source": [
    "#### Symbol <mark style=\"background-color: pink\"> ; </mark>: multiple statements on a single line"
   ]
  },
  {
   "cell_type": "code",
   "execution_count": 47,
   "id": "fce99f8c",
   "metadata": {
    "scrolled": true,
    "tags": []
   },
   "outputs": [
    {
     "name": "stdout",
     "output_type": "stream",
     "text": [
      "8.0\n"
     ]
    }
   ],
   "source": [
    "# Example of \";\"\n",
    "import math; x = math.pow(2, 3); print(x)"
   ]
  },
  {
   "cell_type": "markdown",
   "id": "d19f4aac",
   "metadata": {},
   "source": [
    "**There are other characters that have special meanings or functions in the Python language, such as `quotation marks for strings`, `parentheses for function calls`, and `square brackets for lists`, which we used a lot in previous examples.**"
   ]
  },
  {
   "cell_type": "markdown",
   "id": "7478690c",
   "metadata": {},
   "source": [
    "### 3.6 Keywords/Reserved Words\n",
    "\n",
    "Keywords are predefined words with special meanings and purposes in the Python language, such as `if, for, while, and def`. They can not be used as the names of variables, classes, and objects etc, or else a Syntax Error will occur. See the example below:"
   ]
  },
  {
   "cell_type": "code",
   "execution_count": 48,
   "id": "6ec3f7f3",
   "metadata": {
    "tags": []
   },
   "outputs": [
    {
     "ename": "SyntaxError",
     "evalue": "invalid syntax (<ipython-input-48-c09b58638d1d>, line 2)",
     "output_type": "error",
     "traceback": [
      "\u001b[0;36m  File \u001b[0;32m\"<ipython-input-48-c09b58638d1d>\"\u001b[0;36m, line \u001b[0;32m2\u001b[0m\n\u001b[0;31m    if = 10\u001b[0m\n\u001b[0m       ^\u001b[0m\n\u001b[0;31mSyntaxError\u001b[0m\u001b[0;31m:\u001b[0m invalid syntax\n"
     ]
    }
   ],
   "source": [
    "# Attempting to use a keyword as a variable name\n",
    "if = 10"
   ]
  },
  {
   "cell_type": "markdown",
   "id": "85f1a1f8",
   "metadata": {},
   "source": [
    "**Here are some commonly used reserved words in Python:**\n",
    "\n",
    "|   |   |   |   |\n",
    "|---|---|---|---|\n",
    "| <span style=\"color:red\">and</span> | <span style=\"color:red\">or</span> | <span style=\"color:red\">if</span> | <span style=\"color:red\">else</span> |\n",
    "| <span style=\"color:red\">elif</span> | <span style=\"color:red\">pass</span> | <span style=\"color:red\">break</span> | <span style=\"color:red\">continue</span> |\n",
    "|<span style=\"color:red\">import</span> | global | assert | except |\n",
    "| <span style=\"color:red\">print</span> | class | exec | raise |\n",
    "| <span style=\"color:red\">in</span> | <span style=\"color:red\">is</span> | finally | <span style=\"color:red\">return</span> |\n",
    "|<span style=\"color:red\">def</span> | <span style=\"color:red\">for</span> | <span style=\"color:red\">lambda</span> | try |\n",
    "|del | from | <span style=\"color:red\">not</span> | <span style=\"color:red\">while</span> |\n",
    "\n",
    "- red ones are those we have used before"
   ]
  },
  {
   "cell_type": "markdown",
   "id": "c4fe2662",
   "metadata": {},
   "source": [
    "### 3.7 Multiple assignments\n",
    "\n",
    "**We can assign values to multiple variables simultaneously in a single line statement.**"
   ]
  },
  {
   "cell_type": "code",
   "execution_count": 49,
   "id": "b0e3cfeb",
   "metadata": {
    "tags": []
   },
   "outputs": [
    {
     "name": "stdout",
     "output_type": "stream",
     "text": [
      " a, b, c:  0 0 0 \n",
      " a1, b1, c1: 1 1.0 c1 \n",
      " a2, b2, c2: 2 2.0 c2\n"
     ]
    }
   ],
   "source": [
    "# Multiple assignments\n",
    "a = b = c = 0\n",
    "a1, b1, c1 = 1, 1.0, \"c1\"\n",
    "(a2, b2, c2) = (2,2.0, \"c2\")\n",
    "print(\" a, b, c: \", a, b, c,\"\\n\", \n",
    "      \"a1, b1, c1:\", a1, b1, c1,\"\\n\", \n",
    "      \"a2, b2, c2:\", a2, b2, c2)"
   ]
  },
  {
   "cell_type": "markdown",
   "id": "12e12782",
   "metadata": {},
   "source": [
    "**We can also use multiple assignments for unpacking values from tuples, lists, or other iterable objects, or assigning multiple return values from a function.**"
   ]
  },
  {
   "cell_type": "code",
   "execution_count": 50,
   "id": "4740128f",
   "metadata": {
    "tags": []
   },
   "outputs": [
    {
     "name": "stdout",
     "output_type": "stream",
     "text": [
      "x: 3\n",
      "y: 4\n"
     ]
    }
   ],
   "source": [
    "# define a tuple\n",
    "coordinates = (3, 4)\n",
    "# unpack the values into separate variables\n",
    "x,y = coordinates\n",
    "print(\"x:\", x)\n",
    "print(\"y:\", y)"
   ]
  },
  {
   "cell_type": "code",
   "execution_count": 51,
   "id": "d02f705e",
   "metadata": {
    "tags": []
   },
   "outputs": [
    {
     "name": "stdout",
     "output_type": "stream",
     "text": [
      "Name: Amy\n",
      "Age: 25\n",
      "Country: USA\n"
     ]
    }
   ],
   "source": [
    "# define a dictionary with multiple key-value pairs\n",
    "person = {'name': 'Amy', 'age': 25, 'country': 'USA'}\n",
    "\n",
    "# unpack the values from the dictionary into separate variables\n",
    "name, age, country = person.values()\n",
    "\n",
    "# Print the unpacked values\n",
    "print(\"Name:\", name)\n",
    "print(\"Age:\", age)\n",
    "print(\"Country:\", country)"
   ]
  },
  {
   "cell_type": "markdown",
   "id": "afaa6924",
   "metadata": {},
   "source": [
    "## 4. Modules\n",
    "\n",
    "Modules represent a logical way to organize and reuse our Python code.\n",
    "\n",
    "To physically organize codes we can:\n",
    "\n",
    "- Save our code in files!\n",
    "- Organize files according to different classes, functions, etc. used in our programming.\n",
    "- Import files as standard modules, such as sys and math.\n",
    "- A file, ending with .py or .ipynb, is a module when they are saved on the disk for importing."
   ]
  },
  {
   "cell_type": "markdown",
   "id": "b752472f",
   "metadata": {},
   "source": [
    "### Built-in Modules\n",
    "\n",
    "- Here are some examples of built-in modules in Python:\n",
    "\n",
    "| Module | Description | Examples |\n",
    "| :-- | :-- | :-- |\n",
    "| os | interacting with the operating system | os.system(command) |\n",
    "| sys | system-specific parameters and functions | sys.path<br>sys.exit() |\n",
    "| math | floating point math functions | math.pow() |\n",
    "| shutil | high level file operations | shutil.copyfile()<br>shutil.move() |\n",
    "| glob | get file lists from directory wildcard searches | glob.glob('*.shp') |\n",
    "| re | regular expression tools for advanced string processing | re.match('c', 'abcdef') |\n",
    "\n",
    "- Later in the course we will use built-in modules."
   ]
  },
  {
   "cell_type": "code",
   "execution_count": null,
   "id": "2d79064e",
   "metadata": {},
   "outputs": [],
   "source": [
    "# example\n",
    "# lambda.png file is copied to another folder\n",
    "import shutil\n",
    "from shutil import copytree\n",
    "from IPython.paths import get_ipython_package_dir\n",
    "shutil.copy(\"range.png\", r\"C:\\Users\\Suborna\\OneDrive - The University Of British Columbia\\Documents\\GEM530_2021\\Lecture\\Week3\\Lecture3_Exercise/range.png\")"
   ]
  },
  {
   "cell_type": "markdown",
   "id": "5adf8724",
   "metadata": {},
   "source": [
    "`````{admonition} Note\n",
    ":class: tip\n",
    "\n",
    "**Math Module**\n",
    "\n",
    "The math module in Python provides mathematical functions and constants that complement the basic math operations like addition, subtraction, multiplication, and division. These are particularly useful for more complex mathematical tasks. \n",
    "<br>\n",
    "Here are some examples for frequentlly used functions in math module:<br>\n",
    "    - degrees<br>\n",
    "    - radians<br>\n",
    "    - asin<br>\n",
    "    - sin<br>\n",
    "    - cos<br>\n",
    "    - acos<br>\n",
    "    - exp<br>\n",
    "    - fabs<br>\n",
    "    - log10<br>\n",
    "    - pi<br>\n",
    "    - pow<br>\n",
    "    - sqrt<br>\n",
    "\n",
    "``````"
   ]
  },
  {
   "cell_type": "code",
   "execution_count": 52,
   "id": "0cabbd30",
   "metadata": {
    "tags": []
   },
   "outputs": [
    {
     "data": {
      "text/plain": [
       "['__doc__',\n",
       " '__file__',\n",
       " '__loader__',\n",
       " '__name__',\n",
       " '__package__',\n",
       " '__spec__',\n",
       " 'acos',\n",
       " 'acosh',\n",
       " 'asin',\n",
       " 'asinh',\n",
       " 'atan',\n",
       " 'atan2',\n",
       " 'atanh',\n",
       " 'ceil',\n",
       " 'copysign',\n",
       " 'cos',\n",
       " 'cosh',\n",
       " 'degrees',\n",
       " 'e',\n",
       " 'erf',\n",
       " 'erfc',\n",
       " 'exp',\n",
       " 'expm1',\n",
       " 'fabs',\n",
       " 'factorial',\n",
       " 'floor',\n",
       " 'fmod',\n",
       " 'frexp',\n",
       " 'fsum',\n",
       " 'gamma',\n",
       " 'gcd',\n",
       " 'hypot',\n",
       " 'inf',\n",
       " 'isclose',\n",
       " 'isfinite',\n",
       " 'isinf',\n",
       " 'isnan',\n",
       " 'ldexp',\n",
       " 'lgamma',\n",
       " 'log',\n",
       " 'log10',\n",
       " 'log1p',\n",
       " 'log2',\n",
       " 'modf',\n",
       " 'nan',\n",
       " 'pi',\n",
       " 'pow',\n",
       " 'radians',\n",
       " 'sin',\n",
       " 'sinh',\n",
       " 'sqrt',\n",
       " 'tan',\n",
       " 'tanh',\n",
       " 'tau',\n",
       " 'trunc']"
      ]
     },
     "execution_count": 52,
     "metadata": {},
     "output_type": "execute_result"
    }
   ],
   "source": [
    "# list of available math functions\n",
    "dir(math)"
   ]
  },
  {
   "cell_type": "markdown",
   "id": "078656b7",
   "metadata": {},
   "source": [
    "#### Examples of `math` module"
   ]
  },
  {
   "cell_type": "markdown",
   "id": "bb997dc6",
   "metadata": {},
   "source": [
    "First, we need to import the math module, which contains a collection of mathematical functions."
   ]
  },
  {
   "cell_type": "code",
   "execution_count": 53,
   "id": "51b34342",
   "metadata": {},
   "outputs": [],
   "source": [
    "import math"
   ]
  },
  {
   "cell_type": "markdown",
   "id": "a175ce3f",
   "metadata": {},
   "source": [
    "The math.degrees() function converts 1 radian to degrees."
   ]
  },
  {
   "cell_type": "code",
   "execution_count": 54,
   "id": "ec7ecb42",
   "metadata": {},
   "outputs": [
    {
     "name": "stdout",
     "output_type": "stream",
     "text": [
      "57.29577951308232\n"
     ]
    }
   ],
   "source": [
    "print(math.degrees(1))"
   ]
  },
  {
   "cell_type": "markdown",
   "id": "9dba2a21",
   "metadata": {},
   "source": [
    "The math.radians() function converts 57.295 degrees to radians."
   ]
  },
  {
   "cell_type": "code",
   "execution_count": 55,
   "id": "f2509e1c",
   "metadata": {},
   "outputs": [
    {
     "name": "stdout",
     "output_type": "stream",
     "text": [
      "0.9999863949301512\n"
     ]
    }
   ],
   "source": [
    "print(math.radians(57.295))"
   ]
  },
  {
   "cell_type": "markdown",
   "id": "b8c1fa14",
   "metadata": {},
   "source": [
    "The math.asin() function calculates the arc sine (inverse sine function) of 0.5."
   ]
  },
  {
   "cell_type": "code",
   "execution_count": 56,
   "id": "12fe9649",
   "metadata": {},
   "outputs": [
    {
     "name": "stdout",
     "output_type": "stream",
     "text": [
      "0.5235987755982988\n"
     ]
    }
   ],
   "source": [
    "print(math.asin(0.5))"
   ]
  },
  {
   "cell_type": "markdown",
   "id": "ddf76608",
   "metadata": {},
   "source": [
    "The math.exp() function calculates \"e\" raised to the power of 2, where \"e\" is the base of natural logarithms."
   ]
  },
  {
   "cell_type": "code",
   "execution_count": 57,
   "id": "610ab530",
   "metadata": {},
   "outputs": [
    {
     "name": "stdout",
     "output_type": "stream",
     "text": [
      "7.38905609893065\n"
     ]
    }
   ],
   "source": [
    "print(math.exp(2))"
   ]
  },
  {
   "cell_type": "markdown",
   "id": "01cafc93",
   "metadata": {},
   "source": [
    "The math.log() function calculates the logarithm of 2 with base 10."
   ]
  },
  {
   "cell_type": "code",
   "execution_count": 58,
   "id": "9e10f6a6",
   "metadata": {},
   "outputs": [
    {
     "name": "stdout",
     "output_type": "stream",
     "text": [
      "0.30102999566398114\n"
     ]
    }
   ],
   "source": [
    "print(math.log(2, 10))"
   ]
  },
  {
   "cell_type": "markdown",
   "id": "76ab9794",
   "metadata": {},
   "source": [
    "The math.log10() function calculates the base-10 logarithm of 100."
   ]
  },
  {
   "cell_type": "code",
   "execution_count": 59,
   "id": "cf1164c0",
   "metadata": {},
   "outputs": [
    {
     "name": "stdout",
     "output_type": "stream",
     "text": [
      "2.0\n"
     ]
    }
   ],
   "source": [
    "print(math.log10(100))"
   ]
  },
  {
   "cell_type": "markdown",
   "id": "f004011a",
   "metadata": {},
   "source": [
    "This line blow prints the value of the mathematical constant $\\pi$."
   ]
  },
  {
   "cell_type": "code",
   "execution_count": 60,
   "id": "492d5181",
   "metadata": {
    "tags": []
   },
   "outputs": [
    {
     "name": "stdout",
     "output_type": "stream",
     "text": [
      "3.141592653589793\n"
     ]
    }
   ],
   "source": [
    "print(math.pi)"
   ]
  },
  {
   "cell_type": "markdown",
   "id": "9f6ab0a3",
   "metadata": {},
   "source": [
    "## 5. Objects\n",
    "\n",
    "Everything in Python is an object. Almost everything has **attributes** and **methods**. Strings are objects. Lists are objects. Functions are objects. Even modules are objects.\n",
    "\n",
    "![object.png](Week3_img/object.png)"
   ]
  },
  {
   "cell_type": "markdown",
   "id": "ae860bac",
   "metadata": {},
   "source": [
    "Recall we have talked about some basic Python data types, including string, float, integer, etc.. They all are objects in Python and they belong to different classes.\n",
    "\n",
    "- Strings in Python are objects of the `str` class.\n",
    "- Floats in Python are objects of the `float` class.\n",
    "- Integers in Python are objects of the `int` class."
   ]
  },
  {
   "cell_type": "markdown",
   "id": "1be35684",
   "metadata": {},
   "source": [
    "When you create a variable and assign it a value of a specific data type, you are creating an instance of the corresponding class. These objects can then be manipulated using class-specific methods and attributes."
   ]
  },
  {
   "cell_type": "code",
   "execution_count": 61,
   "id": "62b8d19a",
   "metadata": {},
   "outputs": [
    {
     "name": "stdout",
     "output_type": "stream",
     "text": [
      "HELLO, WORLD!\n",
      "hello, world!\n"
     ]
    }
   ],
   "source": [
    "# example\n",
    "\n",
    "# Creating a string object\n",
    "my_str = \"Hello, World!\"\n",
    "\n",
    "# Using string-specific methods\n",
    "print(my_str.upper())  \n",
    "print(my_str.lower())  "
   ]
  },
  {
   "cell_type": "markdown",
   "id": "aaf384b1",
   "metadata": {},
   "source": [
    "In this example, we create a variable my_str and assign it the value \"Hello, World!\". By doing so, we are creating an instance of the str class, which represents a string object in Python.\n",
    "<br>\n",
    "Once the string object is created, we can manipulate it using class-specific methods. In this case, we use the upper(), lower() methods to transform and manipulate the string. These methods are specific to the str class and allow us to perform operations such as converting the string to uppercase, lowercase."
   ]
  },
  {
   "cell_type": "code",
   "execution_count": 62,
   "id": "27fcd386",
   "metadata": {},
   "outputs": [
    {
     "name": "stdout",
     "output_type": "stream",
     "text": [
      "12.5\n",
      "7.5\n",
      "25.0\n",
      "4.0\n"
     ]
    }
   ],
   "source": [
    "# example\n",
    "\n",
    "# Creating an Integer object\n",
    "x = 10 \n",
    "# Creating a Float object\n",
    "y = 2.5  \n",
    "\n",
    "\n",
    "addition = x + y\n",
    "print(addition)  \n",
    "\n",
    "subtraction = x - y\n",
    "print(subtraction)\n",
    "\n",
    "multiplication = x * y\n",
    "print(multiplication)  \n",
    "\n",
    "division = x / y\n",
    "print(division) "
   ]
  },
  {
   "cell_type": "markdown",
   "id": "6be88897",
   "metadata": {},
   "source": [
    "In this example, we create two variables x and y, where x is assigned an integer value of 10 and y is assigned a float value of 2.5. These assignments create instances of the int and float classes, respectively.\n",
    "<br>\n",
    "We then perform various arithmetic operations on these int and float objects using the corresponding operators. The addition, subtraction, multiplication, division operations are demonstrated."
   ]
  },
  {
   "cell_type": "markdown",
   "id": "266b36b2",
   "metadata": {},
   "source": [
    "`````{admonition} Note\n",
    ":class: tip\n",
    "\n",
    "**Object-Oriented Programming (OOP)**\n",
    "\n",
    "Python supports object-oriented programming, which is a programming paradigm that emphasizes the use of objects and classes. OOP allows for modular and organized code by grouping related data and functions together.\n",
    "\n",
    "OOP allows for code organization, reusability, modularity, and abstraction. It enables the creation of complex systems by breaking them down into manageable and understandable objects.\n",
    "``````"
   ]
  },
  {
   "cell_type": "markdown",
   "id": "8f20e062",
   "metadata": {},
   "source": [
    "## Solutions"
   ]
  },
  {
   "cell_type": "markdown",
   "id": "20480e4e",
   "metadata": {},
   "source": [
    "(section-label-3.1)=\n",
    "### Activity 1"
   ]
  },
  {
   "cell_type": "markdown",
   "id": "7ae2be3b",
   "metadata": {},
   "source": [
    "1. Try using 'or' instead of 'and' in the above code."
   ]
  },
  {
   "cell_type": "code",
   "execution_count": 63,
   "id": "a880a286",
   "metadata": {
    "tags": []
   },
   "outputs": [
    {
     "name": "stdout",
     "output_type": "stream",
     "text": [
      "x or y is positive\n"
     ]
    }
   ],
   "source": [
    "x = 6\n",
    "y = 5\n",
    "\n",
    "if x > 0 or y > 0:\n",
    "    print('x or y is positive')\n",
    "else:\n",
    "    print('both x and y are not positive')"
   ]
  },
  {
   "cell_type": "markdown",
   "id": "70ca72fd",
   "metadata": {},
   "source": [
    "2. Change the values of x & y."
   ]
  },
  {
   "cell_type": "code",
   "execution_count": 64,
   "id": "e0923a93",
   "metadata": {
    "tags": []
   },
   "outputs": [
    {
     "name": "stdout",
     "output_type": "stream",
     "text": [
      "at least one of them is not positive\n"
     ]
    }
   ],
   "source": [
    "x = -8\n",
    "y = 10\n",
    "\n",
    "if x > 0 and y > 0:\n",
    "    print('x and y are positive values')\n",
    "else:\n",
    "    print('at least one of them is not positive')"
   ]
  },
  {
   "cell_type": "markdown",
   "id": "03f317c2",
   "metadata": {},
   "source": [
    "3. Change the statements."
   ]
  },
  {
   "cell_type": "code",
   "execution_count": 65,
   "id": "f0a49c2d",
   "metadata": {
    "tags": []
   },
   "outputs": [
    {
     "name": "stdout",
     "output_type": "stream",
     "text": [
      "x is smaller than y\n"
     ]
    }
   ],
   "source": [
    "x = 0\n",
    "y = 7\n",
    "\n",
    "if x > y:\n",
    "    print('x is greater than y')\n",
    "elif x < y:\n",
    "    print('x is smaller than y')\n",
    "else:\n",
    "    print('x is equal to y')"
   ]
  },
  {
   "cell_type": "markdown",
   "id": "1d67a4ce",
   "metadata": {},
   "source": [
    "4. Change the statement to nested if conditions."
   ]
  },
  {
   "cell_type": "code",
   "execution_count": 66,
   "id": "9b80bf4a",
   "metadata": {
    "tags": []
   },
   "outputs": [
    {
     "name": "stdout",
     "output_type": "stream",
     "text": [
      "x is negative and y is positive. \n",
      " x is smaller than y\n"
     ]
    }
   ],
   "source": [
    "x = -9\n",
    "y = 7\n",
    "\n",
    "if x > 0 and y > 0:\n",
    "    if (x > y):\n",
    "        print ('x is greater than y')\n",
    "    elif (x < y):\n",
    "        print ('x is smaller than y')\n",
    "    else:\n",
    "        print ('x is equal to y')\n",
    "    print('x and y are both positive')\n",
    "    \n",
    "elif x < 0 and y < 0:\n",
    "    if (x > y):\n",
    "        print ('x is greater than y')\n",
    "    elif (x < y):\n",
    "        print ('x is smaller than y')\n",
    "    else:\n",
    "        print ('x is equal to y')\n",
    "    print('x and y are both negative')\n",
    "    \n",
    "elif x > 0 and y < 0:\n",
    "    print('x is positive and y is negative. \\n x is greater than y')\n",
    "    \n",
    "elif x < 0 and y > 0:\n",
    "    print('x is negative and y is positive. \\n x is smaller than y')\n",
    "    \n",
    "else:\n",
    "    print('at least one of x and y is equal to zero')"
   ]
  },
  {
   "cell_type": "markdown",
   "id": "fe70c8a3",
   "metadata": {},
   "source": [
    "(section-label-3.2)=\n",
    "### Activity 2\n",
    "\n",
    "- Use a while loop or for loop to count numbers start from 1, and also meet the requirements below:\n",
    "1. if the number is divisible by 3, skip it;\n",
    "2. if the number is divisible by 5, do nothing;\n",
    "3. if the number is divisible by both 3 and 5, stop the loop"
   ]
  },
  {
   "cell_type": "markdown",
   "id": "acb44323",
   "metadata": {},
   "source": [
    "- **while loop**"
   ]
  },
  {
   "cell_type": "code",
   "execution_count": 67,
   "id": "88f5d6fd",
   "metadata": {
    "tags": []
   },
   "outputs": [
    {
     "name": "stdout",
     "output_type": "stream",
     "text": [
      "1\n",
      "2\n",
      "4\n",
      "5\n",
      "7\n",
      "8\n",
      "10\n",
      "11\n",
      "13\n",
      "14\n",
      "15 is divisible by both 3 and 5, loop ended\n"
     ]
    }
   ],
   "source": [
    "number = 0\n",
    "\n",
    "while True:\n",
    "    number += 1\n",
    "    if (number % 3 == 0) and (number % 5 == 0):\n",
    "        break\n",
    "    elif (number % 3 == 0):\n",
    "        continue\n",
    "    elif (number % 5):\n",
    "        pass\n",
    "    print(number)\n",
    "\n",
    "print(number, \"is divisible by both 3 and 5, loop ended\")"
   ]
  },
  {
   "cell_type": "markdown",
   "id": "d00addd4",
   "metadata": {},
   "source": [
    "- **for loop**"
   ]
  },
  {
   "cell_type": "code",
   "execution_count": 68,
   "id": "a6d6f353",
   "metadata": {
    "tags": []
   },
   "outputs": [
    {
     "name": "stdout",
     "output_type": "stream",
     "text": [
      "1\n",
      "2\n",
      "4\n",
      "5\n",
      "7\n",
      "8\n",
      "10\n",
      "11\n",
      "13\n",
      "14\n",
      "15 is divisible by both 3 and 5, loop ended\n"
     ]
    }
   ],
   "source": [
    "for number in range(1, 50):\n",
    "    if number % 3 == 0 and number % 5 == 0:\n",
    "        break\n",
    "    elif number % 3 == 0:\n",
    "        continue\n",
    "    elif number % 5 == 0:\n",
    "        pass\n",
    "    print(number)\n",
    "    \n",
    "print(number, \"is divisible by both 3 and 5, loop ended\")"
   ]
  },
  {
   "cell_type": "markdown",
   "id": "dd44a729",
   "metadata": {},
   "source": [
    "(section-label-3.3)=\n",
    "### Activity 3"
   ]
  },
  {
   "cell_type": "code",
   "execution_count": 69,
   "id": "46668514",
   "metadata": {},
   "outputs": [
    {
     "name": "stdout",
     "output_type": "stream",
     "text": [
      "62.166666666666664\n"
     ]
    }
   ],
   "source": [
    "student_scores = [85, 95, 100, 20, 90, 60, 97, 68, 52, 42, 73, 78]\n",
    "\n",
    "total = sum(score for score in student_scores if score >= 60) \n",
    "\n",
    "avg = total / len(student_scores)\n",
    "\n",
    "print(avg)"
   ]
  },
  {
   "cell_type": "markdown",
   "id": "fbafe3d1",
   "metadata": {
    "tags": []
   },
   "source": [
    "(section-label-3.4)=\n",
    "### Activity 4"
   ]
  },
  {
   "cell_type": "code",
   "execution_count": 70,
   "id": "8d30ccfe",
   "metadata": {},
   "outputs": [
    {
     "data": {
      "text/plain": [
       "10"
      ]
     },
     "execution_count": 70,
     "metadata": {},
     "output_type": "execute_result"
    }
   ],
   "source": [
    "def find_max_value(list_of_numbers):\n",
    "    max_value = list_of_numbers[0]  # assume the first number is the maximum at the start of the loop\n",
    "    \n",
    "    for number in list_of_numbers:\n",
    "        if number > max_value:\n",
    "            max_value = number\n",
    "\n",
    "            \n",
    "    return max_value\n",
    "\n",
    "\n",
    "number_list = [-8, 9, 0, 5, 2, 10]\n",
    "find_max_value(number_list)"
   ]
  }
 ],
 "metadata": {
  "kernelspec": {
   "display_name": "Python 3 (ipykernel)",
   "language": "python",
   "name": "python3"
  },
  "language_info": {
   "codemirror_mode": {
    "name": "ipython",
    "version": 3
   },
   "file_extension": ".py",
   "mimetype": "text/x-python",
   "name": "python",
   "nbconvert_exporter": "python",
   "pygments_lexer": "ipython3",
   "version": "3.10.9"
  }
 },
 "nbformat": 4,
 "nbformat_minor": 5
}
