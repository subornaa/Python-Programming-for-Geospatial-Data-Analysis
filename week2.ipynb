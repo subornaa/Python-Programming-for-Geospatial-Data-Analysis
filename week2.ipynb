{
 "cells": [
  {
   "cell_type": "markdown",
   "metadata": {},
   "source": [
    "# Chapter 2: Python Fundamentals"
   ]
  },
  {
   "cell_type": "markdown",
   "metadata": {},
   "source": [
    "## Exploring Built-in Functions, String Manipulation, <br>Numeric Operations, and Data Structures\n",
    "\n",
    "**Author: Dr. Suborna Ahmed**"
   ]
  },
  {
   "cell_type": "markdown",
   "metadata": {},
   "source": [
    "## <span style=\"color:blue\"> Learning Objectives:</span>                  \n",
    "\n",
    "- Builtin Functions in Python:  \n",
    "\n",
    "    - `String`: \n",
    "        - Common String Operators\n",
    "        - Slicing String Variable \n",
    "\n",
    "    - `Numeric` \n",
    "        - Arithmetic \n",
    "        - Assignment\n",
    "        - Comparison\n",
    "        - Logical Operators\n",
    "\n",
    "- Basic Data Structures \n",
    "\n",
    "- Complex Data Structures \n",
    " \n",
    "    - `Lists`\n",
    "\n",
    "    - `Tuples`\n",
    "\n",
    "    - `Dictionaries`"
   ]
  },
  {
   "cell_type": "markdown",
   "metadata": {},
   "source": [
    "## Built-in Functions in Python\n",
    "\n",
    "Many methods are pre-defined in the Python standard library and cover a wide range of operations. We will learn some basic functions to perform common tasks such as manipulating strings, converting data types, working with mathematical calculations, etc. and to work with basic data types in Python. Understanding and utilizing built-in functions will enhance your productivity and enable you to write efficient and concise code. \n",
    "\n",
    "- The following links are additional sources where you can find more helpful built-in functions.\n",
    "\n",
    "* String:\n",
    "https://docs.python.org/2.6/library/string.html\n",
    "\n",
    "\n",
    "* Numeric\n",
    "https://docs.python.org/3.4/library/operator.html#mapping-operators-to-functions "
   ]
  },
  {
   "cell_type": "markdown",
   "metadata": {},
   "source": [
    "## 1. Built-in Functions in Python for Strings\n",
    "\n",
    "We will explore common string operators that allow you to concatenate, repeat, find substrings, and format strings. Understanding how to slice a string variable will enable you to extract specific portions of text based on index positions."
   ]
  },
  {
   "cell_type": "markdown",
   "metadata": {},
   "source": [
    "### 1.1 Common String Operators\n",
    "* **string.join(x)**: returns a string concatenated with the elements of x. \n",
    "* **string.find(sub)**: returns the first index where the substring sub is found such that sub is wholly contained between the start and end. \n",
    "* **string.lower(s)**: returns a copy of s, but with upper case letters converted to lower case.\n",
    "* **string.upper(s)**: returns a copy of s, but with lower case letters converted to upper case.\n",
    "* **string.replace(old, new, number)**: returns a copy of string with all occurrences of substring old replaced by new. Here number is optional which represents how many times it will replace."
   ]
  },
  {
   "cell_type": "markdown",
   "metadata": {},
   "source": [
    "- In the first example below: the join() method is used on the string y with the argument x. When join() is called on a string, it concatenates the elements of an iterable (in this case, the string x) with the string on which the method is called (in this case, the string y). It `inserts the string y between each element of x`.\n",
    "\n",
    "- In the second example: the join() method is used on the string k1 with the argument k2. Since join() expects an iterable as its argument, it treats the string k2 as a sequence of characters. In this case, k1.join(k2) will result in the string \"oSUBLsUBnUBa\", as the `string k1 is inserted between each character of k2`."
   ]
  },
  {
   "cell_type": "code",
   "execution_count": 27,
   "metadata": {
    "tags": []
   },
   "outputs": [
    {
     "name": "stdout",
     "output_type": "stream",
     "text": [
      "1-2-3\n",
      "oSUBrSUBnSUBa\n"
     ]
    }
   ],
   "source": [
    "# string.join()\n",
    "x = \"123\"\n",
    "y = \"-\"\n",
    "print(y.join(x))\n",
    "\n",
    "k1 = 'SUB'\n",
    "k2 = \"orna\"\n",
    "print(k1.join(k2))"
   ]
  },
  {
   "cell_type": "markdown",
   "metadata": {},
   "source": [
    "`````{admonition} Note\n",
    ":class: tip\n",
    "**index starts at 0 in Python !**\n",
    "\n",
    "In Python, an index refers to the position of an element within a sequence, such as a list, string, or tuple. It allows us to access and manipulate individual elements based on their position. \n",
    "<br>\n",
    "Python uses zero-based indexing, meaning the first element in a sequence is assigned an index of 0, the second element has an index of 1, and so on.\n",
    "``````"
   ]
  },
  {
   "cell_type": "code",
   "execution_count": 28,
   "metadata": {
    "tags": []
   },
   "outputs": [
    {
     "name": "stdout",
     "output_type": "stream",
     "text": [
      "n_index:  2\n",
      "t_index:  9\n"
     ]
    }
   ],
   "source": [
    "# string.find(sub)\n",
    "weather = \"Windy Weather\"\n",
    "n_index = weather.find(\"n\")\n",
    "print(\"n_index: \", n_index) # locates the position (index) of the letter \"n\" for the first time\n",
    "t_index = weather.find(\"t\")\n",
    "print(\"t_index: \", t_index) # locates the position (index) of the letter \"t\" for the first time"
   ]
  },
  {
   "cell_type": "markdown",
   "metadata": {},
   "source": [
    "**The code below explains how to count the index in Python. You don't need to understand the code for `Loop`` yet, we will discuss it in Week3.**"
   ]
  },
  {
   "cell_type": "code",
   "execution_count": 29,
   "metadata": {},
   "outputs": [
    {
     "name": "stdout",
     "output_type": "stream",
     "text": [
      "The letter 'W' is at index 0.\n",
      "The letter 'i' is at index 1.\n",
      "The letter 'n' is at index 2.\n",
      "The letter 'd' is at index 3.\n",
      "The letter 'y' is at index 4.\n",
      "The letter ' ' is at index 5.\n",
      "The letter 'W' is at index 6.\n",
      "The letter 'e' is at index 7.\n",
      "The letter 'a' is at index 8.\n",
      "The letter 't' is at index 9.\n",
      "The letter 'h' is at index 10.\n",
      "The letter 'e' is at index 11.\n",
      "The letter 'r' is at index 12.\n"
     ]
    }
   ],
   "source": [
    "string = \"Windy Weather\"\n",
    "\n",
    "for index, letter in enumerate(string):\n",
    "    print(f\"The letter '{letter}' is at index {index}.\")"
   ]
  },
  {
   "cell_type": "code",
   "execution_count": 30,
   "metadata": {
    "tags": []
   },
   "outputs": [
    {
     "name": "stdout",
     "output_type": "stream",
     "text": [
      "sub\n",
      "ORNA\n",
      "Suborna\n"
     ]
    }
   ],
   "source": [
    "# string.lower(): convert all characters to lower case\n",
    "# string.upper(): convert all characters to upper case\n",
    "\n",
    "k1 = 'Sub'\n",
    "k2 = \"orna\"\n",
    "\n",
    "print(k1.lower())\n",
    "\n",
    "print(k2.upper())\n",
    "\n",
    "k=k1+k2\n",
    "print(k)"
   ]
  },
  {
   "cell_type": "markdown",
   "metadata": {},
   "source": [
    "```{admonition} Activity 1\n",
    "\n",
    "Investigate **string.replace(old, new, number)** and write a code with the provided `exa` string variable below.\n",
    "\n",
    "``````"
   ]
  },
  {
   "cell_type": "code",
   "execution_count": 31,
   "metadata": {},
   "outputs": [],
   "source": [
    "exa = \"this is an example\"\n",
    "# hint: to get help on Jupyter, you can type the function and with a question mark after it and run the code.\n",
    "# write codes here"
   ]
  },
  {
   "cell_type": "markdown",
   "metadata": {},
   "source": [
    "See [solution for activity 1](section-label-2.1) at the end."
   ]
  },
  {
   "cell_type": "markdown",
   "metadata": {},
   "source": [
    "### 1.2 Slicing String Variable\n"
   ]
  },
  {
   "cell_type": "markdown",
   "metadata": {},
   "source": [
    "In Python, slicing can be performed on strings, allowing you to **extract substrings or specific portions of a string**. Slicing a string allows you to create a new string that contains only the selected characters. The resulting substring is a new string object and does not affect the original string.\n",
    "\n",
    "Slicing a string follows the same **general syntax** as slicing any sequence in Python: `string[start:end:step]`.\n",
    "\n",
    "- When slicing a string, the character at **the start index is included** in the slice, but the character at **the end index is not**. It means that string[start:end] extracts characters from start up to, but not including, the character at end.\n",
    "\n",
    "- Indices can be specified using positive or negative numbers. **Positive indices** count from the beginning of the string **(starting from 0)**, while **negative indices** count from the end of the string **(starting from -1)**.\n",
    "\n",
    "- The **step value determines the spacing between characters** in the slice. A positive step value moves forward through the string, while a negative step value moves backward. For example, a step of 2 would select every second character in the slice.\n",
    "\n",
    "- Default Values: If you omit the start index, it defaults to the beginning of the string. If you omit the end index, it defaults to the end of the string. If you omit the step value, it defaults to 1.\n"
   ]
  },
  {
   "cell_type": "code",
   "execution_count": 32,
   "metadata": {
    "tags": []
   },
   "outputs": [
    {
     "name": "stdout",
     "output_type": "stream",
     "text": [
      "8\n"
     ]
    }
   ],
   "source": [
    "# investigate the outputs for the following example\n",
    "p = 'Hamilton'\n",
    "print(len(p)) # count the length of characters in the string"
   ]
  },
  {
   "cell_type": "code",
   "execution_count": 33,
   "metadata": {},
   "outputs": [
    {
     "name": "stdout",
     "output_type": "stream",
     "text": [
      "H\n"
     ]
    }
   ],
   "source": [
    "# access the character at index 0 in the string p, corresponds to the first character of the string.\n",
    "print(p[0]) "
   ]
  },
  {
   "cell_type": "code",
   "execution_count": 34,
   "metadata": {},
   "outputs": [
    {
     "name": "stdout",
     "output_type": "stream",
     "text": [
      "Ha\n"
     ]
    }
   ],
   "source": [
    "# extracts a substring from the string p, starting from index 0 up to, but not including, index 2\n",
    "# the first and second character of the string are extracted\n",
    "print(p[0:2])"
   ]
  },
  {
   "cell_type": "code",
   "execution_count": 35,
   "metadata": {},
   "outputs": [
    {
     "name": "stdout",
     "output_type": "stream",
     "text": [
      "i\n"
     ]
    }
   ],
   "source": [
    "# negative indices count from the end of the string,\n",
    "# accesses the character at index -5 in the string p. \n",
    "print(p[-5])"
   ]
  },
  {
   "cell_type": "markdown",
   "metadata": {},
   "source": [
    "**Except String, we can also use slicing with List.**\n",
    "- Index starts at 0 !"
   ]
  },
  {
   "cell_type": "code",
   "execution_count": 36,
   "metadata": {},
   "outputs": [
    {
     "name": "stdout",
     "output_type": "stream",
     "text": [
      "[10, 20, 30]\n",
      "[0, 10, 20]\n",
      "[20, 30, 40, 50]\n",
      "[0, 20, 40]\n",
      "[50, 40, 30, 20, 10, 0]\n"
     ]
    }
   ],
   "source": [
    "my_list = [0, 10, 20, 30, 40, 50]\n",
    "\n",
    "print(my_list[1:4])   # slicing from index 1 to 4(exclusive)\n",
    "print(my_list[:3])    # slicing starts from the beginning, index 0, to index 3(exlusive)\n",
    "print(my_list[2:])    # slicing starts from index 2 (inclusive) to the end of the list \n",
    "print(my_list[::2])   # slicing skips every second element in the list\n",
    "print(my_list[::-1])  # negative step value of -1 indicating a reverse order."
   ]
  },
  {
   "cell_type": "markdown",
   "metadata": {},
   "source": [
    "```{admonition} Activity 2\n",
    "\n",
    "What would be the output? Create a Markdown chunk under this one and explain the output:\n",
    "- s = 'GEM 530'\n",
    "- <code>s[-2]</code>\n",
    "- <code>s[3]</code>\n",
    "\n",
    "``````"
   ]
  },
  {
   "cell_type": "markdown",
   "metadata": {},
   "source": [
    "See [solution for activity 2](section-label-2.2) at the end."
   ]
  },
  {
   "cell_type": "markdown",
   "metadata": {},
   "source": [
    "## 2. Built-in Functions in Python for Numerics\n",
    "\n",
    "The numeric section focuses on **arithmetic, assignment, comparison, and logical operators** in Python. We will learn how to perform mathematical calculations using operators such as addition (+), subtraction (-), multiplication (*), division (/), and exponentiation (**). Understanding how to assign values to variables efficiently, compare values and evaluate conditions, and manipulate logical conditions with logical operators. "
   ]
  },
  {
   "cell_type": "markdown",
   "metadata": {},
   "source": [
    "### 2.1 Arithmetic Operators\n",
    "\n",
    "Arithmetic operators are used to perform mathematical calculations in Python. In week 1, we have seen some examples for using basic math calculator in Python, including: `addition (+), subtraction (-), multiplication (*), division (/), and exponentiation (**)`. Now we will introduce two more commonly used arithmetic operators: \n",
    "\n",
    "- Modulus (%): Returns the remainder of the division of the left operand by the right operand.\n",
    "- Floor Division (//): Returns the result of the division, rounded down to the nearest whole number.\n",
    "\n",
    "For the following example, let's say, <code>a = 5</code> & <code>b = 2</code>.\n",
    "\n",
    "| Arithmetic Operators | Description | Result |\n",
    "| :------------------- | :---------- | :----- |\n",
    "| + | Addition | $a + b = 7$ |\n",
    "| - | Subtraction | $a - b = 3$ |\n",
    "| * | Multiplication | $a \\times b = 10$ |\n",
    "| / | Division | $a \\div b = 2.5$ |\n",
    "| ** | Exponentiation: <br>performs exponential (power) calculation on operatos | $a ^ b = 25$ |\n",
    "| % | Modulus: <br>divides left hand operand by right hand operand and returns remainder | a $\\%$ b = 1 |\n",
    "| // | Floor Division: <br>the division of operands where the result is the quotient in which the **digits after the decimal point are removed** | <p>9//2 is equal to 4, <br>9.0//2.0 is equal to 4.0</p> |"
   ]
  },
  {
   "cell_type": "code",
   "execution_count": 37,
   "metadata": {
    "tags": []
   },
   "outputs": [
    {
     "name": "stdout",
     "output_type": "stream",
     "text": [
      "a + b =  7\n",
      "a - b =  3\n",
      "a * b =  10\n",
      "a / b =  2.5\n",
      "a ** b =  25\n",
      "a % b =  1\n",
      "a // b =  2\n"
     ]
    }
   ],
   "source": [
    "a = 5\n",
    "b = 2\n",
    "\n",
    "print(\"a + b = \", a+b)\n",
    "print(\"a - b = \", a-b)\n",
    "print(\"a * b = \", a*b)\n",
    "print(\"a / b = \", a/b)\n",
    "print(\"a ** b = \", a**b)\n",
    "print(\"a % b = \", a%b)\n",
    "print(\"a // b = \", a//b)"
   ]
  },
  {
   "cell_type": "markdown",
   "metadata": {},
   "source": [
    "- In Python 2, when dividing integers, the result will be an integer. \n",
    "- In Python 3, the result includes decimals."
   ]
  },
  {
   "cell_type": "code",
   "execution_count": 38,
   "metadata": {},
   "outputs": [
    {
     "data": {
      "text/plain": [
       "2.5"
      ]
     },
     "execution_count": 38,
     "metadata": {},
     "output_type": "execute_result"
    }
   ],
   "source": [
    "5/2 # in Python 2 it will give 2 only, while Python 3 will generate 2.5"
   ]
  },
  {
   "cell_type": "markdown",
   "metadata": {},
   "source": [
    "### 2.2 Assignment Operators\n",
    "\n",
    "Assignment operators are used to assign values to variables. Here are the commonly used assignment operators:\n",
    "\n",
    "- = (Assign): Assigns the value on the right to the variable on the left.\n",
    "- += (Add and Assign): Adds the value on the right to the variable on the left and assigns the result to the variable.\n",
    "- -= (Subtract and Assign): Subtracts the value on the right from the variable on the left and assigns the result to the variable.\n",
    "- *= (Multiply and Assign): Multiplies the variable on the left by the value on the right and assigns the result to the variable.\n",
    "- /= (Divide and Assign): Divides the variable on the left by the value on the right and assigns the result to the variable.\n",
    "\n",
    "```{admonition} Note\n",
    ":class: warning\n",
    "**=(Assign) and ==(Equals) are different operators in Python.**\n",
    "```\n",
    " \n",
    "<blockquote>\n",
    "<span style=\"color:blue\">Assignment Operator (=)</span>:\n",
    "\n",
    "The assignment operator is used to assign the value on the right-hand side to the variable on the left-hand side.\n",
    "The assignment operator is a fundamental part of variable initialization and value assignment in Python.\n",
    "\n",
    "Example: x = 5 assigns the value 5 to the variable x.\n",
    "</blockquote>\n",
    "\n",
    "<blockquote>\n",
    "<span style=\"color:blue\">Equality Operator (==)</span>:\n",
    "\n",
    "The equality operator is used to compare if two values on both sides of the operator are equal or not.\n",
    "It returns a Boolean value (True or False) based on the comparison result.\n",
    "\n",
    "Example: x == 5 compares the value of x to 5 and returns True if they are equal, and False otherwise.\n",
    "</blockquote>\n",
    "\n",
    "For the following example, let's say, <code>a = 5</code> & <code>b = 2</code>.\n",
    "\n",
    "\n",
    "| Arithmetic Operators | Name | Example | Meaning | Result of a |\n",
    "| :-- | :-- | :-- | :-- | :-- |\n",
    "| **=** | **Simple assignment** | **a = b** | **Set a as b** | **2** |\n",
    "|+= | Add AND | a += b | a = a + b | 7 |\n",
    "| -= | Subtract AND | a -= b | a = a - b | 3 |\n",
    "| *= | Multiply AND | a *= b | a = a * b | 10 |\n",
    "| /= | Divide AND | a /= b | a = a / b | 2.5 |\n",
    "| %= | Modulus AND | a %= b | a = a % b | 1 |\n",
    "| **= | Exponent AND | a **= b | a = a ** b | 25 |\n",
    "\n",
    "<span style=\"color:blue\"><font size=\"3\">= after the operator: +, -, *, /, ... means a is reassigned</font></span>"
   ]
  },
  {
   "cell_type": "code",
   "execution_count": 39,
   "metadata": {
    "tags": []
   },
   "outputs": [
    {
     "name": "stdout",
     "output_type": "stream",
     "text": [
      "#operation a b\n",
      "#1: a=b 2 2\n",
      "#2: a+=b 7 2\n",
      "#3: a-=b 3 2\n",
      "#4: a*=b 10 2\n",
      "#5: a/=b 2.5 2\n",
      "#6: a%=b 1 2\n",
      "#7: a**=b 25 2\n"
     ]
    }
   ],
   "source": [
    "# Assignment Operators\n",
    "print('#operation', 'a', 'b')\n",
    "\n",
    "# 1. \n",
    "a = 5\n",
    "b = 2\n",
    "a = b # the value of 'b' is assigned to 'a' using the assignment operator (=). \n",
    "print(\"#1: a=b\", a, b)\n",
    "\n",
    "# 2. \n",
    "a = 5\n",
    "b = 2\n",
    "a += b # adds the value of 'b' to the current value of 'a' and assigns the result back to 'a'\n",
    "print(\"#2: a+=b\", a, b)\n",
    "\n",
    "# 3. \n",
    "a = 5\n",
    "b = 2\n",
    "a -= b # subtracts the value of 'b' from the current value of 'a' and assigns the result back to 'a'\n",
    "print(\"#3: a-=b\",a, b)\n",
    "\n",
    "# 4.\n",
    "a = 5\n",
    "b = 2\n",
    "a *= b # multiplies the current value of 'a' by the value of 'b' and assigns the result back to 'a'\n",
    "print(\"#4: a*=b\", a, b)\n",
    "\n",
    "# 5.\n",
    "a = 5\n",
    "b = 2\n",
    "a /= b # divides the current value of 'a' by the value of 'b' and assigns the result back to 'a' \n",
    "print(\"#5: a/=b\", a, b)\n",
    "\n",
    "# 6.\n",
    "a = 5\n",
    "b = 2\n",
    "a %= b # calculates the remainder when 'a' is divided by 'b' and assigns the result back to 'a'\n",
    "print(\"#6: a%=b\", a, b)\n",
    "\n",
    "# 7.\n",
    "a = 5\n",
    "b = 2\n",
    "a **= b # raises 'a' to the power of 'b' and assigns the result back to 'a'\n",
    "print(\"#7: a**=b\", a, b)"
   ]
  },
  {
   "cell_type": "markdown",
   "metadata": {},
   "source": [
    "### 2.3 Comparison Operators\n",
    "\n",
    "Comparison operators are used to compare the values of variables. They return **Boolean values, either True or False**. Here are the commonly used comparison operators:\n",
    "\n",
    "- $==$ (Equal to): Returns True if the operands are equal.\n",
    "- $!=$ (Not equal to): Returns True if the operands are not equal.\n",
    "- $<$ (Less than): Returns True if the left operand is less than the right operand.\n",
    "- $>$ (Greater than): Returns True if the left operand is greater than the right operand.\n",
    "- $<=$ (Less than or equal to): Returns True if the left operand is less than or equal to the right operand.\n",
    "- $>=$ (Greater than or equal to): Returns True if the left operand is greater than or equal to the right operand.\n",
    "\n",
    "For the following example, let's say, <code>a = 5</code> & <code>b = 2</code>. <br>The output is Boolean Type: <code>TRUE or FALSE</code>.\n",
    "\n",
    "| Comparison Operators | How to use | Dscriptions | Results |\n",
    "| :-- | :-- | :-- | :-- | \n",
    "| == | a == b | a equals b | (a == b) is not true |\n",
    "| != | a != b | a is not equal to b | (a != b) is true |\n",
    "| < | a < b | a is less than b | (a < b) is not true |\n",
    "| > | a > b | a is greater than b | (a > b) is true |\n",
    "| <= | a <= b | a is less than or equal to b | (a <= b) is not true |\n",
    "| >= | a >= b | a is greater than or equal to b | (a >= b) is true |\n",
    "| is | a is b | a and b are the same object | (a is b) is not true |\n",
    "| is not | a is not b | a and b are different objects | (a is not b) is true |\n",
    "| in | a in range(b) | a is a member of [0,1,2,...,b-1] | (a in range(b)) is not true |\n",
    "| not in | a not in range(b) | a is not a member of [0,1,2,...,b-1] | (a not in range(b)) is true |"
   ]
  },
  {
   "cell_type": "code",
   "execution_count": 40,
   "metadata": {
    "tags": []
   },
   "outputs": [
    {
     "name": "stdout",
     "output_type": "stream",
     "text": [
      "#1: a == b is False\n",
      "#2: a < b is False\n",
      "#3: a > b is True\n",
      "#4: a >= b is True\n",
      "#5: a <= b is False\n",
      "#6: a !=  b is True\n",
      "#7: a is b is False\n",
      "#8: a is not b is True\n"
     ]
    }
   ],
   "source": [
    "# Comparison Operators\n",
    "# 1. \n",
    "a = 5\n",
    "b = 2\n",
    "a == b # the equality operator (==) is used to compare if the values of 'a' and 'b' equals\n",
    "print(\"#1: a == b is\", a == b)\n",
    "\n",
    "# 2. \n",
    "a = 5\n",
    "b = 2\n",
    "a < b\n",
    "print(\"#2: a < b is\", a < b)\n",
    "\n",
    "# 3. \n",
    "a = 5\n",
    "b = 2\n",
    "a > b\n",
    "print(\"#3: a > b is\" , a  > b)\n",
    "\n",
    "# 4.\n",
    "a = 5\n",
    "b = 2\n",
    "a >= b\n",
    "print(\"#4: a >= b is\", a >= b)\n",
    "\n",
    "# 5.\n",
    "a = 5\n",
    "b = 2\n",
    "a <= b\n",
    "print(\"#5: a <= b is\", a <= b)\n",
    "\n",
    "# 6.\n",
    "a = 5\n",
    "b = 2\n",
    "a !=  b\n",
    "print(\"#6: a !=  b is\", a !=  b)\n",
    "\n",
    "# 7.\n",
    "a = 5\n",
    "b = 2\n",
    "a is b\n",
    "print(\"#7: a is b is\", a is b)\n",
    "\n",
    "# 8.\n",
    "a = 5\n",
    "b = 2\n",
    "a is not b\n",
    "print(\"#8: a is not b is\", a is not b)"
   ]
  },
  {
   "cell_type": "markdown",
   "metadata": {},
   "source": [
    "`````{admonition} Note\n",
    ":class: tip\n",
    "**range and list functions**\n",
    "\n",
    "- The range() function is used to generate a sequence of numbers. In the code below, range(a) creates a range object with a sequence of numbers from 0 to 4 (excluding 5), and range(b) creates a range object with a sequence of numbers from 0 to 1 (excluding 2).\n",
    "\n",
    "- The list() function is used to convert the range objects into lists for printing. The list(range(a)) converts the range object range(a) into a list [0, 1, 2, 3, 4], and list(range(b)) converts the range object range(b) into a list [0, 1].\n",
    "``````"
   ]
  },
  {
   "cell_type": "code",
   "execution_count": 41,
   "metadata": {},
   "outputs": [
    {
     "name": "stdout",
     "output_type": "stream",
     "text": [
      "list all the members in range(a):  [0, 1, 2, 3, 4]\n",
      "list all the members in range(b):  [0, 1]\n",
      "#9:a in range(b) = False\n",
      "#9:b in range(a) = True\n"
     ]
    }
   ],
   "source": [
    "# 9.\n",
    "a = 5\n",
    "b = 2\n",
    "print(\"list all the members in range(a): \", list(range(a)))\n",
    "print(\"list all the members in range(b): \", list(range(b)))\n",
    "\n",
    "a in range(b)\n",
    "print(\"#9:a in range(b) =\", a in range(b))\n",
    "print(\"#9:b in range(a) =\", b in range(a))"
   ]
  },
  {
   "cell_type": "markdown",
   "metadata": {},
   "source": [
    "```{admonition} Activity 3\n",
    "\n",
    "What would be the output?\n",
    "- <code>a = 2</code>\n",
    "- <code>b = 4</code>\n",
    "- <code>a not in range(b)</code>\n",
    "```"
   ]
  },
  {
   "cell_type": "markdown",
   "metadata": {},
   "source": [
    "See [solution for activity 3](section-label-2.3) at the end."
   ]
  },
  {
   "cell_type": "markdown",
   "metadata": {},
   "source": [
    "### 2.4 Logical Operators\n",
    "\n",
    "\n",
    "Logical operators are used to manipulate and evaluate logical conditions. They return Boolean results. Here are the commonly used logical operators:\n",
    "\n",
    "- and: Returns True if both operands are True.\n",
    "- or: Returns True if at least one of the operands is True.\n",
    "- not: Returns the opposite Boolean value of the operand.\n",
    "\n",
    "For the following example, let's say, <code>a = 5</code> & <code>b = 2</code>.\n",
    "\n",
    "| Logical Operators | How to use | Results |\n",
    "| :-- | :-- | :-- |\n",
    "| and | Logical **AND** operator. <br>If both the operands are true / non-zero then the condition becomes true. | (a and b) is true |\n",
    "| or | Logical **OR** operator. <br>If any of the two operands are true / non-zero then the condition becomes true. | (a or b) is true |\n",
    "| not | called Logical **NOT** operator. <br>Use to **reverses** the logical state of its operand. If a condition is true then Logical NOT operator will make false. | not(a and b) is false |"
   ]
  },
  {
   "cell_type": "code",
   "execution_count": 42,
   "metadata": {
    "tags": []
   },
   "outputs": [
    {
     "name": "stdout",
     "output_type": "stream",
     "text": [
      "(a > 3) and (b < 10) is  True\n",
      "not((a > 1) and (b < 10))is  False\n",
      "(a > 5) or (b < 10) is  True\n",
      "(a > 3) or (b < 10) is  False\n",
      "(a > 10) and (b < 10) False\n",
      "not((a > 10) and (b < 10)) is  True\n"
     ]
    }
   ],
   "source": [
    "# Operators: Logical operators\n",
    "a = 5\n",
    "b = 2\n",
    "\n",
    "O1 = (a > 3) and (b < 10) # a > 3 is True, b < 10 is also True, True and True produces True\n",
    "print(\"(a > 3) and (b < 10) is \", O1)\n",
    "\n",
    "O2 = not((a > 1) and (b < 10)) # a > 1 is True, b < 10 is also True, not True produces False\n",
    "print(\"not((a > 1) and (b < 10))is \", O2)\n",
    "\n",
    "O3 = (a > 5) or (b < 10) # a > 5 is False, b < 10 is True\n",
    "print(\"(a > 5) or (b < 10) is \", O3) # if at least one of the conditions is true, the expression produces True\n",
    "\n",
    "O4 = (a > 5) or (b > 10) # a > 5 is False, b > 10 is False\n",
    "print(\"(a > 3) or (b < 10) is \", O4) # the expression produces False since both conditions are false\n",
    "\n",
    "O5 = (a > 10) and (b < 10) # a > 10 is False and b < 10 is True\n",
    "print(\"(a > 10) and (b < 10)\", O5) # False and True produces False\n",
    "print(\"not((a > 10) and (b < 10)) is \", not(O5)) # not(False) produces True"
   ]
  },
  {
   "cell_type": "markdown",
   "metadata": {},
   "source": [
    "- Logical operators also can work with Boolean values and return Boolean results."
   ]
  },
  {
   "cell_type": "code",
   "execution_count": 43,
   "metadata": {
    "tags": []
   },
   "outputs": [
    {
     "name": "stdout",
     "output_type": "stream",
     "text": [
      "x and y is False\n",
      "x or y is True\n",
      "not x is False\n"
     ]
    }
   ],
   "source": [
    "x = True\n",
    "y = False\n",
    "# Output: x and y is False\n",
    "print('x and y is', x and y)\n",
    "# Output: x or y is True\n",
    "print('x or y is', x or y)\n",
    "# Output: not x is False\n",
    "print('not x is', not x)"
   ]
  },
  {
   "cell_type": "markdown",
   "metadata": {},
   "source": [
    "```{admonition} Activity 4\n",
    "\n",
    "What would be the output?<br>\n",
    "\n",
    "- <code>True and False or True</code>\n",
    "\n",
    "- <code>(True or False) and False</code>\n",
    "```"
   ]
  },
  {
   "cell_type": "markdown",
   "metadata": {},
   "source": [
    "See [solution for activity 4](section-label-2.4) at the end."
   ]
  },
  {
   "cell_type": "markdown",
   "metadata": {},
   "source": [
    "## 3. One More Note on Basic Data Types\n",
    "\n",
    "* `Boolean`: True or False; Conditional expression results are either True or False.\n",
    "* <code>type()</code>: use type() to interrogate an object.\n",
    "* <code>len()</code>: will return the length of characters in a string, number entries in a list, tuple, dictionary (more later) etc..\n",
    "\n"
   ]
  },
  {
   "cell_type": "code",
   "execution_count": 44,
   "metadata": {
    "tags": []
   },
   "outputs": [
    {
     "name": "stdout",
     "output_type": "stream",
     "text": [
      "<class 'bool'>\n",
      "<class 'int'>\n"
     ]
    }
   ],
   "source": [
    "# Basic Data Types\n",
    "x = type(True)\n",
    "print(x)\n",
    "\n",
    "x = type(1)\n",
    "print(x)"
   ]
  },
  {
   "cell_type": "code",
   "execution_count": 45,
   "metadata": {
    "tags": []
   },
   "outputs": [
    {
     "name": "stdout",
     "output_type": "stream",
     "text": [
      "5\n",
      "names length =  2\n",
      "nn length: 3\n"
     ]
    }
   ],
   "source": [
    "# len() function\n",
    "x = \"Hello\"\n",
    "print(len(x))\n",
    "\n",
    "names= (\"aa\", \"ac\") # a tuple named names is defined with two elements: \"aa\" and \"ac\".\n",
    "print(\"names length = \", len(names))\n",
    "\n",
    "nn = (1, 2, 3)# a tuple named nn is defined with three elements: 1, 2, and 3. \n",
    "print(\"nn length:\", len(nn))"
   ]
  },
  {
   "cell_type": "markdown",
   "metadata": {},
   "source": [
    "## 4. Complex Data Structures\n",
    "\n",
    "In Python we have some built-in data structures:\n",
    "\n",
    "1. **List**<br>\n",
    "Lists are **ordered collections** that can store heterogeneous data types. A sinlge list can contain different types of data, and even a list can be contained in another list. Each item in the list is separated by a comma and the entire list is enclosed in square brackets [.] <br>\n",
    "\n",
    "2. **Tuple** <br>\n",
    "Tuples are similar to lists but **immutable**. Thus, tuples are useful for data which should not be modified. \n",
    "\n",
    "3. **Dictionary** <br>\n",
    "Dictionaries are **key-value pairs** that allow efficient retrieval of data based on keys.\n",
    "\n",
    "By mastering these basic data structures, you will have a solid foundation for working with **collections of data in Python**."
   ]
  },
  {
   "cell_type": "markdown",
   "metadata": {},
   "source": [
    "\n",
    "|Container|Description|Feature|Examples|\n",
    "|:--|:--|:--|:--|\n",
    "|list|Delimited by [ ]|mutable|['a', 'b', 'c']|\n",
    "|tuple|Denoted by parenthesis ( )|immutable|('a', 'b', 'c')|\n",
    "|dictionary|{key1: value1, <br>key2: value2, <br>...}|mutable (but not entries)|{ 'Country': 'Canada', <br>'population': 38,781,291, <br> 'provinces': ['AB', 'BC', 'QC', 'ON'] }| "
   ]
  },
  {
   "cell_type": "markdown",
   "metadata": {},
   "source": [
    "**Composite Type**\n",
    "In those data structures, items are: \n",
    "* Ordered and sequential. \n",
    "* Accessible via an index.\n",
    "* Easy for expressing complex operations in a single statement."
   ]
  },
  {
   "cell_type": "markdown",
   "metadata": {},
   "source": [
    "### 4.1 Lists\n",
    "\n",
    "In Python we frequently use lists, and there are many methods associated with lists. It primarily works as a holder.\n",
    "\n",
    "* We use a **list()** function or directly use a square bracket **[ ]** to create a list.\n",
    "\n",
    "* `Mutable`: can change after creating it.\n",
    "\n",
    "* Operate by `order/number`.\n",
    "\n",
    "* Index starts at 0. \n",
    "\n",
    "* Can be `sliced` just like a string."
   ]
  },
  {
   "cell_type": "code",
   "execution_count": 46,
   "metadata": {
    "tags": []
   },
   "outputs": [
    {
     "name": "stdout",
     "output_type": "stream",
     "text": [
      "list 1: [1, 2, 3]\n",
      "type of list1:  <class 'list'>\n",
      "list 2: [4, 5, 6, 8, 9]\n",
      "list 3: ['a', 'bunch', 'of', 'things']\n",
      "varName: [1, 2, 'a', 4.8, 'b', ['another', 'list', 'within a list'], 6]\n"
     ]
    }
   ],
   "source": [
    "# To create a list\n",
    "\n",
    "# Option 1: use a list() function\n",
    "list1 = list([1, 2, 3])\n",
    "print(\"list 1:\", list1)\n",
    "\n",
    "print(\"type of list1: \", type(list1))\n",
    "\n",
    "# Option 2: directly use a square bracket [ ]\n",
    "list2 = [4, 5, 6, 8, 9]\n",
    "\n",
    "print(\"list 2:\", list2)\n",
    "\n",
    "\n",
    "list3 = list(['a', 'bunch', 'of', 'things'])\n",
    "print(\"list 3:\", list3)\n",
    "\n",
    "\n",
    "# A single list can contain different types of data: int, float, string, and another list.\n",
    "varName = [1, 2, 'a', 4.8, 'b', ['another', 'list', 'within a list'], 6]\n",
    "print(\"varName:\", varName)"
   ]
  },
  {
   "cell_type": "code",
   "execution_count": 47,
   "metadata": {
    "tags": []
   },
   "outputs": [
    {
     "name": "stdout",
     "output_type": "stream",
     "text": [
      "list2[1]: 5\n",
      "list2[:4] [4, 5, 6, 8]\n"
     ]
    }
   ],
   "source": [
    "# Slicing\n",
    "print(\"list2[1]:\", list2[1])\n",
    "\n",
    "print(\"list2[:4]\", list2[:4])"
   ]
  },
  {
   "cell_type": "code",
   "execution_count": 48,
   "metadata": {},
   "outputs": [
    {
     "name": "stdout",
     "output_type": "stream",
     "text": [
      "Original list: [1, 2, 3, 4, 5]\n",
      "Updated list: [1, 2, 10, 4, 5]\n"
     ]
    }
   ],
   "source": [
    "# example to show list is mutable\n",
    "\n",
    "mutable_list = [1, 2, 3, 4, 5]\n",
    "print(\"Original list:\", mutable_list)\n",
    "\n",
    "\n",
    "# the element at index 2, the third element, of the mutable_list is modified by assigning the value 10 to it\n",
    "mutable_list[2] = 10\n",
    "print(\"Updated list:\", mutable_list)"
   ]
  },
  {
   "cell_type": "markdown",
   "metadata": {},
   "source": [
    "### 4.2 Tuples\n",
    "\n",
    "A tuple is an immutable collection of items.\n",
    "\n",
    "* Tuples are declared with **parentheses ( )**.\n",
    "\n",
    "* Declared with parenthesis () or without a parenthesis.\n",
    "\n",
    "* `Immutable`: cannot change after creating it.\n",
    "\n",
    "* Index starts at 0. \n",
    "\n",
    "* Also accessed through `slicing`."
   ]
  },
  {
   "cell_type": "code",
   "execution_count": 49,
   "metadata": {
    "tags": []
   },
   "outputs": [
    {
     "name": "stdout",
     "output_type": "stream",
     "text": [
      "<class 'tuple'>\n",
      "myTuple: ('hi', 'class')\n",
      "Type of x: <class 'tuple'>\n",
      "tuple x:  (1, 3, 5)\n"
     ]
    }
   ],
   "source": [
    "# Create tuples\n",
    "\n",
    "# Option 1: With parentheses()\n",
    "myTuple = (\"hi\", \"class\")\n",
    "print(type(myTuple))\n",
    "print(\"myTuple:\", myTuple)\n",
    "\n",
    "# Option 2: Without parentheses()\n",
    "x = 1, 3, 5\n",
    "print(\"Type of x:\", type(x))\n",
    "print(\"tuple x: \", x)"
   ]
  },
  {
   "cell_type": "code",
   "execution_count": 50,
   "metadata": {
    "tags": []
   },
   "outputs": [
    {
     "name": "stdout",
     "output_type": "stream",
     "text": [
      "('hi', 'class', 'welcome', 'to', 'GEM', '530')\n",
      "hi\n",
      "('welcome', 'to', 'GEM', '530')\n"
     ]
    }
   ],
   "source": [
    "# Slicing\n",
    "myTuple = (\"hi\", \"class\", \"welcome\", \"to\", \"GEM\", \"530\")\n",
    "print(myTuple)\n",
    "print(myTuple[0])\n",
    "print(myTuple[2:])"
   ]
  },
  {
   "cell_type": "code",
   "execution_count": 51,
   "metadata": {
    "tags": []
   },
   "outputs": [
    {
     "name": "stdout",
     "output_type": "stream",
     "text": [
      "my_tuple: ('mouse', [8, 4, 6], (1, 2, 3))\n"
     ]
    }
   ],
   "source": [
    "# Nested tuple: lists are contained in a tuple\n",
    "my_tuple = (\"mouse\", [8, 4, 6], (1, 2, 3))\n",
    "print(\"my_tuple:\", my_tuple)"
   ]
  },
  {
   "cell_type": "code",
   "execution_count": 52,
   "metadata": {},
   "outputs": [
    {
     "name": "stdout",
     "output_type": "stream",
     "text": [
      "Original tuple: (1, 2, 3)\n"
     ]
    },
    {
     "ename": "TypeError",
     "evalue": "'tuple' object does not support item assignment",
     "output_type": "error",
     "traceback": [
      "\u001b[0;31m---------------------------------------------------------------------------\u001b[0m",
      "\u001b[0;31mTypeError\u001b[0m                                 Traceback (most recent call last)",
      "\u001b[0;32m<ipython-input-52-e2c5c63cc8cc>\u001b[0m in \u001b[0;36m<module>\u001b[0;34m\u001b[0m\n\u001b[1;32m      5\u001b[0m \u001b[0;31m# we try to change the element at index 1, the second element, in the tuple\u001b[0m\u001b[0;34m\u001b[0m\u001b[0;34m\u001b[0m\u001b[0m\n\u001b[1;32m      6\u001b[0m \u001b[0;31m# the error message shows we cannot change elements in tuple\u001b[0m\u001b[0;34m\u001b[0m\u001b[0;34m\u001b[0m\u001b[0m\n\u001b[0;32m----> 7\u001b[0;31m \u001b[0mmy_tuple\u001b[0m\u001b[0;34m[\u001b[0m\u001b[0;36m1\u001b[0m\u001b[0;34m]\u001b[0m \u001b[0;34m=\u001b[0m \u001b[0;36m10\u001b[0m\u001b[0;34m\u001b[0m\u001b[0m\n\u001b[0m\u001b[1;32m      8\u001b[0m \u001b[0mprint\u001b[0m\u001b[0;34m(\u001b[0m\u001b[0;34m\"Updated tuple:\"\u001b[0m\u001b[0;34m,\u001b[0m \u001b[0mmy_tuple\u001b[0m\u001b[0;34m)\u001b[0m \u001b[0;31m# an Error is expected when run this code\u001b[0m\u001b[0;34m\u001b[0m\u001b[0m\n",
      "\u001b[0;31mTypeError\u001b[0m: 'tuple' object does not support item assignment"
     ]
    }
   ],
   "source": [
    "# example to show tuple is immutable\n",
    "my_tuple = (1, 2, 3)\n",
    "print(\"Original tuple:\", my_tuple)\n",
    "\n",
    "# we try to change the element at index 1, the second element, in the tuple\n",
    "# the error message shows we cannot change elements in tuple\n",
    "my_tuple[1] = 10\n",
    "print(\"Updated tuple:\", my_tuple) # an Error is expected when run this code"
   ]
  },
  {
   "cell_type": "markdown",
   "metadata": {},
   "source": [
    "### 4.3 Dictionaries\n",
    "\n",
    "In dictionaries we add sequence of items. We need to add a `key` and a `value` in for each item. \n",
    "\n",
    "* A dictionary is declared with a curley bracket **{ }** or **dict()** funcrion.\n",
    "\n",
    "* Dictionaries operate using key-value pairs.\n",
    "\n",
    "* Accessed through calling the key."
   ]
  },
  {
   "cell_type": "code",
   "execution_count": null,
   "metadata": {
    "tags": []
   },
   "outputs": [
    {
     "name": "stdout",
     "output_type": "stream",
     "text": [
      "tel: {'jack': 4098, 'sape': 4139}\n",
      "my_dict: {'year': 2023, 'course': 'GEM530', 'section': '101'}\n"
     ]
    }
   ],
   "source": [
    "# Create a dictionary with key-value pairs\n",
    "\n",
    "# Option 1:  with a curley bracket{ }\n",
    "tel = {'jack': 4098, 'sape': 4139}\n",
    "print(\"tel:\", tel)\n",
    "\n",
    "# Option 2:  with the dict() function\n",
    "my_dict = dict(year=2023, course=\"GEM530\", section=\"101\")\n",
    "print(\"my_dict:\", my_dict)"
   ]
  },
  {
   "cell_type": "markdown",
   "metadata": {},
   "source": [
    "- Add a new item in the dictionary:\n",
    "`dic[new_key] = new_value`\n",
    "\n",
    "- Find the value for corresponding key:\n",
    "`dic[key1]` can produce the value corresponding to the key1\n",
    "\n",
    "- Change the value for a specific key:\n",
    "`dic[old_key] = new_value` can update / overwrite the old-value to the new value we want to pair with the old key"
   ]
  },
  {
   "cell_type": "code",
   "execution_count": null,
   "metadata": {},
   "outputs": [
    {
     "name": "stdout",
     "output_type": "stream",
     "text": [
      "tel: {'jack': 4098, 'sape': 4139, 'guido': 4127}\n",
      "tel['jack']: 4098\n"
     ]
    }
   ],
   "source": [
    "# Add another item in the dictionary\n",
    "tel['guido'] = 4127\n",
    "print('tel:',tel)\n",
    "\n",
    "# Access the dictionary by calling the key\n",
    "print(\"tel['jack']:\", tel['jack'])"
   ]
  },
  {
   "cell_type": "code",
   "execution_count": null,
   "metadata": {
    "tags": []
   },
   "outputs": [
    {
     "name": "stdout",
     "output_type": "stream",
     "text": [
      "tel2: {'jack': 4098, 'sape': [4139, 4029]}\n",
      "{'jack': 40, 'sape': [4139, 4029]}\n"
     ]
    }
   ],
   "source": [
    "# Change the value of item\n",
    "tel2 = {'jack': 4098, 'sape': [4139, 4029]}\n",
    "print(\"tel2:\", tel2)\n",
    "\n",
    "# Overwrite the value\n",
    "tel2['jack'] = 40 \n",
    "print(tel2)"
   ]
  },
  {
   "cell_type": "code",
   "execution_count": null,
   "metadata": {
    "tags": []
   },
   "outputs": [
    {
     "data": {
      "text/plain": [
       "{'jack': 4098, 'sape': 4139, 'jack1': 4098, 'sape2': 4139}"
      ]
     },
     "execution_count": 30,
     "metadata": {},
     "output_type": "execute_result"
    }
   ],
   "source": [
    "# Try dic.update() function\n",
    "d1 = {'jack': 4098, 'sape': 4139}\n",
    "d2 = {'jack1': 4098, 'sape2': 4139}\n",
    "d1.update( d2 )\n",
    "d1"
   ]
  },
  {
   "cell_type": "markdown",
   "metadata": {},
   "source": [
    "```{admonition} Activity 5\n",
    "\n",
    "Given: \n",
    "- numbers1 = [4, 5, 6]\n",
    "- numbers2 = (1, 2, 3)\n",
    "\n",
    "1. What's the data types for each of them?\n",
    "\n",
    "2. Can you change the value with index=1 to equal to \"10\" for both of them? If yes, write the code to change the value, if not, explain why.\n",
    "```"
   ]
  },
  {
   "cell_type": "code",
   "execution_count": null,
   "metadata": {},
   "outputs": [],
   "source": [
    "numbers1 = [4, 5, 6]\n",
    "numbers2 = (1, 2, 3)\n",
    "# write codes here"
   ]
  },
  {
   "cell_type": "markdown",
   "metadata": {},
   "source": [
    "See [solution for activity 5](section-label-2.5) at the end."
   ]
  },
  {
   "cell_type": "markdown",
   "metadata": {},
   "source": [
    "## Solutions"
   ]
  },
  {
   "cell_type": "markdown",
   "metadata": {},
   "source": [
    "(section-label-2.1)=\n",
    "### Activity 1"
   ]
  },
  {
   "cell_type": "code",
   "execution_count": null,
   "metadata": {},
   "outputs": [],
   "source": [
    "# uncomment the code below to get help for the .replace function on Jupyter\n",
    "#exa.replace?"
   ]
  },
  {
   "cell_type": "code",
   "execution_count": null,
   "metadata": {
    "tags": []
   },
   "outputs": [
    {
     "name": "stdout",
     "output_type": "stream",
     "text": [
      "thwas was an example\n",
      "this is an example\n",
      "this was an example\n"
     ]
    }
   ],
   "source": [
    "exa = \"this is an example\"\n",
    "\n",
    "print(exa.replace(\"is\", \"was\"))\n",
    "print(exa.replace(\"is\", \"was\", 0))\n",
    "print(exa.replace(\" is\", \" was\", 1))"
   ]
  },
  {
   "cell_type": "markdown",
   "metadata": {},
   "source": [
    "(section-label-2.2)=\n",
    "### Activity 2"
   ]
  },
  {
   "cell_type": "code",
   "execution_count": null,
   "metadata": {
    "tags": []
   },
   "outputs": [],
   "source": [
    "s = 'GEM 530'"
   ]
  },
  {
   "cell_type": "code",
   "execution_count": null,
   "metadata": {
    "scrolled": true,
    "tags": []
   },
   "outputs": [
    {
     "name": "stdout",
     "output_type": "stream",
     "text": [
      "3\n"
     ]
    }
   ],
   "source": [
    "print(s[-2])"
   ]
  },
  {
   "cell_type": "markdown",
   "metadata": {},
   "source": [
    "The output would be '3' since it starts from the last character and the -1 is 0 and -2 is next to it. "
   ]
  },
  {
   "cell_type": "code",
   "execution_count": null,
   "metadata": {
    "tags": []
   },
   "outputs": [
    {
     "name": "stdout",
     "output_type": "stream",
     "text": [
      " \n"
     ]
    }
   ],
   "source": [
    "print(s[3])"
   ]
  },
  {
   "cell_type": "markdown",
   "metadata": {},
   "source": [
    "The output would be ' ' since it starts from the first character count it as zero position."
   ]
  },
  {
   "cell_type": "markdown",
   "metadata": {},
   "source": [
    "(section-label-2.3)=\n",
    "### Activity 3"
   ]
  },
  {
   "cell_type": "code",
   "execution_count": null,
   "metadata": {
    "tags": []
   },
   "outputs": [
    {
     "data": {
      "text/plain": [
       "False"
      ]
     },
     "execution_count": 37,
     "metadata": {},
     "output_type": "execute_result"
    }
   ],
   "source": [
    "a = 2\n",
    "b = 4\n",
    "a not in range(b)"
   ]
  },
  {
   "cell_type": "markdown",
   "metadata": {},
   "source": [
    "(section-label-2.4)=\n",
    "### Activity 4"
   ]
  },
  {
   "cell_type": "code",
   "execution_count": null,
   "metadata": {
    "tags": []
   },
   "outputs": [
    {
     "data": {
      "text/plain": [
       "True"
      ]
     },
     "execution_count": 38,
     "metadata": {},
     "output_type": "execute_result"
    }
   ],
   "source": [
    "True and False or True"
   ]
  },
  {
   "cell_type": "markdown",
   "metadata": {},
   "source": [
    "Explanation of the above code:<br>\n",
    "True and False is False. Then, False or True is True"
   ]
  },
  {
   "cell_type": "code",
   "execution_count": null,
   "metadata": {
    "tags": []
   },
   "outputs": [
    {
     "data": {
      "text/plain": [
       "False"
      ]
     },
     "execution_count": 39,
     "metadata": {},
     "output_type": "execute_result"
    }
   ],
   "source": [
    "(True or False) and False"
   ]
  },
  {
   "cell_type": "markdown",
   "metadata": {},
   "source": [
    "(section-label-2.5)=\n",
    "### Activity 5"
   ]
  },
  {
   "cell_type": "code",
   "execution_count": null,
   "metadata": {
    "tags": []
   },
   "outputs": [
    {
     "name": "stdout",
     "output_type": "stream",
     "text": [
      "Type of numbers1 <class 'list'>\n",
      "Type of numbers2 <class 'tuple'>\n"
     ]
    }
   ],
   "source": [
    "# 1. data types\n",
    "numbers1 = [4, 5, 6]\n",
    "numbers2 = (1, 2, 3)\n",
    "print(\"Type of numbers1\", type(numbers1))\n",
    "print(\"Type of numbers2\",type(numbers2))"
   ]
  },
  {
   "cell_type": "code",
   "execution_count": null,
   "metadata": {
    "tags": []
   },
   "outputs": [
    {
     "name": "stdout",
     "output_type": "stream",
     "text": [
      "numbers1 [4, 9, 6]\n",
      "2\n"
     ]
    }
   ],
   "source": [
    "# 2. We can change the value for list (numbers1 here), but not for tuple (numbers2).\n",
    "numbers1[1] = 9 \n",
    "print(\"numbers1\", numbers1)\n",
    "\n",
    "print(numbers2[1])\n",
    "#numbers2[1] = 9 # uncomment this line to see what happen"
   ]
  }
 ],
 "metadata": {
  "kernelspec": {
   "display_name": "Python 3 (ipykernel)",
   "language": "python",
   "name": "python3"
  },
  "language_info": {
   "codemirror_mode": {
    "name": "ipython",
    "version": 3
   },
   "file_extension": ".py",
   "mimetype": "text/x-python",
   "name": "python",
   "nbconvert_exporter": "python",
   "pygments_lexer": "ipython3",
   "version": "3.6.5"
  },
  "toc": {
   "base_numbering": 1,
   "nav_menu": {},
   "number_sections": true,
   "sideBar": true,
   "skip_h1_title": false,
   "title_cell": "Table of Contents",
   "title_sidebar": "Contents",
   "toc_cell": false,
   "toc_position": {},
   "toc_section_display": true,
   "toc_window_display": true
  }
 },
 "nbformat": 4,
 "nbformat_minor": 4
}
